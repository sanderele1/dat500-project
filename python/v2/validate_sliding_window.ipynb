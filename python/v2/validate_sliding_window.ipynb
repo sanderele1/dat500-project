{
 "cells": [
  {
   "cell_type": "markdown",
   "id": "0c35e55c-5260-42c5-83c8-431d39ba3021",
   "metadata": {},
   "source": [
    "# Configuration"
   ]
  },
  {
   "cell_type": "code",
   "execution_count": 1,
   "id": "876d5466-4927-422a-8d07-5517b2c7876a",
   "metadata": {},
   "outputs": [],
   "source": [
    "input_file = \"hdfs:///files/salmonella/window.b64pickled\""
   ]
  },
  {
   "cell_type": "code",
   "execution_count": 2,
   "id": "f58a5249-d73c-4919-81ab-0d95122e7c08",
   "metadata": {},
   "outputs": [
    {
     "data": {
      "text/plain": [
       "'/usr/local/spark/python/pyspark'"
      ]
     },
     "execution_count": 2,
     "metadata": {},
     "output_type": "execute_result"
    }
   ],
   "source": [
    "import findspark\n",
    "findspark.init()\n",
    "findspark.find()"
   ]
  },
  {
   "cell_type": "code",
   "execution_count": 3,
   "id": "8146105d-61dd-4099-99ac-3957dba78cee",
   "metadata": {},
   "outputs": [
    {
     "name": "stderr",
     "output_type": "stream",
     "text": [
      "Setting default log level to \"WARN\".\n",
      "To adjust logging level use sc.setLogLevel(newLevel). For SparkR, use setLogLevel(newLevel).\n",
      "2022-04-21 11:25:09,437 WARN util.NativeCodeLoader: Unable to load native-hadoop library for your platform... using builtin-java classes where applicable\n",
      "2022-04-21 11:25:14,118 WARN yarn.Client: Neither spark.yarn.jars nor spark.yarn.archive is set, falling back to uploading libraries under SPARK_HOME.\n"
     ]
    }
   ],
   "source": [
    "from pyspark.sql import SparkSession\n",
    "\n",
    "spark = (SparkSession\n",
    "         .builder\n",
    "         .master(\"yarn\")\n",
    "         .appName(\"python-testing\")\n",
    "         .config(\"spark.executor.instances\", 16)\n",
    "         .config(\"spark.executor.memory\", \"1536m\")\n",
    "         #.config(\"spark.dynamicAllocation.enabled\", \"true\")\n",
    "         #.config(\"spark.executor.cores\", 1)\n",
    "         #.config(\"spark.dynamicAllocation.minExecutors\", 4)\n",
    "         #.config(\"spark.dynamicAllocation.maxExecutors\", 32)\n",
    "         #.config(\"spark.shuffle.service.enabled\", \"true\")\n",
    "         #.config(\"spark.shuffle.service.port\", 7337)\n",
    "         .getOrCreate())\n",
    "\n",
    "sc = spark.sparkContext"
   ]
  },
  {
   "cell_type": "code",
   "execution_count": 4,
   "id": "8da72d24-ded5-4385-86d9-0567b0d4532a",
   "metadata": {},
   "outputs": [
    {
     "name": "stderr",
     "output_type": "stream",
     "text": [
      "                                                                                \r"
     ]
    },
    {
     "data": {
      "text/plain": [
       "['gASVVgAAAAAAAABKmuAtAIxLVENDVENHQ0dBQVRHR1RDVEdBQUNDVEdHQUdDR0FUR0dUVENHQ0NDR0NUVFRUQVRDQUdDQUNDVFRUQ0NHR0NHVEdDQ0dHQUFHVENHlIaULg==']"
      ]
     },
     "execution_count": 4,
     "metadata": {},
     "output_type": "execute_result"
    }
   ],
   "source": [
    "pickledb64 = sc.textFile(input_file)\n",
    "pickledb64.take(1)"
   ]
  },
  {
   "cell_type": "code",
   "execution_count": 5,
   "id": "ff6b3e22-2e37-4538-af41-c88338f7f25a",
   "metadata": {},
   "outputs": [
    {
     "name": "stderr",
     "output_type": "stream",
     "text": [
      "                                                                                \r"
     ]
    },
    {
     "data": {
      "text/plain": [
       "[b'\\x80\\x04\\x95V\\x00\\x00\\x00\\x00\\x00\\x00\\x00J\\x9a\\xe0-\\x00\\x8cKTCCTCGCGAATGGTCTGAACCTGGAGCGATGGTTCGCCCGCTTTTATCAGCACCTTTCCGGCGTGCCGGAAGTCG\\x94\\x86\\x94.']"
      ]
     },
     "execution_count": 5,
     "metadata": {},
     "output_type": "execute_result"
    }
   ],
   "source": [
    "import base64\n",
    "pickled = pickledb64.map(lambda x: base64.b64decode(x))\n",
    "pickled.take(1)"
   ]
  },
  {
   "cell_type": "code",
   "execution_count": 6,
   "id": "281579fd-0602-4b07-a270-ba52174b5363",
   "metadata": {},
   "outputs": [
    {
     "name": "stderr",
     "output_type": "stream",
     "text": [
      "                                                                                \r"
     ]
    },
    {
     "data": {
      "text/plain": [
       "[(3006618,\n",
       "  'TCCTCGCGAATGGTCTGAACCTGGAGCGATGGTTCGCCCGCTTTTATCAGCACCTTTCCGGCGTGCCGGAAGTCG')]"
      ]
     },
     "execution_count": 6,
     "metadata": {},
     "output_type": "execute_result"
    }
   ],
   "source": [
    "import pickle\n",
    "values = pickled.map(lambda x: pickle.loads(x))\n",
    "values.take(1)"
   ]
  },
  {
   "cell_type": "code",
   "execution_count": 7,
   "id": "6c5199d4-540c-443b-9cbf-dee7c72526a4",
   "metadata": {},
   "outputs": [],
   "source": [
    "grouped = values.groupByKey().cache()"
   ]
  },
  {
   "cell_type": "code",
   "execution_count": 8,
   "id": "fabb7e84-45e7-4d2a-9826-5adf01253d15",
   "metadata": {},
   "outputs": [
    {
     "name": "stderr",
     "output_type": "stream",
     "text": [
      "                                                                                \r"
     ]
    },
    {
     "data": {
      "text/plain": [
       "[(642816, <pyspark.resultiterable.ResultIterable at 0x7f8e3c0b7eb0>)]"
      ]
     },
     "execution_count": 8,
     "metadata": {},
     "output_type": "execute_result"
    }
   ],
   "source": [
    "grouped.take(1)"
   ]
  },
  {
   "cell_type": "code",
   "execution_count": 9,
   "id": "556f9abf-4e63-4b69-aa1a-f6744df01913",
   "metadata": {},
   "outputs": [
    {
     "data": {
      "text/plain": [
       "[(642816, 1)]"
      ]
     },
     "execution_count": 9,
     "metadata": {},
     "output_type": "execute_result"
    }
   ],
   "source": [
    "lengths = grouped.mapValues(lambda x: len(x))\n",
    "lengths.take(1)"
   ]
  },
  {
   "cell_type": "code",
   "execution_count": 10,
   "id": "7e9477d6-5de0-477f-a4ea-a4c468d5b1d5",
   "metadata": {},
   "outputs": [
    {
     "name": "stderr",
     "output_type": "stream",
     "text": [
      "                                                                                \r"
     ]
    },
    {
     "data": {
      "text/plain": [
       "[]"
      ]
     },
     "execution_count": 10,
     "metadata": {},
     "output_type": "execute_result"
    }
   ],
   "source": [
    "lengths.filter(lambda x: x[1] > 1).take(5)"
   ]
  },
  {
   "cell_type": "code",
   "execution_count": null,
   "id": "34ef3c7e-8df1-4795-9913-3ed506e2f780",
   "metadata": {},
   "outputs": [],
   "source": []
  }
 ],
 "metadata": {
  "kernelspec": {
   "display_name": "Python 3 (ipykernel)",
   "language": "python",
   "name": "python3"
  },
  "language_info": {
   "codemirror_mode": {
    "name": "ipython",
    "version": 3
   },
   "file_extension": ".py",
   "mimetype": "text/x-python",
   "name": "python",
   "nbconvert_exporter": "python",
   "pygments_lexer": "ipython3",
   "version": "3.8.10"
  }
 },
 "nbformat": 4,
 "nbformat_minor": 5
}
