{
 "cells": [
  {
   "cell_type": "markdown",
   "id": "61fd10c7-0b5a-47d4-a397-b575483ada5f",
   "metadata": {},
   "source": [
    "# https://github.com/apache/hbase/blob/master/hbase-thrift/src/main/resources/org/apache/hadoop/hbase/thrift2/hbase.thrift"
   ]
  },
  {
   "cell_type": "code",
   "execution_count": 50,
   "id": "3c55695d-af1c-48f9-877d-707cfe9ce24b",
   "metadata": {},
   "outputs": [],
   "source": [
    "import thrift as t\n",
    "import hbase_thrift.hbase as hb\n",
    "\n",
    "from hbase_thrift.hbase import THBaseService\n",
    "from hbase_thrift.hbase.ttypes import *\n",
    "\n",
    "from thrift.transport import *\n",
    "from thrift.protocol import *"
   ]
  },
  {
   "cell_type": "markdown",
   "id": "88014050-3e00-4e05-8e4d-a6fe958f7b30",
   "metadata": {},
   "source": [
    "# Prototyping "
   ]
  },
  {
   "cell_type": "code",
   "execution_count": 2,
   "id": "4731f508-e31b-421e-ba76-d08584f6d3a2",
   "metadata": {},
   "outputs": [],
   "source": [
    "socket = TSocket.TSocket(\"localhost\", 9090)\n",
    "transport = TTransport.TBufferedTransport(socket)\n",
    "protocol = TBinaryProtocol.TBinaryProtocol(transport)\n",
    "client = THBaseService.Client(protocol)"
   ]
  },
  {
   "cell_type": "code",
   "execution_count": 3,
   "id": "a552b618-1f7d-49e7-ab5c-9f7ee5d810fa",
   "metadata": {},
   "outputs": [],
   "source": [
    "transport.open()\n",
    "# Check Thrift Server Type\n",
    "serverType = client.getThriftServerType()\n",
    "if serverType != TThriftServerType.TWO:\n",
    "    raise Exception(\"Mismatch between client and server, server type is %s\" % serverType)"
   ]
  },
  {
   "cell_type": "code",
   "execution_count": 4,
   "id": "77bc3756-523b-45cd-b6e5-611662b603c6",
   "metadata": {},
   "outputs": [],
   "source": [
    "c1 = TColumnFamilyDescriptor(name=b'c1')\n",
    "c2 = TColumnFamilyDescriptor(name=b'c2')\n",
    "name = TTableName(qualifier=b'test_table_thriftv2')\n",
    "tt = TTableDescriptor(tableName=name, columns=[c1, c2])"
   ]
  },
  {
   "cell_type": "code",
   "execution_count": 5,
   "id": "589de021-0bbf-4fa1-864e-1e649b5c200c",
   "metadata": {},
   "outputs": [],
   "source": [
    "#client.createTable(tt, None)"
   ]
  },
  {
   "cell_type": "code",
   "execution_count": 22,
   "id": "8ba59783-4736-4020-88b9-d44a12367013",
   "metadata": {},
   "outputs": [
    {
     "ename": "NameError",
     "evalue": "name 'client' is not defined",
     "output_type": "error",
     "traceback": [
      "\u001b[0;31m---------------------------------------------------------------------------\u001b[0m",
      "\u001b[0;31mNameError\u001b[0m                                 Traceback (most recent call last)",
      "Input \u001b[0;32mIn [22]\u001b[0m, in \u001b[0;36m<module>\u001b[0;34m\u001b[0m\n\u001b[0;32m----> 1\u001b[0m \u001b[43mclient\u001b[49m\u001b[38;5;241m.\u001b[39mgetTableNamesByNamespace(\u001b[38;5;124m'\u001b[39m\u001b[38;5;124m'\u001b[39m)\n",
      "\u001b[0;31mNameError\u001b[0m: name 'client' is not defined"
     ]
    }
   ],
   "source": [
    "client.getTableNamesByNamespace('')"
   ]
  },
  {
   "cell_type": "code",
   "execution_count": 7,
   "id": "e131eb74-b355-48e1-baa8-56a9eb9a5923",
   "metadata": {},
   "outputs": [],
   "source": [
    "transport.close()"
   ]
  },
  {
   "cell_type": "markdown",
   "id": "8034b14d-c5b7-4b11-92a2-051615fee1f2",
   "metadata": {},
   "source": [
    "# Functional client"
   ]
  },
  {
   "cell_type": "code",
   "execution_count": 1,
   "id": "ed8c6d99-526c-4b8d-a668-5f581fe6a203",
   "metadata": {},
   "outputs": [],
   "source": [
    "class HbaseConnection:\n",
    "    def __init__(self, address, port):\n",
    "        self.address = address\n",
    "        self.port = port\n",
    "        \n",
    "        self._socket = None\n",
    "        self._client = None\n",
    "        \n",
    "    def _create_transport(self):\n",
    "        if self._socket != None and self._socket.isOpen():\n",
    "            try:\n",
    "                self._socket.close()\n",
    "            except:\n",
    "                pass\n",
    "        \n",
    "        self._socket = TSocket.TSocket(self.address, self.port)\n",
    "        self._transport = TTransport.TBufferedTransport(self._socket)\n",
    "        self._protocol = TBinaryProtocol.TBinaryProtocol(self._transport)\n",
    "        self._client = THBaseService.Client(self._protocol)\n",
    "        self._transport.open()\n",
    "        \n",
    "    def __enter__(self):\n",
    "        if self._client == None or not self._socket.isOpen():\n",
    "            self._create_transport()\n",
    "        \n",
    "        return self._client\n",
    "    \n",
    "    def __exit__(self, _, __, ___):\n",
    "        pass"
   ]
  },
  {
   "cell_type": "code",
   "execution_count": 2,
   "id": "5cae7c0e-6394-4a0e-ba91-a77d103567ff",
   "metadata": {},
   "outputs": [],
   "source": [
    "hbase = HbaseConnection(\"datanode1\", 9090)"
   ]
  },
  {
   "cell_type": "code",
   "execution_count": null,
   "id": "d33931aa-5837-457e-a912-fd6042d709ac",
   "metadata": {},
   "outputs": [],
   "source": [
    "with hbase."
   ]
  },
  {
   "cell_type": "code",
   "execution_count": 3,
   "id": "876807a7-d743-4f2e-97e1-1354e433be42",
   "metadata": {},
   "outputs": [
    {
     "ename": "NameError",
     "evalue": "name 'TSocket' is not defined",
     "output_type": "error",
     "traceback": [
      "\u001b[0;31m---------------------------------------------------------------------------\u001b[0m",
      "\u001b[0;31mNameError\u001b[0m                                 Traceback (most recent call last)",
      "Input \u001b[0;32mIn [3]\u001b[0m, in \u001b[0;36m<module>\u001b[0;34m\u001b[0m\n\u001b[1;32m      1\u001b[0m \u001b[38;5;66;03m## Deletes all tables in databse (except for hbase internal tables)\u001b[39;00m\n\u001b[0;32m----> 2\u001b[0m \u001b[38;5;28;01mwith\u001b[39;00m hbase \u001b[38;5;28;01mas\u001b[39;00m c:\n\u001b[1;32m      3\u001b[0m     \u001b[38;5;28;01mfor\u001b[39;00m table \u001b[38;5;129;01min\u001b[39;00m \u001b[38;5;28mfilter\u001b[39m(\u001b[38;5;28;01mlambda\u001b[39;00m x: x\u001b[38;5;241m.\u001b[39mns \u001b[38;5;241m!=\u001b[39m \u001b[38;5;124mb\u001b[39m\u001b[38;5;124m'\u001b[39m\u001b[38;5;124mhbase\u001b[39m\u001b[38;5;124m'\u001b[39m, tables):\n\u001b[1;32m      4\u001b[0m         \u001b[38;5;28;01mif\u001b[39;00m c\u001b[38;5;241m.\u001b[39misTableEnabled(table):\n",
      "Input \u001b[0;32mIn [1]\u001b[0m, in \u001b[0;36mHbaseConnection.__enter__\u001b[0;34m(self)\u001b[0m\n\u001b[1;32m     22\u001b[0m \u001b[38;5;28;01mdef\u001b[39;00m \u001b[38;5;21m__enter__\u001b[39m(\u001b[38;5;28mself\u001b[39m):\n\u001b[1;32m     23\u001b[0m     \u001b[38;5;28;01mif\u001b[39;00m \u001b[38;5;28mself\u001b[39m\u001b[38;5;241m.\u001b[39m_client \u001b[38;5;241m==\u001b[39m \u001b[38;5;28;01mNone\u001b[39;00m \u001b[38;5;129;01mor\u001b[39;00m \u001b[38;5;129;01mnot\u001b[39;00m \u001b[38;5;28mself\u001b[39m\u001b[38;5;241m.\u001b[39m_socket\u001b[38;5;241m.\u001b[39misOpen():\n\u001b[0;32m---> 24\u001b[0m         \u001b[38;5;28;43mself\u001b[39;49m\u001b[38;5;241;43m.\u001b[39;49m\u001b[43m_create_transport\u001b[49m\u001b[43m(\u001b[49m\u001b[43m)\u001b[49m\n\u001b[1;32m     26\u001b[0m     \u001b[38;5;28;01mreturn\u001b[39;00m \u001b[38;5;28mself\u001b[39m\u001b[38;5;241m.\u001b[39m_client\n",
      "Input \u001b[0;32mIn [1]\u001b[0m, in \u001b[0;36mHbaseConnection._create_transport\u001b[0;34m(self)\u001b[0m\n\u001b[1;32m     13\u001b[0m     \u001b[38;5;28;01mexcept\u001b[39;00m:\n\u001b[1;32m     14\u001b[0m         \u001b[38;5;28;01mpass\u001b[39;00m\n\u001b[0;32m---> 16\u001b[0m \u001b[38;5;28mself\u001b[39m\u001b[38;5;241m.\u001b[39m_socket \u001b[38;5;241m=\u001b[39m \u001b[43mTSocket\u001b[49m\u001b[38;5;241m.\u001b[39mTSocket(\u001b[38;5;28mself\u001b[39m\u001b[38;5;241m.\u001b[39maddress, \u001b[38;5;28mself\u001b[39m\u001b[38;5;241m.\u001b[39mport)\n\u001b[1;32m     17\u001b[0m \u001b[38;5;28mself\u001b[39m\u001b[38;5;241m.\u001b[39m_transport \u001b[38;5;241m=\u001b[39m TTransport\u001b[38;5;241m.\u001b[39mTBufferedTransport(\u001b[38;5;28mself\u001b[39m\u001b[38;5;241m.\u001b[39m_socket)\n\u001b[1;32m     18\u001b[0m \u001b[38;5;28mself\u001b[39m\u001b[38;5;241m.\u001b[39m_protocol \u001b[38;5;241m=\u001b[39m TBinaryProtocol\u001b[38;5;241m.\u001b[39mTBinaryProtocol(\u001b[38;5;28mself\u001b[39m\u001b[38;5;241m.\u001b[39m_transport)\n",
      "\u001b[0;31mNameError\u001b[0m: name 'TSocket' is not defined"
     ]
    }
   ],
   "source": [
    "## Deletes all tables in databse (except for hbase internal tables)\n",
    "with hbase as c:\n",
    "    for table in filter(lambda x: x.ns != b'hbase', tables):\n",
    "        if c.isTableEnabled(table):\n",
    "            c.disableTable(table)\n",
    "        c.deleteTable(table)"
   ]
  },
  {
   "cell_type": "code",
   "execution_count": 67,
   "id": "2c2b6b9f-da8f-438d-8d50-f46c060eae80",
   "metadata": {},
   "outputs": [
    {
     "ename": "TIOError",
     "evalue": "TIOError(message='org.apache.hadoop.hbase.TableExistsException: test_table_thriftv2\\n\\tat org.apache.hadoop.hbase.master.procedure.CreateTableProcedure.prepareCreate(CreateTableProcedure.java:246)\\n\\tat org.apache.hadoop.hbase.master.procedure.CreateTableProcedure.executeFromState(CreateTableProcedure.java:88)\\n\\tat org.apache.hadoop.hbase.master.procedure.CreateTableProcedure.executeFromState(CreateTableProcedure.java:54)\\n\\tat org.apache.hadoop.hbase.procedure2.StateMachineProcedure.execute(StateMachineProcedure.java:191)\\n\\tat org.apache.hadoop.hbase.procedure2.Procedure.doExecute(Procedure.java:956)\\n\\tat org.apache.hadoop.hbase.procedure2.ProcedureExecutor.execProcedure(ProcedureExecutor.java:1665)\\n\\tat org.apache.hadoop.hbase.procedure2.ProcedureExecutor.executeProcedure(ProcedureExecutor.java:1412)\\n\\tat org.apache.hadoop.hbase.procedure2.ProcedureExecutor.access$1100(ProcedureExecutor.java:78)\\n\\tat org.apache.hadoop.hbase.procedure2.ProcedureExecutor$WorkerThread.run(ProcedureExecutor.java:1979)\\n', canRetry=False)",
     "output_type": "error",
     "traceback": [
      "\u001b[0;31m---------------------------------------------------------------------------\u001b[0m",
      "\u001b[0;31mTIOError\u001b[0m                                  Traceback (most recent call last)",
      "Input \u001b[0;32mIn [67]\u001b[0m, in \u001b[0;36m<module>\u001b[0;34m\u001b[0m\n\u001b[1;32m      4\u001b[0m name \u001b[38;5;241m=\u001b[39m TTableName(qualifier\u001b[38;5;241m=\u001b[39m\u001b[38;5;124mb\u001b[39m\u001b[38;5;124m'\u001b[39m\u001b[38;5;124mtest_table_thriftv2\u001b[39m\u001b[38;5;124m'\u001b[39m)\n\u001b[1;32m      5\u001b[0m tt \u001b[38;5;241m=\u001b[39m TTableDescriptor(tableName\u001b[38;5;241m=\u001b[39mname, columns\u001b[38;5;241m=\u001b[39m[c1, c2])\n\u001b[0;32m----> 6\u001b[0m \u001b[43mc\u001b[49m\u001b[38;5;241;43m.\u001b[39;49m\u001b[43mcreateTable\u001b[49m\u001b[43m(\u001b[49m\u001b[43mtt\u001b[49m\u001b[43m,\u001b[49m\u001b[43m \u001b[49m\u001b[38;5;28;43;01mNone\u001b[39;49;00m\u001b[43m)\u001b[49m\n",
      "File \u001b[0;32m~/project/python/v2/hbase_thrift/hbase/THBaseService.py:1803\u001b[0m, in \u001b[0;36mClient.createTable\u001b[0;34m(self, desc, splitKeys)\u001b[0m\n\u001b[1;32m   1791\u001b[0m \u001b[38;5;124;03m\"\"\"\u001b[39;00m\n\u001b[1;32m   1792\u001b[0m \u001b[38;5;124;03mCreates a new table with an initial set of empty regions defined by the specified split keys.\u001b[39;00m\n\u001b[1;32m   1793\u001b[0m \u001b[38;5;124;03mThe total number of regions created will be the number of split keys plus one. Synchronous\u001b[39;00m\n\u001b[0;32m   (...)\u001b[0m\n\u001b[1;32m   1800\u001b[0m \n\u001b[1;32m   1801\u001b[0m \u001b[38;5;124;03m\"\"\"\u001b[39;00m\n\u001b[1;32m   1802\u001b[0m \u001b[38;5;28mself\u001b[39m\u001b[38;5;241m.\u001b[39msend_createTable(desc, splitKeys)\n\u001b[0;32m-> 1803\u001b[0m \u001b[38;5;28;43mself\u001b[39;49m\u001b[38;5;241;43m.\u001b[39;49m\u001b[43mrecv_createTable\u001b[49m\u001b[43m(\u001b[49m\u001b[43m)\u001b[49m\n",
      "File \u001b[0;32m~/project/python/v2/hbase_thrift/hbase/THBaseService.py:1826\u001b[0m, in \u001b[0;36mClient.recv_createTable\u001b[0;34m(self)\u001b[0m\n\u001b[1;32m   1824\u001b[0m iprot\u001b[38;5;241m.\u001b[39mreadMessageEnd()\n\u001b[1;32m   1825\u001b[0m \u001b[38;5;28;01mif\u001b[39;00m result\u001b[38;5;241m.\u001b[39mio \u001b[38;5;129;01mis\u001b[39;00m \u001b[38;5;129;01mnot\u001b[39;00m \u001b[38;5;28;01mNone\u001b[39;00m:\n\u001b[0;32m-> 1826\u001b[0m     \u001b[38;5;28;01mraise\u001b[39;00m result\u001b[38;5;241m.\u001b[39mio\n\u001b[1;32m   1827\u001b[0m \u001b[38;5;28;01mreturn\u001b[39;00m\n",
      "\u001b[0;31mTIOError\u001b[0m: TIOError(message='org.apache.hadoop.hbase.TableExistsException: test_table_thriftv2\\n\\tat org.apache.hadoop.hbase.master.procedure.CreateTableProcedure.prepareCreate(CreateTableProcedure.java:246)\\n\\tat org.apache.hadoop.hbase.master.procedure.CreateTableProcedure.executeFromState(CreateTableProcedure.java:88)\\n\\tat org.apache.hadoop.hbase.master.procedure.CreateTableProcedure.executeFromState(CreateTableProcedure.java:54)\\n\\tat org.apache.hadoop.hbase.procedure2.StateMachineProcedure.execute(StateMachineProcedure.java:191)\\n\\tat org.apache.hadoop.hbase.procedure2.Procedure.doExecute(Procedure.java:956)\\n\\tat org.apache.hadoop.hbase.procedure2.ProcedureExecutor.execProcedure(ProcedureExecutor.java:1665)\\n\\tat org.apache.hadoop.hbase.procedure2.ProcedureExecutor.executeProcedure(ProcedureExecutor.java:1412)\\n\\tat org.apache.hadoop.hbase.procedure2.ProcedureExecutor.access$1100(ProcedureExecutor.java:78)\\n\\tat org.apache.hadoop.hbase.procedure2.ProcedureExecutor$WorkerThread.run(ProcedureExecutor.java:1979)\\n', canRetry=False)"
     ]
    }
   ],
   "source": [
    "with hbase as c:\n",
    "    c1 = TColumnFamilyDescriptor(name=b'c1')\n",
    "    c2 = TColumnFamilyDescriptor(name=b'c2')\n",
    "    name = TTableName(qualifier=b'test_table_thriftv2')\n",
    "    tt = TTableDescriptor(tableName=name, columns=[c1, c2])\n",
    "    c.createTable(tt, None)"
   ]
  },
  {
   "cell_type": "code",
   "execution_count": 26,
   "id": "8bb60762-99e2-4ecc-b3fc-fc6b43cd2ca2",
   "metadata": {},
   "outputs": [
    {
     "data": {
      "text/plain": [
       "[TTableName(ns=b'default', qualifier=b'test_table_thriftv2'),\n",
       " TTableName(ns=b'hbase', qualifier=b'meta'),\n",
       " TTableName(ns=b'hbase', qualifier=b'namespace')]"
      ]
     },
     "execution_count": 26,
     "metadata": {},
     "output_type": "execute_result"
    }
   ],
   "source": [
    "with hbase as c:\n",
    "    tables = c.getTableNamesByNamespace('')\n",
    "tables"
   ]
  },
  {
   "cell_type": "code",
   "execution_count": 30,
   "id": "dddfdd52-9b0e-483b-a1a1-7d26047f48ea",
   "metadata": {},
   "outputs": [],
   "source": []
  },
  {
   "cell_type": "code",
   "execution_count": 40,
   "id": "48071fbb-6d1a-4019-b2de-73343577c8fd",
   "metadata": {},
   "outputs": [],
   "source": [
    "col1 = TColumnValue(family=b'c1', qualifier=b'prefix2', value=b'uhhhh')\n",
    "put = TPut(row=b'hello row', columnValues=[col1])\n",
    "\n",
    "with hbase as c:\n",
    "    c.put(b'test_table_thriftv2', put)"
   ]
  },
  {
   "cell_type": "code",
   "execution_count": 44,
   "id": "7785af3c-6d3a-48a7-9816-fec2e04bdf63",
   "metadata": {},
   "outputs": [
    {
     "data": {
      "text/plain": [
       "TResult(row=b'hello row', columnValues=[TColumnValue(family=b'c1', qualifier=b'prefix', value=b'antotha one', timestamp=1650205432804, tags=None, type=4), TColumnValue(family=b'c1', qualifier=b'prefix2', value=b'uhhhh', timestamp=1650206736685, tags=None, type=4)], stale=False, partial=False)"
      ]
     },
     "execution_count": 44,
     "metadata": {},
     "output_type": "execute_result"
    }
   ],
   "source": [
    "with hbase as c:\n",
    "    v = c.get(b'test_table_thriftv2', TGet(row=b'hello row'))\n",
    "v"
   ]
  },
  {
   "cell_type": "code",
   "execution_count": 56,
   "id": "973c48b8-7cbe-4162-9df7-0fa1db15dd55",
   "metadata": {},
   "outputs": [],
   "source": [
    "with hbase as c:\n",
    "    col1 = TColumnValue(family=b'c1', qualifier=b'prefix2', value=b'uhhhh')\n",
    "    put = TPut(row=b'anotha row', columnValues=[col1])\n",
    "    \n",
    "    col2 = TColumnValue(family=b'c2', qualifier=b'prefix4', value=b'adaaaaaa')\n",
    "    put2 = TPut(row=b'not row3', columnValues=[col2])\n",
    "    \n",
    "    r = c.putMultiple(b'test_table_thriftv2', [put, put2])\n",
    "r"
   ]
  },
  {
   "cell_type": "code",
   "execution_count": 57,
   "id": "858d1a88-258f-430f-a47f-e8d3a1234b66",
   "metadata": {},
   "outputs": [
    {
     "data": {
      "text/plain": [
       "[TResult(row=b'hello row', columnValues=[TColumnValue(family=b'c1', qualifier=b'prefix', value=b'antotha one', timestamp=1650205432804, tags=None, type=4), TColumnValue(family=b'c1', qualifier=b'prefix2', value=b'uhhhh', timestamp=1650206736685, tags=None, type=4)], stale=False, partial=False),\n",
       " TResult(row=b'hello row3', columnValues=[TColumnValue(family=b'c2', qualifier=b'prefix4', value=b'adaaaaaa', timestamp=1650206736685, tags=None, type=4)], stale=False, partial=False)]"
      ]
     },
     "execution_count": 57,
     "metadata": {},
     "output_type": "execute_result"
    }
   ],
   "source": [
    "with hbase as c:\n",
    "    r = c.getMultiple(b'test_table_thriftv2', [TGet(row=b'hello row'), TGet(row=b'hello row3')])\n",
    "r"
   ]
  },
  {
   "cell_type": "code",
   "execution_count": 61,
   "id": "feaa9767-c046-417d-b5fb-cb03900fe1c5",
   "metadata": {},
   "outputs": [
    {
     "data": {
      "text/plain": [
       "[[TResult(row=b'hello row', columnValues=[TColumnValue(family=b'c1', qualifier=b'prefix', value=b'antotha one', timestamp=1650205432804, tags=None, type=4), TColumnValue(family=b'c1', qualifier=b'prefix2', value=b'uhhhh', timestamp=1650206736685, tags=None, type=4)], stale=False, partial=False)],\n",
       " [TResult(row=b'hello row3', columnValues=[TColumnValue(family=b'c2', qualifier=b'prefix4', value=b'adaaaaaa', timestamp=1650206736685, tags=None, type=4)], stale=False, partial=False)],\n",
       " []]"
      ]
     },
     "execution_count": 61,
     "metadata": {},
     "output_type": "execute_result"
    }
   ],
   "source": [
    "# filterBytes: https://hbase.apache.org/devapidocs/src-html/org/apache/hadoop/hbase/thrift2/ThriftUtilities.html#line.617\n",
    "# So it's a protobuf serialized something\n",
    "\n",
    "with hbase as c:\n",
    "    s = TScan(filterString=b'PrefixFilter(\\'hello\\')')\n",
    "    #s = TScan(reversed = True)\n",
    "    scanner = c.openScanner(b'test_table_thriftv2', tscan=s)\n",
    "    \n",
    "    readRows = None\n",
    "    rows = []\n",
    "    while readRows == None or len(readRows) == 1: \n",
    "        readRows = c.getScannerRows(scanner, numRows=1)\n",
    "        rows.append(readRows)\n",
    "    c.closeScanner(scanner)\n",
    "    \n",
    "rows"
   ]
  },
  {
   "cell_type": "code",
   "execution_count": 63,
   "id": "751928c1-be20-48df-8d60-a31b48289acd",
   "metadata": {},
   "outputs": [
    {
     "data": {
      "text/plain": [
       "False"
      ]
     },
     "execution_count": 63,
     "metadata": {},
     "output_type": "execute_result"
    }
   ],
   "source": [
    "with hbase as c:\n",
    "    r = c.tableExists(TTableName(qualifier=b'nope'))\n",
    "r"
   ]
  },
  {
   "cell_type": "code",
   "execution_count": 64,
   "id": "434a5620-9228-43c2-b778-c725d0155b6e",
   "metadata": {},
   "outputs": [
    {
     "data": {
      "text/plain": [
       "True"
      ]
     },
     "execution_count": 64,
     "metadata": {},
     "output_type": "execute_result"
    }
   ],
   "source": [
    "with hbase as c:\n",
    "    r = c.tableExists(TTableName(qualifier=b'test_table_thriftv2'))\n",
    "r"
   ]
  },
  {
   "cell_type": "code",
   "execution_count": 69,
   "id": "f86f79e6-88e6-4fc1-94ad-fc17caf5fd90",
   "metadata": {},
   "outputs": [
    {
     "data": {
      "text/plain": [
       "True"
      ]
     },
     "execution_count": 69,
     "metadata": {},
     "output_type": "execute_result"
    }
   ],
   "source": [
    "with hbase as c:\n",
    "    r = c.exists(b'test_table_thriftv2', TGet(row=b'hello row'))\n",
    "r"
   ]
  },
  {
   "cell_type": "code",
   "execution_count": null,
   "id": "8bdc3d2b-fc31-44d2-937e-ba1ec98aa73d",
   "metadata": {},
   "outputs": [],
   "source": []
  }
 ],
 "metadata": {
  "kernelspec": {
   "display_name": "Python 3 (ipykernel)",
   "language": "python",
   "name": "python3"
  },
  "language_info": {
   "codemirror_mode": {
    "name": "ipython",
    "version": 3
   },
   "file_extension": ".py",
   "mimetype": "text/x-python",
   "name": "python",
   "nbconvert_exporter": "python",
   "pygments_lexer": "ipython3",
   "version": "3.8.10"
  }
 },
 "nbformat": 4,
 "nbformat_minor": 5
}
