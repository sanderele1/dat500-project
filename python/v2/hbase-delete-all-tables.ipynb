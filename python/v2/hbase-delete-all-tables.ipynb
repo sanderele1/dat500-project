{
 "cells": [
  {
   "cell_type": "markdown",
   "id": "aa806519-8c4d-4b69-86af-4724b4364b3f",
   "metadata": {},
   "source": [
    "# Configuration\n",
    "This notebook deletes all tables in the entire hbase database. Use with caution."
   ]
  },
  {
   "cell_type": "code",
   "execution_count": 2,
   "id": "6c620d4b-08a5-43c7-b2f4-51ea5a88823e",
   "metadata": {},
   "outputs": [],
   "source": [
    "host = \"datanode1\""
   ]
  },
  {
   "cell_type": "code",
   "execution_count": 3,
   "id": "9970495c-cced-4224-abd2-02fa50b7d3e4",
   "metadata": {},
   "outputs": [],
   "source": [
    "import hbase_connector"
   ]
  },
  {
   "cell_type": "code",
   "execution_count": 4,
   "id": "d2db401e-5888-4b5b-9779-6086520734ae",
   "metadata": {},
   "outputs": [],
   "source": [
    "hbase = hbase_connector.HbaseConnection(host=host, port=9090)"
   ]
  },
  {
   "cell_type": "code",
   "execution_count": 9,
   "id": "a26f6699-0a2e-4c11-b844-79abfdab13fb",
   "metadata": {},
   "outputs": [],
   "source": [
    "with hbase as c:\n",
    "    tables = c.getTableNamesByNamespace('')"
   ]
  },
  {
   "cell_type": "code",
   "execution_count": 8,
   "id": "21294600-c49c-4378-a8db-c91962d31642",
   "metadata": {},
   "outputs": [],
   "source": [
    "## Deletes all tables in databse (except for hbase internal tables)\n",
    "with hbase as c:\n",
    "    for table in filter(lambda x: x.ns != b'hbase', tables):\n",
    "#        if c.isTableEnabled(table):\n",
    "#            c.disableTable(table)\n",
    "#        c.deleteTable(table)"
   ]
  },
  {
   "cell_type": "code",
   "execution_count": null,
   "id": "11644f2f-02a6-4b2e-9929-03800a21e417",
   "metadata": {},
   "outputs": [],
   "source": []
  }
 ],
 "metadata": {
  "kernelspec": {
   "display_name": "Python 3 (ipykernel)",
   "language": "python",
   "name": "python3"
  },
  "language_info": {
   "codemirror_mode": {
    "name": "ipython",
    "version": 3
   },
   "file_extension": ".py",
   "mimetype": "text/x-python",
   "name": "python",
   "nbconvert_exporter": "python",
   "pygments_lexer": "ipython3",
   "version": "3.8.10"
  }
 },
 "nbformat": 4,
 "nbformat_minor": 5
}
