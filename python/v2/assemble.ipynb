{
 "cells": [
  {
   "cell_type": "code",
   "execution_count": 1,
   "id": "3d5bbaa2-9b45-439b-a0a5-ece841e617cd",
   "metadata": {},
   "outputs": [
    {
     "data": {
      "text/plain": [
       "'/usr/local/spark/python/pyspark'"
      ]
     },
     "execution_count": 1,
     "metadata": {},
     "output_type": "execute_result"
    }
   ],
   "source": [
    "import findspark\n",
    "findspark.init()\n",
    "findspark.find()"
   ]
  },
  {
   "cell_type": "code",
   "execution_count": 2,
   "id": "a4223748-df87-49a6-a3ae-60b829ced17b",
   "metadata": {},
   "outputs": [
    {
     "name": "stderr",
     "output_type": "stream",
     "text": [
      "Setting default log level to \"WARN\".\n",
      "To adjust logging level use sc.setLogLevel(newLevel). For SparkR, use setLogLevel(newLevel).\n",
      "2022-04-20 14:13:14,408 WARN util.NativeCodeLoader: Unable to load native-hadoop library for your platform... using builtin-java classes where applicable\n",
      "2022-04-20 14:13:19,048 WARN yarn.Client: Neither spark.yarn.jars nor spark.yarn.archive is set, falling back to uploading libraries under SPARK_HOME.\n"
     ]
    },
    {
     "data": {
      "text/html": [
       "\n",
       "        <div>\n",
       "            <p><b>SparkContext</b></p>\n",
       "\n",
       "            <p><a href=\"http://namenode:4040\">Spark UI</a></p>\n",
       "\n",
       "            <dl>\n",
       "              <dt>Version</dt>\n",
       "                <dd><code>v3.2.0</code></dd>\n",
       "              <dt>Master</dt>\n",
       "                <dd><code>yarn</code></dd>\n",
       "              <dt>AppName</dt>\n",
       "                <dd><code>python-testing</code></dd>\n",
       "            </dl>\n",
       "        </div>\n",
       "        "
      ],
      "text/plain": [
       "<SparkContext master=yarn appName=python-testing>"
      ]
     },
     "execution_count": 2,
     "metadata": {},
     "output_type": "execute_result"
    }
   ],
   "source": [
    "from pyspark.sql import SparkSession\n",
    "\n",
    "spark = (SparkSession\n",
    "         .builder\n",
    "         .master(\"yarn\")\n",
    "         .appName(\"python-testing\")\n",
    "         .config(\"spark.executor.instances\", 1)\n",
    "         .config(\"spark.executor.memory\", \"1g\")\n",
    "         .getOrCreate())\n",
    "sc = spark.sparkContext\n",
    "sc"
   ]
  },
  {
   "cell_type": "code",
   "execution_count": 3,
   "id": "ad0c95b3-d772-4c01-b712-d4b75d97ab51",
   "metadata": {},
   "outputs": [
    {
     "name": "stderr",
     "output_type": "stream",
     "text": [
      "                                                                                \r"
     ]
    },
    {
     "data": {
      "text/plain": [
       "[(0,\n",
       "  'TGCCGNCCTGAGCGAAAGCCTGCTGGAAGAAGTAGCTTCGCTGGTGGAATGGCCGGTGGTATTGACGGCGAAATT')]"
      ]
     },
     "execution_count": 3,
     "metadata": {},
     "output_type": "execute_result"
    }
   ],
   "source": [
    "reads = sc.textFile('hdfs:///files/salmonella/SRR15404285.fasta').filter(lambda x: not x.startswith('>')).zipWithIndex().map(lambda x: (x[1], x[0]))\n",
    "reads.take(1)"
   ]
  },
  {
   "cell_type": "code",
   "execution_count": 4,
   "id": "65142364-c495-420d-848a-297d966ac37c",
   "metadata": {},
   "outputs": [
    {
     "name": "stderr",
     "output_type": "stream",
     "text": [
      "                                                                                \r"
     ]
    },
    {
     "data": {
      "text/plain": [
       "2912309"
      ]
     },
     "execution_count": 4,
     "metadata": {},
     "output_type": "execute_result"
    }
   ],
   "source": [
    "reads.count()"
   ]
  },
  {
   "cell_type": "code",
   "execution_count": 57,
   "id": "3723fbd0-c2b5-49cb-8834-eeaedb21d3fd",
   "metadata": {},
   "outputs": [
    {
     "data": {
      "text/plain": [
       "75"
      ]
     },
     "execution_count": 57,
     "metadata": {},
     "output_type": "execute_result"
    }
   ],
   "source": [
    "len('TGCCGNCCTGAGCGAAAGCCTGCTGGAAGAAGTAGCTTCGCTGGTGGAATGGCCGGTGGTATTGACGGCGAAATT')"
   ]
  },
  {
   "cell_type": "code",
   "execution_count": 5,
   "id": "2dcc3283-5a2e-4f71-b976-fe4e94035d7f",
   "metadata": {
    "collapsed": true,
    "jupyter": {
     "outputs_hidden": true
    },
    "tags": []
   },
   "outputs": [
    {
     "data": {
      "text/plain": [
       "[(0,\n",
       "  'TGCCGNCCTGAGCGAAAGCCTGCTGGAAGAAGTAGCTTCGCTGGTGGAATGGCCGGTGGTATTGACGGCGAAATT'),\n",
       " (1,\n",
       "  'GGGTTNATCCAGACTTCATCCGGCACCGCCTCATGCAGCATCAGCACATTGCTGTAGGTCGAGTGGGTATGCCCT'),\n",
       " (2,\n",
       "  'CCCAAAGATACGGGCGCAGAAAAGGCCGTCACGCTCAGGTTTGAACGTACGGTAGTTGATGGTTTCCGGCTTTTT'),\n",
       " (3,\n",
       "  'CTCACGGAGAAAAGCGAAAATAAACGATTGACTCTGAAGCGGGAAAGCGTAATATGCACACCACGCGACGCTGAG'),\n",
       " (4,\n",
       "  'TGACCGTTTACGCGCCTGCCGTACCGCGCAGGAAGTCCTGGATCTCATTGACCGCACCAACGCGGCAGCTTAAGA'),\n",
       " (5,\n",
       "  'AACAATACATTAGTTTCCAGCGAATTGCTGCCATCTGCTGGAAAAAAGGGGCCATGAAGGCCCCCTCTTTCTGAA'),\n",
       " (6,\n",
       "  'ACGGATCAGCCTGAGCGCCAGCGTGCGTATGACGCACACGGCGTCGCCTGTGCCGTTGAGCACAATGTGATATGA'),\n",
       " (7,\n",
       "  'CTCATCGAGCTCACAGCACATGCGCTTTTGTGTACGGGGCTGTCACCCTGTATCGCGCGCCTTTCCAGACGCTTC'),\n",
       " (8,\n",
       "  'CGGTTTCGGTTTATGCCTGATGAACCTCCCGCGCCATTCCCCGGTGCGGAATTCCGTCTTCGTCATAATCATCGG'),\n",
       " (9,\n",
       "  'CGCCTGCAAGGTGCCCATCACGCCAACAACCGGTCCGACGATACCGGCGGTACGGCAGTTGCGTTCAGGCTCGAC'),\n",
       " (10,\n",
       "  'GAATGAAGTGCGCAGCGTGCAGGAAAAGCTGGAAAAAGCGCTCTCGCAGGTGGCAAATGAACCTATTAACGTGTT'),\n",
       " (11,\n",
       "  'TGCAGTGCATCAGGGAACAGAAATCCCCCAGAACGTCCCACGCTTTACGCTGGTCCGACAGATACGCATTGCAGG'),\n",
       " (12,\n",
       "  'TCAGAATCCCTTCCGAGTGGTTCATGCGTCTATGATTTATCCGGATCTTCGTAACGATTTTTCGCATCCATCGCT'),\n",
       " (13,\n",
       "  'AGGCGTATGTGGACAATCCGGCCTGTACTCTTGCCACCCGGCAGTGCGCGTTTTATTCCGGTGAGGGCACCTGCC'),\n",
       " (14,\n",
       "  'GCGCTGGATGCGTTAGCAGAAGAGTTGGAAGATCCGTTCGGTACTGAAAATAATGATTTACCGCTGGATGCGATA'),\n",
       " (15,\n",
       "  'TGCGCCTTCCAGTTCGAGCCGGAGATCCGATCGTAGCATCTCTTCGACATCTTCACCGATGCCCAGCTTGCCCAG'),\n",
       " (16,\n",
       "  'CTTGAGGTACTCCAGCGGATTGCCGCCAGCCTTACGCATAACCAGAATGGCCTGCGGAATGTGCTTACCGGAAGA'),\n",
       " (17,\n",
       "  'CTATCTCCGCAGCACAGCTGGAGCGTTGCATTCGCGCCTTTAATCCGTGGCCAATGAGCTGGCTGGAAATCGACG'),\n",
       " (18,\n",
       "  'ATAAAAGTCGGCGATACGCTTTATCTGTGTACAGCTCACCAGCGTCTGTTCGCGCTGGACGCCGCCAGCGGTAAA'),\n",
       " (19,\n",
       "  'ACAAAGGCTCTCAACAGCGCGGGCATATACATCATAAACCCGCGTACGCGGCCATAAATAGCAAGTTGCGCTAAA'),\n",
       " (20,\n",
       "  'GTCTCCGTTGGCCCAACCACCAGCATGCGTATGGAGAAATTCGAAAAAGAGTTTATTGCGCAGACTGGCGTGAAA'),\n",
       " (21,\n",
       "  'AGGCCAAGCGGGGGACCCTGACCGCCGATTGTCGTCGCTGTGACTACCGCTTTGTATGTCATGGCGGCTGTCCTA'),\n",
       " (22,\n",
       "  'CTGACGCCGGGAGTTTTCTCGCGCGAAGAGAGTTGGCTGAACGGGCAGGTGAATCAGAATGTCACCGCCGCATTA'),\n",
       " (23,\n",
       "  'CCGAAGAAAACCGACCGCGCCTGAAAGGCACGACGGACGTGAAGCCAAAATCAGCACAGTAATTGATGCCGGATG'),\n",
       " (24,\n",
       "  'CGAATTTCGGCAGACGACGGTACAGAGGCATCTGACCACCCTCGAAACCGCGACGTACGCCACCGCCAGAACGAG'),\n",
       " (25,\n",
       "  'CAGGCCTGGCATGAACACTTTTTTTAGGCTTACCGCGTTAGCTGGCCTGCTTGCATTAGCAGGCCAGTCCTTCGC'),\n",
       " (26,\n",
       "  'TGAGAACAACGCCAGGCTATGGCCGAACATCAGCCCGGCCACCGCCAGCACCATCAGGATAAAACCAAAGCGTAG'),\n",
       " (27,\n",
       "  'TCATCTCATTTTTGTAAACTGGCAGTAACTGCATCTTTAGTTATGGGAATTGTCTCCGGCGCTCAAGCCGAGGGT'),\n",
       " (28,\n",
       "  'CGCGTAGTTTAAAGGAACCCACCTGCAGGATGACCGACAGAGTTTCCACCACAAAGACGCCGCCCATGATCACCA'),\n",
       " (29,\n",
       "  'GTCGTGCTCACGTAACAGGGCTTGTTCATAGGGCGTGTCGATAAAAAAATCAGGATAGCGCGCATAAAGATCGTG'),\n",
       " (30,\n",
       "  'CTATGAGTAACGTTATTGCTTCACTTGAAAAGGTACTCCTTCCTTTTGCTGTAAAAATAGGAAAGCAGACACACG'),\n",
       " (31,\n",
       "  'TGCATCCCTACCGCTACCGCTTTTGCCAGCAAGGCGGCATCCAGCTCGCCGTTCAGTTCCACATAGTGCGCCACG'),\n",
       " (32,\n",
       "  'CGCCTGACCGGCGCGTAAATGGCTGAATACGGCGGCCTGAAAACCGCGGGCATCATAACGATAATTATCGTCAGG'),\n",
       " (33,\n",
       "  'CGCGCGAATCTGGGATGCGATAAACGATCCCATCATGGGCTGGATTGTCAACGCCACGCGTTCGCGGTGGGGGAA'),\n",
       " (34,\n",
       "  'GCTCAATCATTTGAGCCTGAGTAGTTCCAGTCTCTTCACAAAGCTGCTGCAAGCTTTCTTTATGTATGTTTTGTA'),\n",
       " (35,\n",
       "  'CGGAGCATGTAGTGAACCGAATCAACGGTCAGCCCGCGCTGGTAACCAGTTATAATGATAAACGGGAATCAGAAT'),\n",
       " (36,\n",
       "  'CGCCATCCGGCATTTTTTATAATACCTTCTCTTTTCTGGATTTCTCTTCGTTAACCGTTTCAGCATCAGGCGGCT'),\n",
       " (37,\n",
       "  'CACTGAATATCCCATTCCTGTTCAACGGCAGGGTTCGTTTTGAGCTCCTCATCGGTCATTTCCCGACCAGCCTGA'),\n",
       " (38,\n",
       "  'CAACACGTAGCGCGGTTTGAAGGGGGCGTGCCCCTCAAACATATCGCAAATGACGCCTTCATACAGCGCCTGGCG'),\n",
       " (39,\n",
       "  'CAATCTGATTCTCAAATGGATTATAGCCAAATTCCGGCCTGGCATAGAAATTTAACTTTAGCCGTTTTTATTCTG'),\n",
       " (40,\n",
       "  'GTTGCTTCACAAGCGATTGCCGTTGAGCGATTCTGGCTTCGAACTGCAGGCCGCTTTGCGGCTCCTGTAGTTGGT'),\n",
       " (41,\n",
       "  'TGATTCCTCAGGAGTACGCCATTGACTACCAGGAAGGCATTAAAAATCCGGTCGGTCTTTCCGGCGTGCGTATGC'),\n",
       " (42,\n",
       "  'GTGTTCATAGCTAACCTCTGAATACGTCGGAAGACGTCCCGCTACGCGCGGGATGTTTCTATAATGTTACATATT'),\n",
       " (43,\n",
       "  'TATCGTGCCCGACTTTGCCGCCGCTGGCGCGAGCATCATTACCTTTAACCCGGAAGCCTCCGAACATGTTGACCG'),\n",
       " (44,\n",
       "  'CCCTTCCAGATTACTTTATATGGCAGGTTCCGCGACAACCGACCTTTCTAAAAAAATAGGAATAGCACATAAAAT'),\n",
       " (45,\n",
       "  'GCACCTGGATACGCGTGGTATTGAGGAAGCCTATCGCCGATTACATGAATTGGGCCACGCGCACTCCATTGAAGT'),\n",
       " (46,\n",
       "  'ATGCGCGCGTGACCCCAGGCATAGAAAAAGAACTGCAAATACCACATCAGACCGCCAAGCGCGGACAGCAGAATA'),\n",
       " (47,\n",
       "  'ATTAAATTACTCACTCACCTGATTAATGCTTGCCTAACGATTGCTTCGTTGTTTTAATTCCAGCGCGAAATTATT'),\n",
       " (48,\n",
       "  'GGGCTGATTTATCTGGCGTGCGTAACTAAAAGCTTCCGCAACCCGGTTCCACAGTACGAAGACGTCGCGTAATCG'),\n",
       " (49,\n",
       "  'GCCACCAGCGCCAGTCCGGAGATACAGATCAGCACGACGGTAATGATTAACGCCCGCTTCATCTCCTGTCGGGTG'),\n",
       " (50,\n",
       "  'CGAGCTGACGGCGTTAAAAGACTCCAGTTTGCCCATACCGTTTACTTTGGACAACAGAAAACCAATAGCGCGGAT'),\n",
       " (51,\n",
       "  'CTTTCAGGTACGGGCGGCGCAGCGTAACGCCGTTCACCTGCACGGTATCCGGCATATGACCCCAGTATGACGCAT'),\n",
       " (52,\n",
       "  'GGGCTGTCCGGTCTGCTGGTATTGGGCTACGGCGGCTTTTACGCCATCGGCGCTTATTCCTTTGCGCTGCTCAAC'),\n",
       " (53,\n",
       "  'GTCGGCGGTTTTGTACGCGCTTACAAATTCCCGTAACTTCTCTCTATTTCTTCGTCCAGAAACAAGATAAGCGGA'),\n",
       " (54,\n",
       "  'TGCTGAGTAGCCAGCCATCTGCTCAGCGCTTTGATCTGCAGATTATTCCGCCAGTCGATGACTCTCCCGGCACGA'),\n",
       " (55,\n",
       "  'GGACGTTCAGCGTGGCCATTATGCCTCCAGTAGAAACGAATGTGTAATGCAGTTTAGCATTACATTCGCATTACA'),\n",
       " (56,\n",
       "  'CTCAGCGCGGGCGTATTCAACTACATCAGTCTTGCCGCCCACCCATGACAGAACGCCTTTCATAAACAGATTACG'),\n",
       " (57,\n",
       "  'ATGACGTGTGGCTGTCGACACTGTACAGAAATTTCCCGGCTAATTTGAGATATTGGGGCCAACCGTAAAAATGAT'),\n",
       " (58,\n",
       "  'AGTCCATTCAGTTAAGAAACGTTTATACCGATCCATTAAACGTGTTGCAGGCCGAATTGCTGTATCGTTCCCGTC'),\n",
       " (59,\n",
       "  'TGCTGAACGGTTCATTACAAAGCGTGGTGGCCGATACGCTCAATCAATTGCCTGCGCTAAAGGCAAAAGTGGCTA'),\n",
       " (60,\n",
       "  'TTTAAACGTCATTGGCGTGCATGTCGATGGCGCAATGCAGGAGGTGGTTACTCCCCGCACATTTAATTCATAAAA'),\n",
       " (61,\n",
       "  'AAAACAGCGCGTGGCGCTGGCGCGCGCGCTTGCCGTGGAACCGCAAATTCTACTGCTGGATGAACCCTTTGGCGC'),\n",
       " (62,\n",
       "  'GAGCTGGACTTCAGTCAGGTTGAGAAAGCGTAAGGCTGCGATCAAAAAAGCAGCGATCTAATCGTTGCATAGGGC'),\n",
       " (63,\n",
       "  'AAATGGCCGGCGTATTGCCGCAATCAATCTCTTTGGAAGGGTCGTAACCCCCTGCATCATTCGAGTTCGTGACCC'),\n",
       " (64,\n",
       "  'CGCCAGCGCCGAAAAAGCGCTGGCTTATATGGGCTTACAGCCGGGCGTACCGTTAACGGACGTTGCTATCGATAA'),\n",
       " (65,\n",
       "  'AGAGCACACGTCTGAACTCCAGTCACAGTTGCAGATTGTATTAGGTCTTATGGGTGAAAAAAATGAGCGGGGGGC'),\n",
       " (66,\n",
       "  'GGCATTGCCGTCACTGAATGAACCGCTGGCGGACGACACGCCGGTGAGCATCTCGCCCGACACGAACCTTACCTG'),\n",
       " (67,\n",
       "  'CGGCGAAAACGAGGTTGACGTTTCGACACCGCTCAGCAACGCCGACAACGCCTGCGAGGTTACGTTGAACTGCGT'),\n",
       " (68,\n",
       "  'GATCGGAAGAGCACACGTCTGAACTCCAGTCACCATACCCGAGGGGATGAGATGCAGTAGCAAGAACCAGATTAC'),\n",
       " (69,\n",
       "  'ATGCCACTGGAGGTGCTCTGTGAGTGCAGGCGTGATAACCGGCATCGTGCTGGTTTTCTTACTTTTAGGTTATCT'),\n",
       " (70,\n",
       "  'CTGATTTCTGCGATTGCGCGTAGAATACGCCACAAAGCATTGCCGGATGGCGGCATCAATGCCTTATCCGGTCTA'),\n",
       " (71,\n",
       "  'TACCTGTCGCCATTGTTAATACTCCTTTCACCCAAAAATGCGCACAACGACACCTGCGTGCCTGACGGCTTACAA'),\n",
       " (72,\n",
       "  'TGCTTGGAATAGATGCAAAACGAACAGTCGCAAAGTGTACGATAGGCACGAACAACAAACTATCTAAAAAAGAAG'),\n",
       " (73,\n",
       "  'TTTGCGTCATCGTCGTGGTCTCCCGGTTCGCGGTCAGCGTACCAAGACCAACGCTCGTACCCGTAAGGGTCCGCG'),\n",
       " (74,\n",
       "  'TGGCGGCAGGCAGCGCTGCTACGCTCAATCAAGGTACGCGTCTGTGTTCTCGTGACGATACCCAAAAAATATACG'),\n",
       " (75,\n",
       "  'AACGATCAGTTGCTGACCCGGCTGAAAGCTGACCAGTCGGTACGGACCGGCGCCTATCGGTTCGCGGGCGAACGT'),\n",
       " (76,\n",
       "  'CCCTGAGCATCAGGTCAGGAATAGTTACCACCAGAACGCTATGACCGCCGGCCAGCAGATGATTTCCGATTGCCG'),\n",
       " (77,\n",
       "  'AGCCCAGTTGCCCCACGATTAAGGCATAAGGAATAAAATAGAGCGCAAAAATAAACACCCAGGAGAAGACAACCA'),\n",
       " (78,\n",
       "  'TGCTCGACGCCGACACGGCTTATATGACCAGCCGCGGTCTGCGCACACTCGGTGTCCGACTGCGCCAGCATCAAG'),\n",
       " (79,\n",
       "  'AGGGTCATAAACAGGAAGCCGCCAGGCTGCTCGGTTGGGGGCGAAACACCCTAACGCGGAAGTTGAAAGAGCTGG'),\n",
       " (80,\n",
       "  'AAACGCCTTTGGTACGGTCAGGTAACGTTGCATGACCATTAACTATCTCATCCTGGCTGAAGGTTGAGTTGATTC'),\n",
       " (81,\n",
       "  'CGCCAGAAAGGCGGTCTGCACCCGTTCCCGTGGCGCGGAGAAAGCGAATACGATGTGCTGAGCGTTGGGCATTCC'),\n",
       " (82,\n",
       "  'TGTCATGGTATCTCTTCAGACCCACTTTGAGCCGATTACGTAACACAGTGGGATGAACGGCGCTCGTAAACGGTA'),\n",
       " (83,\n",
       "  'CTGGCATCCTGTGGGTTAATAAAGACCGGCTCATTGCCGCCAACGGCATATTGCTGACGCAGCGTTTCCGACTCG'),\n",
       " (84,\n",
       "  'ATCGCCGCTGGAGCGAACGTACCGGTAAACTTGTTGAAGAGGTTATGTTTGCTAATGATGAAAGAAACGGCCTGA'),\n",
       " (85,\n",
       "  'TAAAAATAAAAAAGTTAGCCTGATTACTAAAGATGTTTGCAGCGTATTCTTTAGATTGAGCAAATTCATAATTGT'),\n",
       " (86,\n",
       "  'ATTAAAAACAAGTGGTACAGGGTGGGACAGCCGTTGCTAAATCGGTCCCACTTTTCCGACTGGCATTTTTCAGGT'),\n",
       " (87,\n",
       "  'CTGTTTAGCGGCTTAATAAACAGACTGTTATTACGCAACGAGACATCACCCTCAGCGGTAACCTGTTCGCCATCC'),\n",
       " (88,\n",
       "  'CGCGCGATGTTAGTCGCCTTTAATACCTGGCTTCTGTTGCAGGCGTCGCTGGAAACGGCGCTCACCGCTGGCTTA'),\n",
       " (89,\n",
       "  'TGCTTGAAGACCTGGGACAGGTTGAAAAAGCCGTGCAGCGTATTGCCTTGTTAGAGCAGACAAAACGCAGCGATG'),\n",
       " (90,\n",
       "  'CACAAATTTGTCAATTTTCCAGTCCGGCGAGAATTTTCAGTTATGATTGTGATACTTACTTATAAAAGGAGCATC'),\n",
       " (91,\n",
       "  'TGACTTTGCGCGGAACGCCATCGGATAACCCTCGTTAAGAGTGTTCTGCATTTCTCCCTGCTTTTCGCCAATAAC'),\n",
       " (92,\n",
       "  'GAATACCAAATACGGTTTGCTGCATTTCACCGTTGTGAATACGCACCGAACCGCCGCCCACTTCATAGCCGTTAA'),\n",
       " (93,\n",
       "  'GGTACAGGGTGTCGCCTTTATAAAGCATGTCAGTCTCCTGAATCCACAATGTGATCTGGTCGTACCAGATGAAGC'),\n",
       " (94,\n",
       "  'ATGAAAGATGTTATTGCCGAACCATACCGCGCGCGTTTACTGCCGGGCTTTAGCCAGGAGCGGCAGGCGGTGTCG'),\n",
       " (95,\n",
       "  'TTCAGACGTGGTCATGGCATCGGTGGCATATTGCACGACAAACTTGTTATAGCCTTTCAACATGCTTTGCGTGTG'),\n",
       " (96,\n",
       "  'GGCTTAATAAAACGCGTTTCGAGATATTCATCCGGCTGATGCGCCTGATTAATTGAGCCCGGACCAAGCACCAGC'),\n",
       " (97,\n",
       "  'CAGACGATGCTGCTGGCATCAGGCTAACTTGAACAACTGACCTCCAGCCGCTTTCCCCACTCCGGTGGTCGGCGG'),\n",
       " (98,\n",
       "  'CGTGTCGGCCTGCCGGTATCCTACAGCGATAACCGTACCACGGGCATCATGCCGCAAGCGCTGGTCCAGATCGGC'),\n",
       " (99,\n",
       "  'ATGCGCTCCAGGGCGCGCGTACCGCCTTTATTCTGGAGTGTAAGAAAGCATCGCCATCAAAAGGCGTGATTCGCG')]"
      ]
     },
     "execution_count": 5,
     "metadata": {},
     "output_type": "execute_result"
    }
   ],
   "source": [
    "test_reads = reads.take(100)\n",
    "test_reads"
   ]
  },
  {
   "cell_type": "code",
   "execution_count": 6,
   "id": "82e6ea12-ed09-49e4-8257-cab74108f2be",
   "metadata": {},
   "outputs": [],
   "source": [
    "#test_reads = ['TGCCGNCCTGAGCGAAAGCCTGCTGGAAGAAGTAGCTTCGCTGGTGGAATGGCCGGTGGTATTGACGGCGAAATT',\n",
    "# 'GGGTTNATCCAGACTTCATCCGGCACCGCCTCATGCAGCATCAGCACATTGCTGTAGGTCGAGTGGGTATGCCCT',\n",
    "# 'CCCAAAGATACGGGCGCAGAAAAGGCCGTCACGCTCAGGTTTGAACGTACGGTAGTTGATGGTTTCCGGCTTTTT',\n",
    "# 'CTCACGGAGAAAAGCGAAAATAAACGATTGACTCTGAAGCGGGAAAGCGTAATATGCACACCACGCGACGCTGAG',\n",
    "# 'TGACCGTTTACGCGCCTGCCGTACCGCGCAGGAAGTCCTGGATCTCATTGACCGCACCAACGCGGCAGCTTAAGA']"
   ]
  },
  {
   "cell_type": "code",
   "execution_count": 1,
   "id": "fd802758-4014-4785-8bbe-17d2b28490d4",
   "metadata": {},
   "outputs": [],
   "source": [
    "import sys\n",
    "sys.path.append('/home/ubuntu/.local/lib/python3.8/site-packages')\n",
    "sys.path.append('/home/ubuntu/GenASM/build/lib.linux-x86_64-3.8') # For the homebrew GenASM bindings in C. These need to be added to the datanodes too.\n",
    "\n",
    "import json\n",
    "import pickle\n",
    "import base64\n",
    "\n",
    "import gasm # Homebrew package\n",
    "import datasketch as ds\n",
    "import hbase_connector"
   ]
  },
  {
   "cell_type": "code",
   "execution_count": 2,
   "id": "6a792fdc-d95c-4767-8f83-de2d0ef9e2c2",
   "metadata": {},
   "outputs": [],
   "source": [
    "pool = hbase_connector.HbaseConnection(host=\"datanode1\", port=9090)\n",
    "# Table is from run_insert.sh\n",
    "lsh = ds.lsh.MinHashLSH(threshold=0.8, num_perm=128, storage_config={'type': 'hbase', 'basename': b'hbase_salmonella_pos_prefix_8', 'hbase_pool': pool}, prepickle=True)"
   ]
  },
  {
   "cell_type": "code",
   "execution_count": 3,
   "id": "b59ac94c-7b97-45b5-be3c-5459c8eac225",
   "metadata": {},
   "outputs": [],
   "source": [
    "def create_hash(string, nperm=128):\n",
    "    mh2 = ds.MinHash(num_perm=nperm)\n",
    "    for i, c in enumerate(string):\n",
    "        mh2.update(i.to_bytes(8, byteorder='little') + c.encode('utf8'))\n",
    "    return mh2"
   ]
  },
  {
   "cell_type": "code",
   "execution_count": 10,
   "id": "4507cfc1-a28c-4828-ae89-d9f904fc5aef",
   "metadata": {},
   "outputs": [
    {
     "name": "stdout",
     "output_type": "stream",
     "text": [
      "CPU times: user 560 ms, sys: 39.8 ms, total: 600 ms\n",
      "Wall time: 1.63 s\n"
     ]
    }
   ],
   "source": [
    "%%time\n",
    "for read in test_reads:\n",
    "    h = create_hash(read[1], 3)\n",
    "    lsh.query(h)\n",
    "    #print(lsh.query(h))"
   ]
  },
  {
   "cell_type": "markdown",
   "id": "3de42609-9f34-4542-8988-8e84ddbfeaf2",
   "metadata": {},
   "source": [
    "## GenASM docs:\n",
    "```python\n",
    "genasm_aligner(<reference sequence>,\n",
    "               <query sequence>,\n",
    "               <edit distance threshold>,\n",
    "               <match score>,\n",
    "               <substitution penalty>,\n",
    "               <gap-opening penalty>,\n",
    "               <gap-extension penalty>)\n",
    "```"
   ]
  },
  {
   "cell_type": "code",
   "execution_count": 11,
   "id": "555f0d66-f8cb-4925-808a-38b4d75d638b",
   "metadata": {},
   "outputs": [
    {
     "data": {
      "text/plain": [
       "{'__name__': 'gasmmodule',\n",
       " '__doc__': 'gasm Module',\n",
       " '__package__': '',\n",
       " '__loader__': <_frozen_importlib_external.ExtensionFileLoader at 0x7fd2ee2c2280>,\n",
       " '__spec__': ModuleSpec(name='gasm', loader=<_frozen_importlib_external.ExtensionFileLoader object at 0x7fd2ee2c2280>, origin='/home/ubuntu/GenASM/build/lib.linux-x86_64-3.8/gasm.cpython-38-x86_64-linux-gnu.so'),\n",
       " 'gasmAlignment': <function gasmmodule.gasmAlignment>,\n",
       " 'version': <function gasmmodule.version>,\n",
       " '__file__': '/home/ubuntu/GenASM/build/lib.linux-x86_64-3.8/gasm.cpython-38-x86_64-linux-gnu.so'}"
      ]
     },
     "execution_count": 11,
     "metadata": {},
     "output_type": "execute_result"
    }
   ],
   "source": [
    "gasm.__dict__"
   ]
  },
  {
   "cell_type": "code",
   "execution_count": 12,
   "id": "a2523e88-8419-4c56-a5b7-ddbcb95fd7f9",
   "metadata": {},
   "outputs": [
    {
     "data": {
      "text/plain": [
       "(1, 15, '1M1I6M', '1M1I6M', '7')"
      ]
     },
     "execution_count": 12,
     "metadata": {},
     "output_type": "execute_result"
    }
   ],
   "source": [
    "# genasm_aligner(<reference sequence>, <query sequence>, <edit distance threshold>, <match score>, <substitution penalty>, <gap-opening penalty>, <gap-extension penalty>)\n",
    "gasm.gasmAlignment(\"AATGTCC\", \"ATATGTCC\", 3, 3, 4, 5, 1)"
   ]
  },
  {
   "cell_type": "code",
   "execution_count": 13,
   "id": "ce413a8b-e11a-449d-9244-221fa821ec23",
   "metadata": {},
   "outputs": [
    {
     "data": {
      "text/plain": [
       "(3, 2, '1M1D4M2I', '1M1D4M2I', '1^A4')"
      ]
     },
     "execution_count": 13,
     "metadata": {},
     "output_type": "execute_result"
    }
   ],
   "source": [
    "gasm.gasmAlignment(\"AATGTCC\", \"ATGTCCT\", 3, 3, 4, 5, 1)"
   ]
  },
  {
   "cell_type": "code",
   "execution_count": 19,
   "id": "6058f2e5-136b-49fd-902a-6a5d1e61a998",
   "metadata": {},
   "outputs": [
    {
     "data": {
      "text/plain": [
       "(6, 973, '1S1M1D2M2D3M1D2M1S2M', '2M1D2M2D3M1D5M', 'C1^A2^CT3^C2A2')"
      ]
     },
     "execution_count": 19,
     "metadata": {},
     "output_type": "execute_result"
    }
   ],
   "source": [
    "gasm.gasmAlignment(\"CCATACTGAACTGACTAAC\", \"ACTAGAATGGCT\", 100, 100, 4, 5, 1)"
   ]
  },
  {
   "cell_type": "code",
   "execution_count": 14,
   "id": "8aafb482-6f9a-4e7d-bd55-7344ffc2ed0e",
   "metadata": {},
   "outputs": [],
   "source": [
    "#%%time\n",
    "debug = []\n",
    "\n",
    "for read in test_reads:\n",
    "    h = create_hash(read[1], 3)\n",
    "    candidates = lsh.query(h)\n",
    "    #print(candidates)\n",
    "    if len(candidates) > 0:\n",
    "        scores = [(cand, read, gasm.gasmAlignment(read[1], cand[1], 20, 20, 4, 5, 1)) for cand in candidates]\n",
    "        #scores = [(cand[0], cand[1], cand[1]) for cand in candidates]\n",
    "        scores.sort(key=lambda x: x[2][0])\n",
    "        scores = list(filter(lambda x: x[2][2] != '', scores))\n",
    "        #print(scores)\n",
    "        if len(scores) > 0:\n",
    "            if scores[0][2][3] != '':\n",
    "                debug.append(scores[0])"
   ]
  },
  {
   "cell_type": "code",
   "execution_count": 15,
   "id": "03c978b3-b63d-466d-b83c-4a5a00a81abf",
   "metadata": {
    "collapsed": true,
    "jupyter": {
     "outputs_hidden": true
    },
    "tags": []
   },
   "outputs": [
    {
     "data": {
      "text/plain": [
       "[((4099898,\n",
       "   'AGACCAGAACCTCACGGAGAAAAGCGAAAATAAACGCTTGACTCTGAAGCGGGAAAGCGTAATATGCACACCCCG'),\n",
       "  (3,\n",
       "   'CTCACGGAGAAAAGCGAAAATAAACGATTGACTCTGAAGCGGGAAAGCGTAATATGCACACCACGCGACGCTGAG'),\n",
       "  (12, 1237, '10I26M1S35M1S2M', '10I65M', '26A35A2')),\n",
       " ((4627367,\n",
       "   'TGACCGTTTACGCGCCTGCCGTACCGCGCAGGAAGTCCTGGATCTCATTGACCGCACCAACGCGGCAGCTTAAGA'),\n",
       "  (4,\n",
       "   'TGACCGTTTACGCGCCTGCCGTACCGCGCAGGAAGTCCTGGATCTCATTGACCGCACCAACGCGGCAGCTTAAGA'),\n",
       "  (0, 1500, '75M', '75M', '75')),\n",
       " ((3451544,\n",
       "   'AACAATACATTAGTTTCCAGCGAATTGCTGCCATCTGCTGGAAAAAAGGGGCCATGAAGGCCCCCTCTTTCTGAA'),\n",
       "  (5,\n",
       "   'AACAATACATTAGTTTCCAGCGAATTGCTGCCATCTGCTGGAAAAAAGGGGCCATGAAGGCCCCCTCTTTCTGAA'),\n",
       "  (0, 1500, '75M', '75M', '75')),\n",
       " ((4406970,\n",
       "   'ACGGATCAGCCTGAGCGCCAGCGTGCGTATGACGCACACGGCGTCGCCTGTGCCGTTGAGCACAATGTGATATGA'),\n",
       "  (6,\n",
       "   'ACGGATCAGCCTGAGCGCCAGCGTGCGTATGACGCACACGGCGTCGCCTGTGCCGTTGAGCACAATGTGATATGA'),\n",
       "  (0, 1500, '75M', '75M', '75')),\n",
       " ((2799395,\n",
       "   'CTCATCGAGCTCACAGCACATGCGCTTTTGTGTACGGGGCTGTCACCCTGTATCGCGCGCCTTTCCAGACGCTTC'),\n",
       "  (7,\n",
       "   'CTCATCGAGCTCACAGCACATGCGCTTTTGTGTACGGGGCTGTCACCCTGTATCGCGCGCCTTTCCAGACGCTTC'),\n",
       "  (0, 1500, '75M', '75M', '75')),\n",
       " ((2419126,\n",
       "   'CGGTTTCGGTTTATGCCTGATGAACCTCCCGCGCCATTCCCCGGTGCGGAATGCCGTCTTCGTCATAAACATCGG'),\n",
       "  (8,\n",
       "   'CGGTTTCGGTTTATGCCTGATGAACCTCCCGCGCCATTCCCCGGTGCGGAATTCCGTCTTCGTCATAATCATCGG'),\n",
       "  (2, 1452, '52M1S15M1S6M', '75M', '52T15T6')),\n",
       " ((4379270,\n",
       "   'CGCCTGCAAGGTGCCCATCACGCCAACAACCGGTCCGACGATACCGGCGGTACGGCAGTTGCGTTCAGGCTCGAC'),\n",
       "  (9,\n",
       "   'CGCCTGCAAGGTGCCCATCACGCCAACAACCGGTCCGACGATACCGGCGGTACGGCAGTTGCGTTCAGGCTCGAC'),\n",
       "  (0, 1500, '75M', '75M', '75')),\n",
       " ((4933208,\n",
       "   'AGGCGTATGTGGACAATCCGGCCTGTACTCTTGCCACCCGGCAGTGCGCGTTTTATTCCGGTGAGGGCACCTGCC'),\n",
       "  (13,\n",
       "   'AGGCGTATGTGGACAATCCGGCCTGTACTCTTGCCACCCGGCAGTGCGCGTTTTATTCCGGTGAGGGCACCTGCC'),\n",
       "  (0, 1500, '75M', '75M', '75')),\n",
       " ((1604925,\n",
       "   'GCGCTGGATGCGTTAGCAGAAGAGTTGGAAGATCCGTTCGGTACTGAAAATAATGATTTACCGCTGGATGCGATA'),\n",
       "  (14,\n",
       "   'GCGCTGGATGCGTTAGCAGAAGAGTTGGAAGATCCGTTCGGTACTGAAAATAATGATTTACCGCTGGATGCGATA'),\n",
       "  (0, 1500, '75M', '75M', '75')),\n",
       " ((3597563,\n",
       "   'TGCGCCTTCCAGTTCGAGCCGGAGATCCGATCGTAGCATCTCTTCGACATCTTCACCGATGCCCAGCTTGCCCAG'),\n",
       "  (15,\n",
       "   'TGCGCCTTCCAGTTCGAGCCGGAGATCCGATCGTAGCATCTCTTCGACATCTTCACCGATGCCCAGCTTGCCCAG'),\n",
       "  (0, 1500, '75M', '75M', '75')),\n",
       " ((3578119,\n",
       "   'CTCTCTCCGCAGCACAGCTGGAGCGTTGCATTCGCGCCTTTAATCCGTGGCCAATGAGCTGGCTGGAAATCGACG'),\n",
       "  (17,\n",
       "   'CTATCTCCGCAGCACAGCTGGAGCGTTGCATTCGCGCCTTTAATCCGTGGCCAATGAGCTGGCTGGAAATCGACG'),\n",
       "  (1, 1476, '2M1S72M', '75M', '2A72')),\n",
       " ((3587614,\n",
       "   'CGAATTTCGGCAGACGACGGTACAGAGGCATCTGACCACCCTCGAAACCGCGACGTACGCCACCGCCAGAACGAG'),\n",
       "  (24,\n",
       "   'CGAATTTCGGCAGACGACGGTACAGAGGCATCTGACCACCCTCGAAACCGCGACGTACGCCACCGCCAGAACGAG'),\n",
       "  (0, 1500, '75M', '75M', '75')),\n",
       " ((3609388,\n",
       "   'GTCGTGCTCACGTAACAGGGCTTGTTCATAGGGCGTGTCGATAAAAAAATCAGGATAGCGCGCATAAAGATCGTG'),\n",
       "  (29,\n",
       "   'GTCGTGCTCACGTAACAGGGCTTGTTCATAGGGCGTGTCGATAAAAAAATCAGGATAGCGCGCATAAAGATCGTG'),\n",
       "  (0, 1500, '75M', '75M', '75')),\n",
       " ((4544001,\n",
       "   'CGCGCGAATCTGGGATGCGATAAACGATCCCATCATGGGCTGGATTGTCAACGCCACGCGTTCGCGGTGGGGGAA'),\n",
       "  (33,\n",
       "   'CGCGCGAATCTGGGATGCGATAAACGATCCCATCATGGGCTGGATTGTCAACGCCACGCGTTCGCGGTGGGGGAA'),\n",
       "  (0, 1500, '75M', '75M', '75')),\n",
       " ((1377431,\n",
       "   'CGGAGCATGTAGTGAACCGAATCAACGGTCAGCCCGCGCTGGTAACCAGTTATAATGATAAACGGGAATCAGAAT'),\n",
       "  (35,\n",
       "   'CGGAGCATGTAGTGAACCGAATCAACGGTCAGCCCGCGCTGGTAACCAGTTATAATGATAAACGGGAATCAGAAT'),\n",
       "  (0, 1500, '75M', '75M', '75')),\n",
       " ((545889,\n",
       "   'CGCCATCCGGCATTTTTTATAATACCTTCTCTTTTCTGGATTTCTCTTCGTTAACCGTTTCAGCATCAGGCGGCT'),\n",
       "  (36,\n",
       "   'CGCCATCCGGCATTTTTTATAATACCTTCTCTTTTCTGGATTTCTCTTCGTTAACCGTTTCAGCATCAGGCGGCT'),\n",
       "  (0, 1500, '75M', '75M', '75')),\n",
       " ((4820970,\n",
       "   'CAACACGTAGCGCGGTTTGAAGGGGGCGTGCCCCTCAAACATATCGCAAATGACGCCTTCATCCAGCGCCTGGCG'),\n",
       "  (38,\n",
       "   'CAACACGTAGCGCGGTTTGAAGGGGGCGTGCCCCTCAAACATATCGCAAATGACGCCTTCATACAGCGCCTGGCG'),\n",
       "  (1, 1476, '62M1S12M', '75M', '62A12')),\n",
       " ((829176,\n",
       "   'CAATCTGATTCTCAAATGGATTATAGCCAAATTCCGGCCTGGCATAGAAATTTAACTTTAGCCGTTTTTATTCTG'),\n",
       "  (39,\n",
       "   'CAATCTGATTCTCAAATGGATTATAGCCAAATTCCGGCCTGGCATAGAAATTTAACTTTAGCCGTTTTTATTCTG'),\n",
       "  (0, 1500, '75M', '75M', '75')),\n",
       " ((4105985,\n",
       "   'GTTGCTTCACAAGCGATTGCCGTTGAGCGATTCTGGCTTCGAACTGCAGGCCGCTTTGCGGCTCCTGTAGTTGGT'),\n",
       "  (40,\n",
       "   'GTTGCTTCACAAGCGATTGCCGTTGAGCGATTCTGGCTTCGAACTGCAGGCCGCTTTGCGGCTCCTGTAGTTGGT'),\n",
       "  (0, 1500, '75M', '75M', '75')),\n",
       " ((154747,\n",
       "   'TGATTCCTCAGGAGTACGCCATTGACTACCAGGAAGGCATTAAAAATCCGGTCGGTCTTTCCGGCGTGCGTATGC'),\n",
       "  (41,\n",
       "   'TGATTCCTCAGGAGTACGCCATTGACTACCAGGAAGGCATTAAAAATCCGGTCGGTCTTTCCGGCGTGCGTATGC'),\n",
       "  (0, 1500, '75M', '75M', '75')),\n",
       " ((2395053,\n",
       "   'CCCTTCCAGATTACTTTATATGGCAGGTTCCGCGACAACCGACCTTTCTAAAAAAATAGGAATAGCACATAAAAT'),\n",
       "  (44,\n",
       "   'CCCTTCCAGATTACTTTATATGGCAGGTTCCGCGACAACCGACCTTTCTAAAAAAATAGGAATAGCACATAAAAT'),\n",
       "  (0, 1500, '75M', '75M', '75')),\n",
       " ((4261098,\n",
       "   'ATGCGCGCGTGACCCCAGGCATAGAAAAAGAACTGCAAATACCACATCAGACCGCCAAGCGCGGACAGCAGAATA'),\n",
       "  (46,\n",
       "   'ATGCGCGCGTGACCCCAGGCATAGAAAAAGAACTGCAAATACCACATCAGACCGCCAAGCGCGGACAGCAGAATA'),\n",
       "  (0, 1500, '75M', '75M', '75')),\n",
       " ((1728795,\n",
       "   'ATTAAATTACTCACTCACCTGATTAATGCTTGCCTAACGATTGCTTCGTTGTTTTAATTCCAGCGCGAAATTATT'),\n",
       "  (47,\n",
       "   'ATTAAATTACTCACTCACCTGATTAATGCTTGCCTAACGATTGCTTCGTTGTTTTAATTCCAGCGCGAAATTATT'),\n",
       "  (0, 1500, '75M', '75M', '75')),\n",
       " ((4298749,\n",
       "   'GCCACCAGCGCCAGTCCGGAGATACAGATCAGCACGACGGTAATGATTAACGCCCGCTTCATCTCCTGTCGGGTG'),\n",
       "  (49,\n",
       "   'GCCACCAGCGCCAGTCCGGAGATACAGATCAGCACGACGGTAATGATTAACGCCCGCTTCATCTCCTGTCGGGTG'),\n",
       "  (0, 1500, '75M', '75M', '75')),\n",
       " ((2642203,\n",
       "   'CTTTCAGGTACGGGCGGCGCAGCGTAACGCCGTTCACCTGCACGGTATCCGGCATATGACCCCAGTATGACGCAT'),\n",
       "  (51,\n",
       "   'CTTTCAGGTACGGGCGGCGCAGCGTAACGCCGTTCACCTGCACGGTATCCGGCATATGACCCCAGTATGACGCAT'),\n",
       "  (0, 1500, '75M', '75M', '75')),\n",
       " ((3931189,\n",
       "   'TGCTGAGCAGCCAGCCATCTGCTCAGCGCTTTGATCTGCAGATTATTCCGCCAGTCGATGACTCTCCCGGCACGA'),\n",
       "  (54,\n",
       "   'TGCTGAGTAGCCAGCCATCTGCTCAGCGCTTTGATCTGCAGATTATTCCGCCAGTCGATGACTCTCCCGGCACGA'),\n",
       "  (1, 1476, '7M1S67M', '75M', '7T67')),\n",
       " ((616775,\n",
       "   'CTCAGCGCGGGCGTATTCAACTACATCAGTCTTGCCGCCCACCCATGACAGAACGCCTTTCATAAACAGATTACG'),\n",
       "  (56,\n",
       "   'CTCAGCGCGGGCGTATTCAACTACATCAGTCTTGCCGCCCACCCATGACAGAACGCCTTTCATAAACAGATTACG'),\n",
       "  (0, 1500, '75M', '75M', '75')),\n",
       " ((1003482,\n",
       "   'ATGACGTGTGGCTGTCGACACTGTACAGAAATTTCCCGGCTAATTTGAGATATTGGGGCCAACCGTAAAAATGAT'),\n",
       "  (57,\n",
       "   'ATGACGTGTGGCTGTCGACACTGTACAGAAATTTCCCGGCTAATTTGAGATATTGGGGCCAACCGTAAAAATGAT'),\n",
       "  (0, 1500, '75M', '75M', '75')),\n",
       " ((4362927,\n",
       "   'GAGCTGGACTTCAGTCAGGTTGAGAAAGCGTAAGGCTGCGATCAAAAAAGCAGCGATCTAATCGTTGCATAGGGC'),\n",
       "  (62,\n",
       "   'GAGCTGGACTTCAGTCAGGTTGAGAAAGCGTAAGGCTGCGATCAAAAAAGCAGCGATCTAATCGTTGCATAGGGC'),\n",
       "  (0, 1500, '75M', '75M', '75')),\n",
       " ((4793178,\n",
       "   'GGCATTGCCGTCACTGAATGAACCGCTGGCGGACGACACGCCGGTGAGCATCTCGCCCGACACGAACCTTACCTG'),\n",
       "  (66,\n",
       "   'GGCATTGCCGTCACTGAATGAACCGCTGGCGGACGACACGCCGGTGAGCATCTCGCCCGACACGAACCTTACCTG'),\n",
       "  (0, 1500, '75M', '75M', '75')),\n",
       " ((3835420,\n",
       "   'TACCTGTCGCCATTGTTAATACTCCTTTCACCCAAAAATGCGCACAACGACACCTGCGTGCCTGACGGCTTACAA'),\n",
       "  (71,\n",
       "   'TACCTGTCGCCATTGTTAATACTCCTTTCACCCAAAAATGCGCACAACGACACCTGCGTGCCTGACGGCTTACAA'),\n",
       "  (0, 1500, '75M', '75M', '75')),\n",
       " ((2767427,\n",
       "   'CCCTGAGCATCAGGTCAGGAATAGTTACCACCAGAACGCTATGACCGCCGGCCAGCAGATGATTTCCGATTGCCG'),\n",
       "  (76,\n",
       "   'CCCTGAGCATCAGGTCAGGAATAGTTACCACCAGAACGCTATGACCGCCGGCCAGCAGATGATTTCCGATTGCCG'),\n",
       "  (0, 1500, '75M', '75M', '75')),\n",
       " ((3321728,\n",
       "   'TGCTCGACGCCGACACGGCTTATATGACCAGCCGCGGTCTGCGCACACTCGGTGTCCGACTGCGCCAGCATCAAG'),\n",
       "  (78,\n",
       "   'TGCTCGACGCCGACACGGCTTATATGACCAGCCGCGGTCTGCGCACACTCGGTGTCCGACTGCGCCAGCATCAAG'),\n",
       "  (0, 1500, '75M', '75M', '75')),\n",
       " ((350417,\n",
       "   'AAACGCCTTTGGTACGGTCAGGTAACGTTGCATGACCATTAACTATCTCATCCTGGCTGAAGGTTGAGTTGATTC'),\n",
       "  (80,\n",
       "   'AAACGCCTTTGGTACGGTCAGGTAACGTTGCATGACCATTAACTATCTCATCCTGGCTGAAGGTTGAGTTGATTC'),\n",
       "  (0, 1500, '75M', '75M', '75')),\n",
       " ((4021183,\n",
       "   'CTGGCATCCTGTGGGTTAATAAAGACCGGCTCCTTGCCGCCAACGGCATATTGCTGACGCAGCGTTTCCGACTCG'),\n",
       "  (83,\n",
       "   'CTGGCATCCTGTGGGTTAATAAAGACCGGCTCATTGCCGCCAACGGCATATTGCTGACGCAGCGTTTCCGACTCG'),\n",
       "  (1, 1476, '32M1S42M', '75M', '32A42')),\n",
       " ((2087881,\n",
       "   'ATCGCCGCTGGAGCGAACGTACCGGTAAACTTGTTGAAGAGGTTATGTTTGCTAATGATGAAAGAAACGGCCTGA'),\n",
       "  (84,\n",
       "   'ATCGCCGCTGGAGCGAACGTACCGGTAAACTTGTTGAAGAGGTTATGTTTGCTAATGATGAAAGAAACGGCCTGA'),\n",
       "  (0, 1500, '75M', '75M', '75')),\n",
       " ((1479520,\n",
       "   'TAAAAATAAAAAAGTTAGCCTGATTACTAAAGATGTTTGCAGCGTATTCTTGAGATTGAGCAAATTCATAATGCT'),\n",
       "  (85,\n",
       "   'TAAAAATAAAAAAGTTAGCCTGATTACTAAAGATGTTTGCAGCGTATTCTTTAGATTGAGCAAATTCATAATTGT'),\n",
       "  (3, 1428, '51M1S20M2S1M', '75M', '51T20TG1')),\n",
       " ((2885672,\n",
       "   'ATTAAAAAAAAGTGGTACAGGGTGGGACAGCCGTTGCTAAATCTGTCCCACTTTTCCGACTGGCATTTTTCAGGT'),\n",
       "  (86,\n",
       "   'ATTAAAAACAAGTGGTACAGGGTGGGACAGCCGTTGCTAAATCGGTCCCACTTTTCCGACTGGCATTTTTCAGGT'),\n",
       "  (2, 1452, '8M1S34M1S31M', '75M', '8C34G31')),\n",
       " ((3537663,\n",
       "   'CTGTTTAGCGGCTTAATAAACAGACTGTTATTACGCAACGAGACATCACCCTCAGCGGTAACCTGTTCGCCATCC'),\n",
       "  (87,\n",
       "   'CTGTTTAGCGGCTTAATAAACAGACTGTTATTACGCAACGAGACATCACCCTCAGCGGTAACCTGTTCGCCATCC'),\n",
       "  (0, 1500, '75M', '75M', '75')),\n",
       " ((93480,\n",
       "   'TGACTTTGCGCGGAACGCCATCGGATAACCCTCGTTAAGAGTGTTCTGCATTTCTCCCTGCTTTTCGCCAATAAC'),\n",
       "  (91,\n",
       "   'TGACTTTGCGCGGAACGCCATCGGATAACCCTCGTTAAGAGTGTTCTGCATTTCTCCCTGCTTTTCGCCAATAAC'),\n",
       "  (0, 1500, '75M', '75M', '75')),\n",
       " ((1995373,\n",
       "   'GAATACCAAATACGGTTTGCTGCATTTCACCGTTGTGAATACGCACCGAACCGCCGCCCACTTCATAGCCGTTAA'),\n",
       "  (92,\n",
       "   'GAATACCAAATACGGTTTGCTGCATTTCACCGTTGTGAATACGCACCGAACCGCCGCCCACTTCATAGCCGTTAA'),\n",
       "  (0, 1500, '75M', '75M', '75')),\n",
       " ((4191484,\n",
       "   'GGTACAGGGTGTCGCCTTTATAAAGCATGTCAGTCTCCTGAATCCACAAAGTGATCTGGTCGTACCAGATGAAGC'),\n",
       "  (93,\n",
       "   'GGTACAGGGTGTCGCCTTTATAAAGCATGTCAGTCTCCTGAATCCACAATGTGATCTGGTCGTACCAGATGAAGC'),\n",
       "  (1, 1476, '49M1S25M', '75M', '49T25')),\n",
       " ((3475,\n",
       "   'ATGAAAGATGTTATTGCCGAACCATACCGCGCGCGTTTACTGCCGGGCTTTAGCCAGGCGCGGCAGGCGGTGTCG'),\n",
       "  (94,\n",
       "   'ATGAAAGATGTTATTGCCGAACCATACCGCGCGCGTTTACTGCCGGGCTTTAGCCAGGAGCGGCAGGCGGTGTCG'),\n",
       "  (1, 1476, '58M1S16M', '75M', '58A16')),\n",
       " ((4338334,\n",
       "   'GGCTTAATAAAACGCGTTTCGAGATATTCATCCGGCTGATGCGCCTGATTAATTGAGCCCGGACCAAGCACCAGC'),\n",
       "  (96,\n",
       "   'GGCTTAATAAAACGCGTTTCGAGATATTCATCCGGCTGATGCGCCTGATTAATTGAGCCCGGACCAAGCACCAGC'),\n",
       "  (0, 1500, '75M', '75M', '75')),\n",
       " ((1821825,\n",
       "   'ATGCGCTCCAGGGCGCGCGTACCGCCTTTATTCTGGAGTGTAAGAAAGCATCGCCATCAAAAGGCGTGATTCGCG'),\n",
       "  (99,\n",
       "   'ATGCGCTCCAGGGCGCGCGTACCGCCTTTATTCTGGAGTGTAAGAAAGCATCGCCATCAAAAGGCGTGATTCGCG'),\n",
       "  (0, 1500, '75M', '75M', '75'))]"
      ]
     },
     "execution_count": 15,
     "metadata": {},
     "output_type": "execute_result"
    }
   ],
   "source": [
    "debug #(candidate, read, comparison)"
   ]
  },
  {
   "cell_type": "code",
   "execution_count": 16,
   "id": "24f40383-9cef-4875-8d26-0429e63f5564",
   "metadata": {},
   "outputs": [],
   "source": [
    "table = {}\n",
    "\n",
    "for v in debug:\n",
    "    candidate_index, candidate = v[0]\n",
    "    read_index, read = v[1]\n",
    "    comparison = v[2]\n",
    "    \n",
    "    for i, base in enumerate(read):\n",
    "        index = candidate_index + i\n",
    "        if not index in table:\n",
    "            table[index] = {}\n",
    "            \n",
    "        if not base in table[index]:\n",
    "            table[index][base] = {}\n",
    "            \n",
    "        if not (read_index, i) in table[index][base]:\n",
    "            table[index][base] = []\n",
    "            \n",
    "        table[index][base].append((read_index, i, comparison))"
   ]
  },
  {
   "cell_type": "code",
   "execution_count": 24,
   "id": "1e8c2c72-11b1-4993-9215-6c508f38b0a4",
   "metadata": {},
   "outputs": [
    {
     "data": {
      "text/plain": [
       "[(0,\n",
       "  'AGAGATTACGTCTGGTTGCAAGAGATCATGACAGGGGGAATTGGTTGAAAATAAATATATCGCCAGCAGCACATGAACAA'),\n",
       " (80,\n",
       "  'GTTTCGGAATGTGATCAATTTAAAAATTTATTGACTTAGGCGGGCAGATACTTTAACCAATATAGGAATACAAGACAGAC'),\n",
       " (160,\n",
       "  'AAATAAAAATGACAGAGTACACAACATCCATGAACCGCATCAGCACCACCACCATTACCACCATCACCATTACCACAGGT'),\n",
       " (240,\n",
       "  'AACGGTGCGGGCTGACGCGTACAGGAAACACAGAAAAAAGCCCGCACCTGAACAGTGCGGGCTTTTTTTTCGACCAGAGA'),\n",
       " (320,\n",
       "  'TCACGAGGTAACAACCATGCGAGTGTTGAAGTTCGGCGGTACATCAGTGGCAAATGCAGAACGTTTTCTGCGTGTTGCCG')]"
      ]
     },
     "execution_count": 24,
     "metadata": {},
     "output_type": "execute_result"
    }
   ],
   "source": [
    "reference = sc.textFile(\"hdfs:///files/salmonella/assembledASM694v2\").filter(lambda x: not x.startswith('>')).zipWithIndex().map(lambda x: (x[1]*80, x[0]))\n",
    "reference.take(5)"
   ]
  },
  {
   "cell_type": "code",
   "execution_count": 62,
   "id": "f20aca80-9e4b-4c31-aa9b-7031370952c9",
   "metadata": {},
   "outputs": [
    {
     "data": {
      "text/plain": [
       "'AAAAAAAAAAAAAAAAAAAAAAAAAAAAAAAAAAAAAAAAAAAAAAAAAAAAAAAAAAAAAAAAAAAAAAAAAAA'"
      ]
     },
     "execution_count": 62,
     "metadata": {},
     "output_type": "execute_result"
    }
   ],
   "source": [
    "'A' * 75"
   ]
  },
  {
   "cell_type": "code",
   "execution_count": 68,
   "id": "e40ce7e8-077c-4f05-8c6b-cc86942f0c48",
   "metadata": {},
   "outputs": [
    {
     "data": {
      "text/plain": [
       "0.5546875"
      ]
     },
     "execution_count": 68,
     "metadata": {},
     "output_type": "execute_result"
    }
   ],
   "source": [
    "h1 = create_hash('AAAAAAAAAAAAAAAAAAAAAAAAAAAAAAAAAAAAAAAAAAAAAAAAAAAAAAAAAAAAAAAAAAAAAAAAAAA', nperm=128)\n",
    "h2 = create_hash('TTTTTTTTTTTTTTTTTTTTAAAAAAAAAAAAAAAAAAAAAAAAAAAAAAAAAAAAAAAAAAAAAAAAAAAAAAA', nperm=128)\n",
    "h1.jaccard(h2)"
   ]
  },
  {
   "cell_type": "code",
   "execution_count": 58,
   "id": "a72ed213-c4fe-462d-921b-b11a5bc940ef",
   "metadata": {},
   "outputs": [
    {
     "data": {
      "text/plain": [
       "80"
      ]
     },
     "execution_count": 58,
     "metadata": {},
     "output_type": "execute_result"
    }
   ],
   "source": [
    "len('AGAGATTACGTCTGGTTGCAAGAGATCATGACAGGGGGAATTGGTTGAAAATAAATATATCGCCAGCAGCACATGAACAA')"
   ]
  },
  {
   "cell_type": "code",
   "execution_count": 18,
   "id": "8847915e-1351-4b9e-803b-83c5d5f1d017",
   "metadata": {},
   "outputs": [
    {
     "data": {
      "text/plain": [
       "(4, 1504, '5M2S31M2S40M', '80M', '5TT31AA40')"
      ]
     },
     "execution_count": 18,
     "metadata": {},
     "output_type": "execute_result"
    }
   ],
   "source": [
    "gasm.gasmAlignment('AGAGATTACGTCTGGTTGCAAGAGATCATGACAGGGGGAATTGGTTGAAAATAAATATATCGCCAGCAGCACATGAACAA', 'AGAGAAAACGTCTGGTTGCAAGAGATCATGACAGGGGGTTTTGGTTGAAAATAAATATATCGCCAGCAGCACATGAACAA', 20, 20, 4, 5, 1)"
   ]
  },
  {
   "cell_type": "code",
   "execution_count": 13,
   "id": "df15cab1-16d5-4002-8b56-557b2a315f39",
   "metadata": {},
   "outputs": [
    {
     "data": {
      "text/plain": [
       "b'hbase_salmonella_pos_prefix_7_bucket_\\x00\\x10'"
      ]
     },
     "execution_count": 13,
     "metadata": {},
     "output_type": "execute_result"
    }
   ],
   "source": [
    "base64.b64decode('aGJhc2Vfc2FsbW9uZWxsYV9wb3NfcHJlZml4XzdfYnVja2V0XwAQ==')"
   ]
  },
  {
   "cell_type": "code",
   "execution_count": 10,
   "id": "22943b86-7637-426f-8c8f-5517ca27c0de",
   "metadata": {},
   "outputs": [
    {
     "data": {
      "text/plain": [
       "[TTableName(ns=b'default', qualifier=b'aGJhc2Vfc2FsbW9uZWxsYV9wb3NfcHJlZml4X2J1Y2tldF8AAA'),\n",
       " TTableName(ns=b'default', qualifier=b'aGJhc2Vfc2FsbW9uZWxsYV9wb3NfcHJlZml4X2J1Y2tldF8AAQ'),\n",
       " TTableName(ns=b'default', qualifier=b'aGJhc2Vfc2FsbW9uZWxsYV9wb3NfcHJlZml4X2J1Y2tldF8AAg'),\n",
       " TTableName(ns=b'default', qualifier=b'aGJhc2Vfc2FsbW9uZWxsYV9wb3NfcHJlZml4X2J1Y2tldF8AAw'),\n",
       " TTableName(ns=b'default', qualifier=b'aGJhc2Vfc2FsbW9uZWxsYV9wb3NfcHJlZml4X2J1Y2tldF8ABA'),\n",
       " TTableName(ns=b'default', qualifier=b'aGJhc2Vfc2FsbW9uZWxsYV9wb3NfcHJlZml4X2tleXM'),\n",
       " TTableName(ns=b'default', qualifier=b'aGJhc2Vfc2FsbW9uZWxsYV9wb3NfcHJlZml4XzdfYnVja2V0XwAA'),\n",
       " TTableName(ns=b'default', qualifier=b'aGJhc2Vfc2FsbW9uZWxsYV9wb3NfcHJlZml4XzdfYnVja2V0XwAB'),\n",
       " TTableName(ns=b'default', qualifier=b'aGJhc2Vfc2FsbW9uZWxsYV9wb3NfcHJlZml4XzdfYnVja2V0XwAC'),\n",
       " TTableName(ns=b'default', qualifier=b'aGJhc2Vfc2FsbW9uZWxsYV9wb3NfcHJlZml4XzdfYnVja2V0XwAD'),\n",
       " TTableName(ns=b'default', qualifier=b'aGJhc2Vfc2FsbW9uZWxsYV9wb3NfcHJlZml4XzdfYnVja2V0XwAE'),\n",
       " TTableName(ns=b'default', qualifier=b'aGJhc2Vfc2FsbW9uZWxsYV9wb3NfcHJlZml4XzdfYnVja2V0XwAF'),\n",
       " TTableName(ns=b'default', qualifier=b'aGJhc2Vfc2FsbW9uZWxsYV9wb3NfcHJlZml4XzdfYnVja2V0XwAG'),\n",
       " TTableName(ns=b'default', qualifier=b'aGJhc2Vfc2FsbW9uZWxsYV9wb3NfcHJlZml4XzdfYnVja2V0XwAH'),\n",
       " TTableName(ns=b'default', qualifier=b'aGJhc2Vfc2FsbW9uZWxsYV9wb3NfcHJlZml4XzdfYnVja2V0XwAI'),\n",
       " TTableName(ns=b'default', qualifier=b'aGJhc2Vfc2FsbW9uZWxsYV9wb3NfcHJlZml4XzdfYnVja2V0XwAJ'),\n",
       " TTableName(ns=b'default', qualifier=b'aGJhc2Vfc2FsbW9uZWxsYV9wb3NfcHJlZml4XzdfYnVja2V0XwAK'),\n",
       " TTableName(ns=b'default', qualifier=b'aGJhc2Vfc2FsbW9uZWxsYV9wb3NfcHJlZml4XzdfYnVja2V0XwAL'),\n",
       " TTableName(ns=b'default', qualifier=b'aGJhc2Vfc2FsbW9uZWxsYV9wb3NfcHJlZml4XzdfYnVja2V0XwAM'),\n",
       " TTableName(ns=b'default', qualifier=b'aGJhc2Vfc2FsbW9uZWxsYV9wb3NfcHJlZml4XzdfYnVja2V0XwAN'),\n",
       " TTableName(ns=b'default', qualifier=b'aGJhc2Vfc2FsbW9uZWxsYV9wb3NfcHJlZml4XzdfYnVja2V0XwAO'),\n",
       " TTableName(ns=b'default', qualifier=b'aGJhc2Vfc2FsbW9uZWxsYV9wb3NfcHJlZml4XzdfYnVja2V0XwAP'),\n",
       " TTableName(ns=b'default', qualifier=b'aGJhc2Vfc2FsbW9uZWxsYV9wb3NfcHJlZml4XzdfYnVja2V0XwAQ'),\n",
       " TTableName(ns=b'default', qualifier=b'aGJhc2Vfc2FsbW9uZWxsYV9wb3NfcHJlZml4XzdfYnVja2V0XwAR'),\n",
       " TTableName(ns=b'default', qualifier=b'aGJhc2Vfc2FsbW9uZWxsYV9wb3NfcHJlZml4XzdfYnVja2V0XwAS'),\n",
       " TTableName(ns=b'default', qualifier=b'aGJhc2Vfc2FsbW9uZWxsYV9wb3NfcHJlZml4XzdfYnVja2V0XwAT'),\n",
       " TTableName(ns=b'default', qualifier=b'aGJhc2Vfc2FsbW9uZWxsYV9wb3NfcHJlZml4XzdfYnVja2V0XwAU'),\n",
       " TTableName(ns=b'default', qualifier=b'aGJhc2Vfc2FsbW9uZWxsYV9wb3NfcHJlZml4XzdfYnVja2V0XwAV'),\n",
       " TTableName(ns=b'default', qualifier=b'aGJhc2Vfc2FsbW9uZWxsYV9wb3NfcHJlZml4XzdfYnVja2V0XwAW'),\n",
       " TTableName(ns=b'default', qualifier=b'aGJhc2Vfc2FsbW9uZWxsYV9wb3NfcHJlZml4XzdfYnVja2V0XwAX'),\n",
       " TTableName(ns=b'default', qualifier=b'aGJhc2Vfc2FsbW9uZWxsYV9wb3NfcHJlZml4XzdfYnVja2V0XwAY'),\n",
       " TTableName(ns=b'default', qualifier=b'aGJhc2Vfc2FsbW9uZWxsYV9wb3NfcHJlZml4Xzdfa2V5cw'),\n",
       " TTableName(ns=b'hbase', qualifier=b'meta'),\n",
       " TTableName(ns=b'hbase', qualifier=b'namespace')]"
      ]
     },
     "execution_count": 10,
     "metadata": {},
     "output_type": "execute_result"
    }
   ],
   "source": [
    "with pool as c:\n",
    "    t = c.getTableNamesByNamespace('')\n",
    "t"
   ]
  },
  {
   "cell_type": "code",
   "execution_count": 7,
   "id": "6f5306c6-0a21-4914-994b-6e10ddb38241",
   "metadata": {},
   "outputs": [
    {
     "name": "stdout",
     "output_type": "stream",
     "text": [
      "CPU times: user 5.87 ms, sys: 166 µs, total: 6.04 ms\n",
      "Wall time: 32.5 ms\n"
     ]
    },
    {
     "data": {
      "text/plain": [
       "[(75,\n",
       "  'AACAAGTTTCGGAATGTGATCAATTTAAAAATTTATTGACTTAGGCGGGCAGATACTTTAACCAATATAGGAATA')]"
      ]
     },
     "execution_count": 7,
     "metadata": {},
     "output_type": "execute_result"
    }
   ],
   "source": [
    "%%time\n",
    "candidate = list(lsh.query(create_hash('AACAAGTTTCGGAATGTGATCAATTTAAAAATTTATTGACTTAGGCGGGCAGATACTTTAACCAATATAGGAATA')))\n",
    "candidate.sort(key=lambda x: x[0]) \n",
    "candidate = candidate[0:7]\n",
    "candidate"
   ]
  },
  {
   "cell_type": "code",
   "execution_count": 23,
   "id": "0869dfc4-ab21-46b0-9248-c4da224fbddd",
   "metadata": {},
   "outputs": [
    {
     "name": "stdout",
     "output_type": "stream",
     "text": [
      "CPU times: user 269 µs, sys: 60 µs, total: 329 µs\n",
      "Wall time: 333 µs\n"
     ]
    },
    {
     "data": {
      "text/plain": [
       "[((75,\n",
       "   'AACAAGTTTCGGAATGTGATCAATTTAAAAATTTATTGACTTAGGCGGGCAGATACTTTAACCAATATAGGAATA'),\n",
       "  (6, 1356, '2S9M1S9M1S21M1S18M1S12M', '75M', 'TT9T9T21T18T12'))]"
      ]
     },
     "execution_count": 23,
     "metadata": {},
     "output_type": "execute_result"
    }
   ],
   "source": [
    "%%time\n",
    "scores = [(cand, gasm.gasmAlignment('TTCAAGTTTCGTAATGTGATCTATTTAAAAATTTATTGACTTATGCGGGCAGATACTTTAACTAATATAGGAATA', cand[1], 20, 20, 4, 5, 1)) for cand in candidate]\n",
    "scores.sort(key=lambda x: x[1][0])\n",
    "scores = list(filter(lambda x: x[1][2] != '', scores))\n",
    "scores"
   ]
  },
  {
   "cell_type": "code",
   "execution_count": null,
   "id": "ba8d9d7d-a197-4691-80fc-e35f4ffe9a33",
   "metadata": {},
   "outputs": [],
   "source": [
    "ref = reference.filter(lambda x: x[0] >= 4099898).sortByKey(lambda x: x[0]).take(1)[0]\n",
    "ref"
   ]
  },
  {
   "cell_type": "code",
   "execution_count": 46,
   "id": "1c3df170-1429-4bb8-acdd-633d4e11477a",
   "metadata": {},
   "outputs": [
    {
     "name": "stdout",
     "output_type": "stream",
     "text": [
      "4099920: A/A\n",
      "4099921: A/G\n",
      "4099922: C/C\n",
      "4099923: G/G\n",
      "4099924: A/A\n",
      "4099925: T/A\n",
      "4099926: T/A\n",
      "4099927: G/A\n",
      "4099928: A/T\n",
      "4099929: C/A\n",
      "4099930: T/A\n",
      "4099931: C/A\n",
      "4099932: T/C\n",
      "4099933: G/G\n",
      "4099934: A/C\n",
      "4099935: A/T\n",
      "4099936: G/T\n",
      "4099937: C/G\n",
      "4099938: G/A\n",
      "4099939: G/C\n",
      "4099940: G/T\n",
      "4099941: A/C\n",
      "4099942: A/T\n",
      "4099943: A/G\n",
      "4099944: G/A\n",
      "4099945: C/A\n",
      "4099946: G/G\n",
      "4099947: T/C\n",
      "4099948: A/G\n",
      "4099949: A/G\n",
      "4099950: T/G\n",
      "4099951: A/A\n",
      "4099952: T/A\n",
      "4099953: G/A\n",
      "4099954: C/G\n",
      "4099955: A/C\n",
      "4099956: C/G\n",
      "4099957: A/T\n",
      "4099958: C/A\n",
      "4099959: C/A\n",
      "4099960: A/T\n",
      "4099961: C/A\n",
      "4099962: G/T\n",
      "4099963: C/G\n",
      "4099964: G/C\n",
      "4099965: A/A\n",
      "4099966: C/C\n",
      "4099967: G/A\n",
      "4099968: C/C\n",
      "4099969: T/C\n",
      "4099970: G/C\n",
      "4099971: A/C\n",
      "4099972: G/G\n"
     ]
    }
   ],
   "source": [
    "keys = [key for key in table.keys() if key >= 4099920 and key < 4099920 + 81]\n",
    "for key in keys:\n",
    "    offset = key - ref[0]\n",
    "    reference = ref[1][offset]\n",
    "    value = list(table[key].keys())[0]\n",
    "    print(f\"{key}: {value}/{reference}\")"
   ]
  },
  {
   "cell_type": "markdown",
   "id": "405f3d6e-c9d1-445e-9c8d-29f454ecef57",
   "metadata": {},
   "source": [
    "AGCGAAAATAAACGCTTGACTCTGAAGCGGGAAAGCGTAATATGCACACCCCGCGCCGCTGAGAAAAAGCGAAGCGGCAC"
   ]
  },
  {
   "cell_type": "markdown",
   "id": "cc985e75-8bf0-4973-9d97-4744d42b7e9b",
   "metadata": {},
   "source": [
    "AACGATTGACTCTGAAGCGGGAAAGCGTAATATGCACACCACGCGACGCTGAG"
   ]
  },
  {
   "cell_type": "code",
   "execution_count": 40,
   "id": "45b07d64-e7c6-47d7-a796-e79b9808e205",
   "metadata": {},
   "outputs": [
    {
     "data": {
      "text/plain": [
       "53"
      ]
     },
     "execution_count": 40,
     "metadata": {},
     "output_type": "execute_result"
    }
   ],
   "source": [
    "len('AACGATTGACTCTGAAGCGGGAAAGCGTAATATGCACACCACGCGACGCTGAG')"
   ]
  },
  {
   "cell_type": "code",
   "execution_count": 30,
   "id": "3afbabcd-a020-473a-abe9-6204aeb8a122",
   "metadata": {},
   "outputs": [
    {
     "data": {
      "text/plain": [
       "b'\\x14\\x00\\x00\\x00\\x00\\x00\\x00\\x00c'"
      ]
     },
     "execution_count": 30,
     "metadata": {},
     "output_type": "execute_result"
    }
   ],
   "source": [
    "a = 20\n",
    "a.to_bytes(8, byteorder='little') + 'c'.encode('utf8')"
   ]
  },
  {
   "cell_type": "code",
   "execution_count": 10,
   "id": "77e494b8-bda7-4289-b008-dc40559d90ac",
   "metadata": {},
   "outputs": [],
   "source": [
    "lines = \"\"\"aGJhc2Vfc2FsbW9uZWxsYV9wb3NfcHJlZml4XzdfYnVja2V0XwAA\n",
    "aGJhc2Vfc2FsbW9uZWxsYV9wb3NfcHJlZml4XzdfYnVja2V0XwAB\n",
    "aGJhc2Vfc2FsbW9uZWxsYV9wb3NfcHJlZml4XzdfYnVja2V0XwAC\n",
    "aGJhc2Vfc2FsbW9uZWxsYV9wb3NfcHJlZml4XzdfYnVja2V0XwAD\n",
    "aGJhc2Vfc2FsbW9uZWxsYV9wb3NfcHJlZml4XzdfYnVja2V0XwAE\n",
    "aGJhc2Vfc2FsbW9uZWxsYV9wb3NfcHJlZml4XzdfYnVja2V0XwAF\n",
    "aGJhc2Vfc2FsbW9uZWxsYV9wb3NfcHJlZml4XzdfYnVja2V0XwAG\n",
    "aGJhc2Vfc2FsbW9uZWxsYV9wb3NfcHJlZml4XzdfYnVja2V0XwAH\n",
    "aGJhc2Vfc2FsbW9uZWxsYV9wb3NfcHJlZml4XzdfYnVja2V0XwAI\n",
    "aGJhc2Vfc2FsbW9uZWxsYV9wb3NfcHJlZml4XzdfYnVja2V0XwAJ\n",
    "aGJhc2Vfc2FsbW9uZWxsYV9wb3NfcHJlZml4XzdfYnVja2V0XwAK\n",
    "aGJhc2Vfc2FsbW9uZWxsYV9wb3NfcHJlZml4XzdfYnVja2V0XwAL\n",
    "aGJhc2Vfc2FsbW9uZWxsYV9wb3NfcHJlZml4XzdfYnVja2V0XwAM\n",
    "aGJhc2Vfc2FsbW9uZWxsYV9wb3NfcHJlZml4XzdfYnVja2V0XwAN\n",
    "aGJhc2Vfc2FsbW9uZWxsYV9wb3NfcHJlZml4XzdfYnVja2V0XwAO\n",
    "aGJhc2Vfc2FsbW9uZWxsYV9wb3NfcHJlZml4XzdfYnVja2V0XwAP\n",
    "aGJhc2Vfc2FsbW9uZWxsYV9wb3NfcHJlZml4XzdfYnVja2V0XwAQ\n",
    "aGJhc2Vfc2FsbW9uZWxsYV9wb3NfcHJlZml4XzdfYnVja2V0XwAR\n",
    "aGJhc2Vfc2FsbW9uZWxsYV9wb3NfcHJlZml4XzdfYnVja2V0XwAS\n",
    "aGJhc2Vfc2FsbW9uZWxsYV9wb3NfcHJlZml4XzdfYnVja2V0XwAT\n",
    "aGJhc2Vfc2FsbW9uZWxsYV9wb3NfcHJlZml4XzdfYnVja2V0XwAU\n",
    "aGJhc2Vfc2FsbW9uZWxsYV9wb3NfcHJlZml4XzdfYnVja2V0XwAV\n",
    "aGJhc2Vfc2FsbW9uZWxsYV9wb3NfcHJlZml4XzdfYnVja2V0XwAW\n",
    "aGJhc2Vfc2FsbW9uZWxsYV9wb3NfcHJlZml4XzdfYnVja2V0XwAX\n",
    "aGJhc2Vfc2FsbW9uZWxsYV9wb3NfcHJlZml4XzdfYnVja2V0XwAY\n",
    "aGJhc2Vfc2FsbW9uZWxsYV9wb3NfcHJlZml4Xzdfa2V5cw\"\"\".split('\\n')"
   ]
  },
  {
   "cell_type": "code",
   "execution_count": null,
   "id": "e7f2b0b4-6c75-44e8-a582-9c4ea3318da8",
   "metadata": {},
   "outputs": [],
   "source": []
  }
 ],
 "metadata": {
  "kernelspec": {
   "display_name": "Python 3 (ipykernel)",
   "language": "python",
   "name": "python3"
  },
  "language_info": {
   "codemirror_mode": {
    "name": "ipython",
    "version": 3
   },
   "file_extension": ".py",
   "mimetype": "text/x-python",
   "name": "python",
   "nbconvert_exporter": "python",
   "pygments_lexer": "ipython3",
   "version": "3.8.10"
  }
 },
 "nbformat": 4,
 "nbformat_minor": 5
}
