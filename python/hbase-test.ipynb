{
 "cells": [
  {
   "cell_type": "code",
   "execution_count": 19,
   "id": "4e8bf5c1-822e-4958-b5f3-0787e385e81c",
   "metadata": {},
   "outputs": [],
   "source": [
    "import happybase"
   ]
  },
  {
   "cell_type": "code",
   "execution_count": 20,
   "id": "9b03f658-f3e7-4ad9-b74e-0641681f0317",
   "metadata": {},
   "outputs": [],
   "source": [
    "connection = happybase.Connection('datanode2')"
   ]
  },
  {
   "cell_type": "code",
   "execution_count": 12,
   "id": "f02a4e81-3321-43f7-aa84-2e1ea6d4ffa8",
   "metadata": {},
   "outputs": [],
   "source": [
    "families = {\n",
    "    'qual1': dict(max_versions=1),\n",
    "    'qual2': dict(max_versions=1, block_cache_enabled=False),\n",
    "    #'cf3': dict(),  # use defaults\n",
    "}\n",
    "#connection.create_table('mytable', families)"
   ]
  },
  {
   "cell_type": "code",
   "execution_count": 13,
   "id": "7365585b-e22f-4caa-a624-7927f10921ef",
   "metadata": {},
   "outputs": [],
   "source": [
    "table = connection.table('mytable')\n",
    "table.put(b'rokeyw', {b'qual1:cola': b'value1',\n",
    "                       b'qual2:col2': b'value2'})"
   ]
  },
  {
   "cell_type": "markdown",
   "id": "ab7e779f-acfb-4893-9c75-1d386b97c347",
   "metadata": {},
   "source": [
    "## IT WORKS (sorta... maybe, idk)"
   ]
  },
  {
   "cell_type": "code",
   "execution_count": 14,
   "id": "3bf37d08-7410-453d-b490-cbf4f7a49a0e",
   "metadata": {},
   "outputs": [
    {
     "data": {
      "text/plain": [
       "[(b'rokey', {b'qual1:col1': b'value1', b'qual2:col2': b'value2'})]"
      ]
     },
     "execution_count": 14,
     "metadata": {},
     "output_type": "execute_result"
    }
   ],
   "source": [
    "table.rows([b'rokey'])"
   ]
  },
  {
   "cell_type": "code",
   "execution_count": 21,
   "id": "4b6eb280-e1a5-451c-9950-7ebd6467f805",
   "metadata": {},
   "outputs": [],
   "source": [
    "connection.delete_table('mytable', disable=True)"
   ]
  },
  {
   "cell_type": "code",
   "execution_count": null,
   "id": "33fd6190-2ab2-470b-b4bf-bd7f987f8062",
   "metadata": {},
   "outputs": [],
   "source": []
  }
 ],
 "metadata": {
  "kernelspec": {
   "display_name": "Python 3 (ipykernel)",
   "language": "python",
   "name": "python3"
  },
  "language_info": {
   "codemirror_mode": {
    "name": "ipython",
    "version": 3
   },
   "file_extension": ".py",
   "mimetype": "text/x-python",
   "name": "python",
   "nbconvert_exporter": "python",
   "pygments_lexer": "ipython3",
   "version": "3.8.10"
  }
 },
 "nbformat": 4,
 "nbformat_minor": 5
}
