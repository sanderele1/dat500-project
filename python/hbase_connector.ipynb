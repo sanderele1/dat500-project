{
 "cells": [
  {
   "cell_type": "code",
   "execution_count": null,
   "id": "c44d3e4e-9387-4baf-9d3c-c2ec82a881a3",
   "metadata": {},
   "outputs": [],
   "source": [
    "import hbase_datasketch\n",
    "import happybase as hb\n",
    "import datasketch as ds"
   ]
  },
  {
   "cell_type": "code",
   "execution_count": null,
   "id": "ca83b9a2-4f5a-4e47-980e-fe3514c20f33",
   "metadata": {},
   "outputs": [],
   "source": [
    "test_values = ['hello', 'hotel', 'home', 'hitachi', 'honda', 'cake', 'nuggets', 'vehicle', 'propeller', 'shaft', 'wonderman', 'cross']\n",
    "hashes = [ds.MinHash() for v in test_values]\n",
    "for i, value in enumerate(test_values):\n",
    "    for v in value:\n",
    "        hashes[i].update(v.encode('utf8'))"
   ]
  },
  {
   "cell_type": "code",
   "execution_count": null,
   "id": "c143f0ca-d3d7-4ff2-aa7c-5b8fab6d3455",
   "metadata": {},
   "outputs": [],
   "source": [
    "pool = hb.ConnectionPool(10, host='datanode2')\n",
    "config = {'type': 'hbase',\n",
    "          'hbase_table': 'connector_test_table',\n",
    "          'hbase_pool': pool,\n",
    "          'hbase_keysize': 40,\n",
    "          'basename': b'',\n",
    "          'hbase_recreate_table': False}"
   ]
  },
  {
   "cell_type": "code",
   "execution_count": null,
   "id": "8f152ff4-3a26-456f-ac35-57d00521ca0b",
   "metadata": {},
   "outputs": [],
   "source": [
    "lsh = ds.MinHashLSH(threshold=0.7, storage_config=config)"
   ]
  },
  {
   "cell_type": "code",
   "execution_count": null,
   "id": "135f27eb-1e7f-49b4-bfa3-680410d7ac39",
   "metadata": {},
   "outputs": [],
   "source": [
    "with lsh.insertion_session() as sess:\n",
    "    for i, value in enumerate(test_values):\n",
    "        sess.insert(value, hashes[i])"
   ]
  },
  {
   "cell_type": "code",
   "execution_count": null,
   "id": "1bb771e0-c846-4cd4-a584-cb5a1813a70f",
   "metadata": {},
   "outputs": [],
   "source": [
    "query_value = 'adnoh'\n",
    "h = ds.MinHash()\n",
    "for v in query_value:\n",
    "    h.update(v.encode('utf8'))"
   ]
  },
  {
   "cell_type": "code",
   "execution_count": null,
   "id": "867a6703-96e8-4417-8259-0ed6d7efd81f",
   "metadata": {},
   "outputs": [],
   "source": [
    "lsh.query(h)"
   ]
  },
  {
   "cell_type": "code",
   "execution_count": null,
   "id": "56a23c0f-a739-4067-a73b-2c28385cf257",
   "metadata": {},
   "outputs": [],
   "source": []
  }
 ],
 "metadata": {
  "kernelspec": {
   "display_name": "Python 3 (ipykernel)",
   "language": "python",
   "name": "python3"
  },
  "language_info": {
   "codemirror_mode": {
    "name": "ipython",
    "version": 3
   },
   "file_extension": ".py",
   "mimetype": "text/x-python",
   "name": "python",
   "nbconvert_exporter": "python",
   "pygments_lexer": "ipython3",
   "version": "3.8.10"
  }
 },
 "nbformat": 4,
 "nbformat_minor": 5
}
