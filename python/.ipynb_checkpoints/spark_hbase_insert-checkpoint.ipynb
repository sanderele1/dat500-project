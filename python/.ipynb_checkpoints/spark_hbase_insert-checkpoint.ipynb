{
 "cells": [
  {
   "cell_type": "code",
   "execution_count": 1,
   "id": "cbdef26d-8a7b-49fa-a711-e1bde7d7ff37",
   "metadata": {},
   "outputs": [
    {
     "data": {
      "text/plain": [
       "'/usr/local/spark/python/pyspark'"
      ]
     },
     "execution_count": 1,
     "metadata": {},
     "output_type": "execute_result"
    }
   ],
   "source": [
    "import findspark\n",
    "findspark.init()\n",
    "findspark.find()"
   ]
  },
  {
   "cell_type": "code",
   "execution_count": 2,
   "id": "d41efd6b-cc78-4f3a-b2ed-d222a717f265",
   "metadata": {},
   "outputs": [
    {
     "name": "stderr",
     "output_type": "stream",
     "text": [
      "Setting default log level to \"WARN\".\n",
      "To adjust logging level use sc.setLogLevel(newLevel). For SparkR, use setLogLevel(newLevel).\n",
      "2022-03-31 11:30:23,478 WARN util.NativeCodeLoader: Unable to load native-hadoop library for your platform... using builtin-java classes where applicable\n",
      "2022-03-31 11:30:29,091 WARN yarn.Client: Neither spark.yarn.jars nor spark.yarn.archive is set, falling back to uploading libraries under SPARK_HOME.\n"
     ]
    }
   ],
   "source": [
    "from pyspark.sql import SparkSession\n",
    "\n",
    "spark = (SparkSession\n",
    "         .builder\n",
    "         .master(\"yarn\")\n",
    "         .appName(\"python-testing\")\n",
    "         .config(\"spark.executor.instances\", 16)\n",
    "         .config(\"spark.executor.memory\", \"1536m\")\n",
    "         #.config(\"spark.dynamicAllocation.enabled\", \"true\")\n",
    "         #.config(\"spark.executor.cores\", 1)\n",
    "         #.config(\"spark.dynamicAllocation.minExecutors\", 4)\n",
    "         #.config(\"spark.dynamicAllocation.maxExecutors\", 32)\n",
    "         #.config(\"spark.shuffle.service.enabled\", \"true\")\n",
    "         #.config(\"spark.shuffle.service.port\", 7337)\n",
    "         .getOrCreate())\n",
    "sc = spark.sparkContext"
   ]
  },
  {
   "cell_type": "code",
   "execution_count": 3,
   "id": "fa94b247-89c2-439f-8f81-80bb7fe95edf",
   "metadata": {},
   "outputs": [],
   "source": [
    "sc.environment['PYTHONPATH'] = '/home/ubuntu/.local/lib/python3.8/site-packages'\n",
    "sc.addPyFile('hbase_datasketch.py')"
   ]
  },
  {
   "cell_type": "code",
   "execution_count": 4,
   "id": "56b7ec69-940a-4d9d-9d50-3ab593703474",
   "metadata": {},
   "outputs": [
    {
     "data": {
      "text/plain": [
       "['/usr/local/spark/python',\n",
       " '/tmp/spark-9b7656a0-6991-4977-aaad-1f0d053c5220/userFiles-09911096-855a-4338-9f2b-0a973bd6887e',\n",
       " '/usr/local/spark/python/lib/py4j-0.10.9.2-src.zip',\n",
       " '/home/ubuntu/project/python',\n",
       " '/usr/lib/python38.zip',\n",
       " '/usr/lib/python3.8',\n",
       " '/usr/lib/python3.8/lib-dynload',\n",
       " '',\n",
       " '/home/ubuntu/.local/lib/python3.8/site-packages',\n",
       " '/usr/local/lib/python3.8/dist-packages',\n",
       " '/usr/lib/python3/dist-packages']"
      ]
     },
     "execution_count": 4,
     "metadata": {},
     "output_type": "execute_result"
    }
   ],
   "source": [
    "import sys\n",
    "sys.path"
   ]
  },
  {
   "cell_type": "code",
   "execution_count": 5,
   "id": "876c6fc4-ad86-46af-8634-f9b32fbbeabf",
   "metadata": {},
   "outputs": [
    {
     "name": "stderr",
     "output_type": "stream",
     "text": [
      "                                                                                \r"
     ]
    },
    {
     "data": {
      "text/plain": [
       "[(30126923,\n",
       "  'CGCATCGTGGCTGGACCTGAGTCCATCTGCCCTGGTGCCTGCATGACTGGCCCTTCTCCTTCACAGACCATGGCCCCAGGCTCCCTTGCTTTCATTTCCCAGCCCGTTATTGGGGCAGGAGAGTAGCAAGCGGGGGAGTTTTGATGAGGCGAGGA')]"
      ]
     },
     "execution_count": 5,
     "metadata": {},
     "output_type": "execute_result"
    }
   ],
   "source": [
    "windows = sc.sequenceFile(\"hdfs:///files/windowed\")\n",
    "windows.take(1)"
   ]
  },
  {
   "cell_type": "code",
   "execution_count": null,
   "id": "f1d85be7-f212-4af5-a8a2-ac94b1bd5737",
   "metadata": {},
   "outputs": [
    {
     "name": "stderr",
     "output_type": "stream",
     "text": [
      "[Stage 2:=============================================>        (108 + 15) / 128]\r"
     ]
    }
   ],
   "source": [
    "sample = windows.sample(fraction=0.0005, withReplacement=False, seed=1).cache()\n",
    "sample.count()"
   ]
  },
  {
   "cell_type": "code",
   "execution_count": null,
   "id": "245782b1-76c1-437e-8d59-e90d460b0bf2",
   "metadata": {},
   "outputs": [],
   "source": [
    "import hbase_datasketch\n",
    "import happybase as hb\n",
    "import datasketch as ds"
   ]
  },
  {
   "cell_type": "code",
   "execution_count": null,
   "id": "404626c3-702b-4ed9-ac8b-6a0412ba5fa5",
   "metadata": {},
   "outputs": [],
   "source": [
    "def hashValue(value):\n",
    "    import datasketch as ds\n",
    "    h = ds.MinHash()\n",
    "    for v in value:\n",
    "        h.update(v.encode('utf8'))\n",
    "    return (h.seed, h.hashvalues)\n",
    "\n",
    "hashes = sample.mapValues(hashValue)"
   ]
  },
  {
   "cell_type": "code",
   "execution_count": null,
   "id": "9e898daa-dec5-4f8f-b245-87459ed496c5",
   "metadata": {
    "tags": []
   },
   "outputs": [],
   "source": [
    "def uploadPartition(hashes):\n",
    "    import datasketch as ds\n",
    "    import hbase_datasketch\n",
    "    import happybase as hb\n",
    "    h = map(lambda x: (x[0], ds.LeanMinHash(seed=x[1][0], hashvalues=x[1][1])), hashes)\n",
    "    \n",
    "    pool = hb.ConnectionPool(10, host='datanode2')\n",
    "    config = {'type': 'hbase',\n",
    "              'hbase_table': 'injection_test',\n",
    "              'hbase_pool': pool,\n",
    "              'hbase_keysize': 40,\n",
    "              'basename': b'',\n",
    "              'hbase_recreate_table': True}\n",
    "    \n",
    "    lsh = ds.MinHashLSH(threshold=0.7, storage_config=config)\n",
    "    \n",
    "    with lsh.insertion_session() as sess:\n",
    "        for i, value in h:\n",
    "            lsh.insert(f\"{i}\", value)\n",
    "\n",
    "hashes.foreachPartition(uploadPartition)"
   ]
  },
  {
   "cell_type": "code",
   "execution_count": null,
   "id": "44c0f2bc-b514-422d-8153-9723c7497889",
   "metadata": {},
   "outputs": [],
   "source": [
    "pool = hb.ConnectionPool(10, host='datanode2')\n",
    "config = {'type': 'hbase',\n",
    "          'hbase_table': 'injection_test',\n",
    "          'hbase_pool': pool,\n",
    "          'hbase_keysize': 40,\n",
    "          'basename': b'',\n",
    "          'hbase_recreate_table': False}\n",
    "\n",
    "lsh = ds.MinHashLSH(threshold=0.7, storage_config=config)"
   ]
  },
  {
   "cell_type": "code",
   "execution_count": null,
   "id": "57383031-212f-43b5-8d2b-ff4453d7def9",
   "metadata": {},
   "outputs": [],
   "source": []
  }
 ],
 "metadata": {
  "kernelspec": {
   "display_name": "Python 3 (ipykernel)",
   "language": "python",
   "name": "python3"
  },
  "language_info": {
   "codemirror_mode": {
    "name": "ipython",
    "version": 3
   },
   "file_extension": ".py",
   "mimetype": "text/x-python",
   "name": "python",
   "nbconvert_exporter": "python",
   "pygments_lexer": "ipython3",
   "version": "3.8.10"
  }
 },
 "nbformat": 4,
 "nbformat_minor": 5
}
