{
 "cells": [
  {
   "cell_type": "markdown",
   "id": "e081c1b7-e474-4eef-87a2-48117bec0366",
   "metadata": {},
   "source": [
    "## Notes to self:\n",
    "DictListStorage takes in (string key, bytes value)\n",
    "DictSetStorage takes in (bytes key, tuple value # ('hello',) example)"
   ]
  },
  {
   "cell_type": "code",
   "execution_count": 32,
   "id": "ef3f43c7-00fe-4bdd-b6c5-2dc4510011bf",
   "metadata": {},
   "outputs": [],
   "source": [
    "import datasketch as ds\n",
    "import happybase as hb\n",
    "import struct\n",
    "import pickle\n",
    "import base64\n",
    "import time\n",
    "import Hbase_thrift\n",
    "import random\n",
    "import pickle"
   ]
  },
  {
   "cell_type": "code",
   "execution_count": 106,
   "id": "95b88bb2-7c59-4949-9ead-098e109f14f1",
   "metadata": {},
   "outputs": [],
   "source": [
    "def hbase_safe_b64_encode(data):\n",
    "    return base64.b64encode(data).decode('utf8').replace('=', '')\n",
    "\n",
    "def safely_create_table(pool, tablename, max_retries):\n",
    "        needs_create_table = True\n",
    "        \n",
    "        retries = 0\n",
    "        max_retries = 10\n",
    "        \n",
    "        while needs_create_table and retries < max_retries:\n",
    "            try:\n",
    "                with pool.connection() as c:\n",
    "                    needs_create_table = not c.is_table_enabled(self._table)\n",
    "            except Hbase_thrift.IOError as e:\n",
    "                message = e.message.decode('utf8')\n",
    "                if not message.startswith('org.apache.hadoop.hbase.TableNotFoundException'):\n",
    "                    raise e\n",
    "                        \n",
    "            if needs_create_table:\n",
    "                sleep_time = random.uniform(0.01, 2)\n",
    "                print(f\"Need to create table:  {self._name} ({self._table}), sleeping {sleep_time} seconds\")\n",
    "                time.sleep(sleep_time)\n",
    "                print(f\"Finished sleeping, attempting to create table ({retries}/{max_retries} retries): {self._name}\")\n",
    "                \n",
    "                try:\n",
    "                    with pool.connection() as c:\n",
    "                        families = {\n",
    "                            'fvalue': dict(),\n",
    "                        }\n",
    "                        c.create_table(self._table, families)\n",
    "                        needs_create_table = False\n",
    "                        print(f\"Successfully create table: {self._name}\")\n",
    "                except BaseException as e:\n",
    "                    retries += 1\n",
    "                    print(f\"Failed to create table: {self._name}\")\n",
    "                    #raise e\n",
    "                \n",
    "        if needs_create_table:\n",
    "            raise ValueError(f\"Failed to create table {self._name} with {retries} retries\")\n",
    "\n",
    "class HBaseDictListStorage(ds.storage.OrderedStorage):\n",
    "    def __init__(self, config, name):\n",
    "        self._name = name\n",
    "        self._table = hbase_safe_b64_encode(name)\n",
    "        self._pool = config['hbase_pool']\n",
    "        self.buffer = None\n",
    "                \n",
    "    def keys(self):\n",
    "        raise ValueError('Not implemented')\n",
    "\n",
    "    def get(self, key):\n",
    "        raise ValueError('Not implemented')\n",
    "\n",
    "    def remove(self, *keys):\n",
    "        raise ValueError('Not implemented')\n",
    "\n",
    "    def remove_val(self, key, val):\n",
    "        raise ValueError('Not implemented')\n",
    "\n",
    "    def _insert_batch(self, batch, value):\n",
    "        key, values = value\n",
    "\n",
    "        name = key\n",
    "        if type(name) is str:\n",
    "            name = name.encode('utf8')\n",
    "        \n",
    "        for v in values:            \n",
    "            #print(f\"Inserting key: {base64.b64encode(name + v).decode('utf8')}, value: { {b'fvalue:value': v, b'fvalue:name': name} }\")\n",
    "            batch.put(hbase_safe_b64_encode(v), {b'fvalue:value': v, b'fvalue:name': name})\n",
    "            \n",
    "    def _insert(self, values):\n",
    "        \n",
    "        try:\n",
    "            with self._pool.connection() as c:\n",
    "                table = c.table(self._table)\n",
    "                with table.batch(transaction=True) as b:\n",
    "                    for value in values:\n",
    "                        self._insert_batch(b, value)\n",
    "                        \n",
    "        except BaseException as e:\n",
    "            print(f\"Failed inserting with : {e}\")\n",
    "            raise e\n",
    "        \n",
    "    def insert(self, key, *vals, **kwargs):\n",
    "        # Needs implementation\n",
    "        # Should check: kwargs['buffer'], if true, buffer untill empty_buffer is called\n",
    "        \n",
    "        if kwargs['buffer'] and kwargs['buffer'] == True:\n",
    "            if self.buffer == None:\n",
    "                self.buffer = []\n",
    "            \n",
    "            self.buffer.append((key, vals))\n",
    "        else:\n",
    "            self._insert([(key, vals)])\n",
    "        \n",
    "        pass\n",
    "        \n",
    "\n",
    "    def size(self):\n",
    "        raise ValueError('Not implemented')\n",
    "\n",
    "    def itemcounts(self, **kwargs):\n",
    "        raise ValueError('Not implemented')\n",
    "        \n",
    "    def has_key(self, key):\n",
    "        # Needs implementation\n",
    "        with self._pool.connection() as c:\n",
    "            table = c.table(self._table)\n",
    "            \n",
    "        pass\n",
    "    \n",
    "    def empty_buffer():\n",
    "        # Used to execute large batch\n",
    "        if len(self.buffer) > 0:\n",
    "            self._insert(self.buffer)"
   ]
  },
  {
   "cell_type": "code",
   "execution_count": 107,
   "id": "6ac159d8-5831-4540-a4e1-172fedc3ea5b",
   "metadata": {},
   "outputs": [],
   "source": [
    "class HBaseDictSetStorage(ds.storage.UnorderedStorage, HBaseDictListStorage):\n",
    "    '''This is a wrapper class around ``defaultdict(set)`` enabling\n",
    "    it to support an API consistent with `Storage`\n",
    "    '''\n",
    "    def __init__(self, config, name=None):\n",
    "        HBaseDictListStorage.__init__(self, config, name=name)\n",
    "\n",
    "    def get(self, key):\n",
    "        pass\n",
    "\n",
    "    def insert(self, key, *vals, **kwargs):\n",
    "        pickled_vals = [pickle.dumps(val) for val in vals]\n",
    "        #print(f\"In dictsetstorage, trying to insert: {key} -> {pickled_vals}\")\n",
    "        HBaseDictListStorage.insert(self, key, *pickled_vals, **kwargs)"
   ]
  },
  {
   "cell_type": "code",
   "execution_count": 108,
   "id": "acf6cad1-1001-4f48-9ebe-7c681ce0df85",
   "metadata": {},
   "outputs": [],
   "source": [
    "def hbase_ordered_storage(config, name=None):\n",
    "    #print(f\"Overriden ordered storage ran with config: {config}\")\n",
    "    tp = config['type']\n",
    "    if tp == 'hbase':\n",
    "        return HBaseDictListStorage(config, name=name)\n",
    "    else:\n",
    "        return ds.storage.ordered_storage(config, name=name)\n",
    "\n",
    "\n",
    "def hbase_unordered_storage(config, name=None):\n",
    "    #print(f\"Overriden unordered storage ran with config: {config}\")\n",
    "    tp = config['type']\n",
    "    if tp == 'hbase':\n",
    "        return HBaseDictSetStorage(config, name=name)\n",
    "    else:\n",
    "        return ds.storage.unordered_storage(config, name=name)"
   ]
  },
  {
   "cell_type": "code",
   "execution_count": 109,
   "id": "f014f934-0c7c-4154-875a-76d4234ce927",
   "metadata": {},
   "outputs": [],
   "source": [
    "def override_lsh__init__(self, threshold=0.9, num_perm=128, weights=(0.5, 0.5),\n",
    "                 params=None, storage_config=None, prepickle=None, hashfunc=None):\n",
    "        storage_config = {'type': 'dict'} if not storage_config else storage_config\n",
    "        self._buffer_size = 50000\n",
    "        if threshold > 1.0 or threshold < 0.0:\n",
    "            raise ValueError(\"threshold must be in [0.0, 1.0]\")\n",
    "        if num_perm < 2:\n",
    "            raise ValueError(\"Too few permutation functions\")\n",
    "        if any(w < 0.0 or w > 1.0 for w in weights):\n",
    "            raise ValueError(\"Weight must be in [0.0, 1.0]\")\n",
    "        if sum(weights) != 1.0:\n",
    "            raise ValueError(\"Weights must sum to 1.0\")\n",
    "        self.h = num_perm\n",
    "        if params is not None:\n",
    "            self.b, self.r = params\n",
    "            if self.b * self.r > num_perm:\n",
    "                raise ValueError(\"The product of b and r in params is \"\n",
    "                        \"{} * {} = {} -- it must be less than num_perm {}. \"\n",
    "                        \"Did you forget to specify num_perm?\".format(\n",
    "                            self.b, self.r, self.b*self.r, num_perm))\n",
    "        else:\n",
    "            false_positive_weight, false_negative_weight = weights\n",
    "            self.b, self.r = ds.lsh._optimal_param(threshold, num_perm,\n",
    "                    false_positive_weight, false_negative_weight)\n",
    "\n",
    "        self.prepickle = storage_config['type'] == 'redis' if prepickle is None else prepickle\n",
    "\n",
    "        self.hashfunc = hashfunc\n",
    "        if hashfunc:\n",
    "            self._H = self._hashed_byteswap\n",
    "        else:\n",
    "            self._H = self._byteswap\n",
    "\n",
    "        basename = storage_config.get('basename', ds.storage._random_name(11))\n",
    "        self.hashtables = [\n",
    "            hbase_unordered_storage(storage_config, name=b''.join([basename, b'_bucket_', struct.pack('>H', i)]))\n",
    "            for i in range(self.b)]\n",
    "        self.hashranges = [(i*self.r, (i+1)*self.r) for i in range(self.b)]\n",
    "        self.keys = hbase_ordered_storage(storage_config, name=b''.join([basename, b'_keys']))\n",
    "        \n",
    "ds.lsh.MinHashLSH.__init__ = override_lsh__init__"
   ]
  },
  {
   "cell_type": "code",
   "execution_count": 110,
   "id": "fdae1fa2-e5d9-44f9-808f-7a9133e3c35c",
   "metadata": {},
   "outputs": [
    {
     "name": "stdout",
     "output_type": "stream",
     "text": [
      "Initializing table with name: b'test1_bucket_\\x00\\x00', safe: dGVzdDFfYnVja2V0XwAA\n",
      "Initializing table with name: b'test1_bucket_\\x00\\x01', safe: dGVzdDFfYnVja2V0XwAB\n",
      "Initializing table with name: b'test1_bucket_\\x00\\x02', safe: dGVzdDFfYnVja2V0XwAC\n",
      "Initializing table with name: b'test1_bucket_\\x00\\x03', safe: dGVzdDFfYnVja2V0XwAD\n",
      "Initializing table with name: b'test1_bucket_\\x00\\x04', safe: dGVzdDFfYnVja2V0XwAE\n",
      "Initializing table with name: b'test1_keys', safe: dGVzdDFfa2V5cw\n"
     ]
    }
   ],
   "source": [
    "pool = hb.ConnectionPool(10, host='datanode2')\n",
    "lsh = ds.lsh.MinHashLSH(storage_config={'type': 'hbase', 'basename': b'test1', 'hbase_pool': pool}, prepickle=False)"
   ]
  },
  {
   "cell_type": "code",
   "execution_count": 111,
   "id": "87998af9-f8d3-4844-ac8c-08c8ade656d3",
   "metadata": {},
   "outputs": [],
   "source": [
    "def create_hash(string):\n",
    "    mh2 = ds.MinHash()\n",
    "    for d in string:\n",
    "        mh2.update(d.encode('utf8'))\n",
    "    return mh2"
   ]
  },
  {
   "cell_type": "code",
   "execution_count": 112,
   "id": "7acfdd9a-891f-4303-abac-929b1febdf15",
   "metadata": {},
   "outputs": [
    {
     "name": "stdout",
     "output_type": "stream",
     "text": [
      "Inserting key: aGVsbG8AAAAAQihtaAAAAAAodLqRAAAAAEtVgOAAAAAAIjgl+gAAAAAKOY1/AAAAAAVpaOcAAAAAvkPIMAAAAAApTAoSAAAAAEZPRTEAAAAAIueMVgAAAAAHffh9AAAAADK+bfIAAAAACwDzKgAAAAAIb7aDAAAAAAYHqjkAAAAADXauhwAAAAAM00tmAAAAACWsNN0AAAAAaV+QngAAAABIducbAAAAAAJ9qOQAAAAAIwbCtgAAAAACve+TAAAAACVxx9wAAAAABRTsqw==, value: {b'fvalue:value': b'\\x00\\x00\\x00\\x00B(mh\\x00\\x00\\x00\\x00(t\\xba\\x91\\x00\\x00\\x00\\x00KU\\x80\\xe0\\x00\\x00\\x00\\x00\"8%\\xfa\\x00\\x00\\x00\\x00\\n9\\x8d\\x7f\\x00\\x00\\x00\\x00\\x05ih\\xe7\\x00\\x00\\x00\\x00\\xbeC\\xc80\\x00\\x00\\x00\\x00)L\\n\\x12\\x00\\x00\\x00\\x00FOE1\\x00\\x00\\x00\\x00\"\\xe7\\x8cV\\x00\\x00\\x00\\x00\\x07}\\xf8}\\x00\\x00\\x00\\x002\\xbem\\xf2\\x00\\x00\\x00\\x00\\x0b\\x00\\xf3*\\x00\\x00\\x00\\x00\\x08o\\xb6\\x83\\x00\\x00\\x00\\x00\\x06\\x07\\xaa9\\x00\\x00\\x00\\x00\\rv\\xae\\x87\\x00\\x00\\x00\\x00\\x0c\\xd3Kf\\x00\\x00\\x00\\x00%\\xac4\\xdd\\x00\\x00\\x00\\x00i_\\x90\\x9e\\x00\\x00\\x00\\x00Hv\\xe7\\x1b\\x00\\x00\\x00\\x00\\x02}\\xa8\\xe4\\x00\\x00\\x00\\x00#\\x06\\xc2\\xb6\\x00\\x00\\x00\\x00\\x02\\xbd\\xef\\x93\\x00\\x00\\x00\\x00%q\\xc7\\xdc\\x00\\x00\\x00\\x00\\x05\\x14\\xec\\xab', b'fvalue:name': b'hello'}\n",
      "Inserting key: aGVsbG8AAAAAPYEOfgAAAAAbncwTAAAAACmTPdoAAAAAGtBU2QAAAAAcK/HgAAAAAB1+yYYAAAAAQMHUrwAAAADQ3Y+8AAAAACErW5kAAAAAC6/5UwAAAAB9Em4uAAAAAJ8HhxkAAAAABKRsCgAAAAAO/QOYAAAAADkuc2cAAAAAGjIIggAAAAAWzA0PAAAAAEG+iU0AAAAAqB6c6QAAAABGOeyyAAAAADuynm4AAAAAGBgy0gAAAADFAUI+AAAAAAZGXfYAAAAAB2P4Fw==, value: {b'fvalue:value': b'\\x00\\x00\\x00\\x00=\\x81\\x0e~\\x00\\x00\\x00\\x00\\x1b\\x9d\\xcc\\x13\\x00\\x00\\x00\\x00)\\x93=\\xda\\x00\\x00\\x00\\x00\\x1a\\xd0T\\xd9\\x00\\x00\\x00\\x00\\x1c+\\xf1\\xe0\\x00\\x00\\x00\\x00\\x1d~\\xc9\\x86\\x00\\x00\\x00\\x00@\\xc1\\xd4\\xaf\\x00\\x00\\x00\\x00\\xd0\\xdd\\x8f\\xbc\\x00\\x00\\x00\\x00!+[\\x99\\x00\\x00\\x00\\x00\\x0b\\xaf\\xf9S\\x00\\x00\\x00\\x00}\\x12n.\\x00\\x00\\x00\\x00\\x9f\\x07\\x87\\x19\\x00\\x00\\x00\\x00\\x04\\xa4l\\n\\x00\\x00\\x00\\x00\\x0e\\xfd\\x03\\x98\\x00\\x00\\x00\\x009.sg\\x00\\x00\\x00\\x00\\x1a2\\x08\\x82\\x00\\x00\\x00\\x00\\x16\\xcc\\r\\x0f\\x00\\x00\\x00\\x00A\\xbe\\x89M\\x00\\x00\\x00\\x00\\xa8\\x1e\\x9c\\xe9\\x00\\x00\\x00\\x00F9\\xec\\xb2\\x00\\x00\\x00\\x00;\\xb2\\x9en\\x00\\x00\\x00\\x00\\x18\\x182\\xd2\\x00\\x00\\x00\\x00\\xc5\\x01B>\\x00\\x00\\x00\\x00\\x06F]\\xf6\\x00\\x00\\x00\\x00\\x07c\\xf8\\x17', b'fvalue:name': b'hello'}\n",
      "Inserting key: aGVsbG8AAAAAEiJs0AAAAABijtdGAAAAAAGEFMcAAAAAacVdfgAAAAAOq4l+AAAAAFVyE0EAAAAAR2rAIwAAAAAPHAxJAAAAAE1zDYIAAAAAcVrS7AAAAAAYdUwfAAAAAFMTN2UAAAAAGwMxAAAAAABKSi0FAAAAALcKqiwAAAAAGp2KCgAAAAAlhFi9AAAAAD3sYNsAAAAARdjo6wAAAAAK9/g0AAAAACZpaGQAAAAACCnbNAAAAACbmfhpAAAAAAGk5SMAAAAAIkFuoA==, value: {b'fvalue:value': b'\\x00\\x00\\x00\\x00\\x12\"l\\xd0\\x00\\x00\\x00\\x00b\\x8e\\xd7F\\x00\\x00\\x00\\x00\\x01\\x84\\x14\\xc7\\x00\\x00\\x00\\x00i\\xc5]~\\x00\\x00\\x00\\x00\\x0e\\xab\\x89~\\x00\\x00\\x00\\x00Ur\\x13A\\x00\\x00\\x00\\x00Gj\\xc0#\\x00\\x00\\x00\\x00\\x0f\\x1c\\x0cI\\x00\\x00\\x00\\x00Ms\\r\\x82\\x00\\x00\\x00\\x00qZ\\xd2\\xec\\x00\\x00\\x00\\x00\\x18uL\\x1f\\x00\\x00\\x00\\x00S\\x137e\\x00\\x00\\x00\\x00\\x1b\\x031\\x00\\x00\\x00\\x00\\x00JJ-\\x05\\x00\\x00\\x00\\x00\\xb7\\n\\xaa,\\x00\\x00\\x00\\x00\\x1a\\x9d\\x8a\\n\\x00\\x00\\x00\\x00%\\x84X\\xbd\\x00\\x00\\x00\\x00=\\xec`\\xdb\\x00\\x00\\x00\\x00E\\xd8\\xe8\\xeb\\x00\\x00\\x00\\x00\\n\\xf7\\xf84\\x00\\x00\\x00\\x00&ihd\\x00\\x00\\x00\\x00\\x08)\\xdb4\\x00\\x00\\x00\\x00\\x9b\\x99\\xf8i\\x00\\x00\\x00\\x00\\x01\\xa4\\xe5#\\x00\\x00\\x00\\x00\"An\\xa0', b'fvalue:name': b'hello'}\n",
      "Inserting key: aGVsbG8AAAAAaKPCcwAAAACDoL9iAAAAACxNmN8AAAAAovJD/gAAAAAYWkruAAAAAEyHLEoAAAAAIvv+rgAAAAATRBotAAAAABq53FsAAAAAAhrO1wAAAAAGjZFSAAAAACE8Sp4AAAAAVDbSUgAAAAAllKLUAAAAACbjiyAAAAAAjG+lEQAAAAAMCC2fAAAAADenphMAAAAAQAzZdgAAAABQxkR+AAAAABbtzVMAAAAAEk+09gAAAAAx/Nn8AAAAAIlrymgAAAAAVBWHMw==, value: {b'fvalue:value': b'\\x00\\x00\\x00\\x00h\\xa3\\xc2s\\x00\\x00\\x00\\x00\\x83\\xa0\\xbfb\\x00\\x00\\x00\\x00,M\\x98\\xdf\\x00\\x00\\x00\\x00\\xa2\\xf2C\\xfe\\x00\\x00\\x00\\x00\\x18ZJ\\xee\\x00\\x00\\x00\\x00L\\x87,J\\x00\\x00\\x00\\x00\"\\xfb\\xfe\\xae\\x00\\x00\\x00\\x00\\x13D\\x1a-\\x00\\x00\\x00\\x00\\x1a\\xb9\\xdc[\\x00\\x00\\x00\\x00\\x02\\x1a\\xce\\xd7\\x00\\x00\\x00\\x00\\x06\\x8d\\x91R\\x00\\x00\\x00\\x00!<J\\x9e\\x00\\x00\\x00\\x00T6\\xd2R\\x00\\x00\\x00\\x00%\\x94\\xa2\\xd4\\x00\\x00\\x00\\x00&\\xe3\\x8b \\x00\\x00\\x00\\x00\\x8co\\xa5\\x11\\x00\\x00\\x00\\x00\\x0c\\x08-\\x9f\\x00\\x00\\x00\\x007\\xa7\\xa6\\x13\\x00\\x00\\x00\\x00@\\x0c\\xd9v\\x00\\x00\\x00\\x00P\\xc6D~\\x00\\x00\\x00\\x00\\x16\\xed\\xcdS\\x00\\x00\\x00\\x00\\x12O\\xb4\\xf6\\x00\\x00\\x00\\x001\\xfc\\xd9\\xfc\\x00\\x00\\x00\\x00\\x89k\\xcah\\x00\\x00\\x00\\x00T\\x15\\x873', b'fvalue:name': b'hello'}\n",
      "Inserting key: aGVsbG8AAAAAH0Jj2AAAAABKNrZ4AAAAAA99oo4AAAAAUq/uDwAAAAAfLVsQAAAAAEGavGwAAAAAOgtuawAAAAAET4ZjAAAAAFXXfiIAAAAAEdju1AAAAAAcSdmkAAAAABj4gkUAAAAAfiOXZQAAAACmwjpeAAAAAA5+HSIAAAAAEnUF/QAAAAA3gu8AAAAAAFP/vIEAAAAAEDR0ZAAAAAAkcEI3AAAAABemWS4AAAAAC5sq5AAAAABWHlgJAAAAAFqb3poAAAAAM07tNg==, value: {b'fvalue:value': b'\\x00\\x00\\x00\\x00\\x1fBc\\xd8\\x00\\x00\\x00\\x00J6\\xb6x\\x00\\x00\\x00\\x00\\x0f}\\xa2\\x8e\\x00\\x00\\x00\\x00R\\xaf\\xee\\x0f\\x00\\x00\\x00\\x00\\x1f-[\\x10\\x00\\x00\\x00\\x00A\\x9a\\xbcl\\x00\\x00\\x00\\x00:\\x0bnk\\x00\\x00\\x00\\x00\\x04O\\x86c\\x00\\x00\\x00\\x00U\\xd7~\"\\x00\\x00\\x00\\x00\\x11\\xd8\\xee\\xd4\\x00\\x00\\x00\\x00\\x1cI\\xd9\\xa4\\x00\\x00\\x00\\x00\\x18\\xf8\\x82E\\x00\\x00\\x00\\x00~#\\x97e\\x00\\x00\\x00\\x00\\xa6\\xc2:^\\x00\\x00\\x00\\x00\\x0e~\\x1d\"\\x00\\x00\\x00\\x00\\x12u\\x05\\xfd\\x00\\x00\\x00\\x007\\x82\\xef\\x00\\x00\\x00\\x00\\x00S\\xff\\xbc\\x81\\x00\\x00\\x00\\x00\\x104td\\x00\\x00\\x00\\x00$pB7\\x00\\x00\\x00\\x00\\x17\\xa6Y.\\x00\\x00\\x00\\x00\\x0b\\x9b*\\xe4\\x00\\x00\\x00\\x00V\\x1eX\\t\\x00\\x00\\x00\\x00Z\\x9b\\xde\\x9a\\x00\\x00\\x00\\x003N\\xed6', b'fvalue:name': b'hello'}\n",
      "Inserting key: AAAAAEIobWgAAAAAKHS6kQAAAABLVYDgAAAAACI4JfoAAAAACjmNfwAAAAAFaWjnAAAAAL5DyDAAAAAAKUwKEgAAAABGT0UxAAAAACLnjFYAAAAAB334fQAAAAAyvm3yAAAAAAsA8yoAAAAACG+2gwAAAAAGB6o5AAAAAA12rocAAAAADNNLZgAAAAAlrDTdAAAAAGlfkJ4AAAAASHbnGwAAAAACfajkAAAAACMGwrYAAAAAAr3vkwAAAAAlccfcAAAAAAUU7KuABJUJAAAAAAAAAIwFaGVsbG+ULg==, value: {b'fvalue:value': b'\\x80\\x04\\x95\\t\\x00\\x00\\x00\\x00\\x00\\x00\\x00\\x8c\\x05hello\\x94.', b'fvalue:name': b'\\x00\\x00\\x00\\x00B(mh\\x00\\x00\\x00\\x00(t\\xba\\x91\\x00\\x00\\x00\\x00KU\\x80\\xe0\\x00\\x00\\x00\\x00\"8%\\xfa\\x00\\x00\\x00\\x00\\n9\\x8d\\x7f\\x00\\x00\\x00\\x00\\x05ih\\xe7\\x00\\x00\\x00\\x00\\xbeC\\xc80\\x00\\x00\\x00\\x00)L\\n\\x12\\x00\\x00\\x00\\x00FOE1\\x00\\x00\\x00\\x00\"\\xe7\\x8cV\\x00\\x00\\x00\\x00\\x07}\\xf8}\\x00\\x00\\x00\\x002\\xbem\\xf2\\x00\\x00\\x00\\x00\\x0b\\x00\\xf3*\\x00\\x00\\x00\\x00\\x08o\\xb6\\x83\\x00\\x00\\x00\\x00\\x06\\x07\\xaa9\\x00\\x00\\x00\\x00\\rv\\xae\\x87\\x00\\x00\\x00\\x00\\x0c\\xd3Kf\\x00\\x00\\x00\\x00%\\xac4\\xdd\\x00\\x00\\x00\\x00i_\\x90\\x9e\\x00\\x00\\x00\\x00Hv\\xe7\\x1b\\x00\\x00\\x00\\x00\\x02}\\xa8\\xe4\\x00\\x00\\x00\\x00#\\x06\\xc2\\xb6\\x00\\x00\\x00\\x00\\x02\\xbd\\xef\\x93\\x00\\x00\\x00\\x00%q\\xc7\\xdc\\x00\\x00\\x00\\x00\\x05\\x14\\xec\\xab'}\n",
      "Inserting key: AAAAAD2BDn4AAAAAG53MEwAAAAApkz3aAAAAABrQVNkAAAAAHCvx4AAAAAAdfsmGAAAAAEDB1K8AAAAA0N2PvAAAAAAhK1uZAAAAAAuv+VMAAAAAfRJuLgAAAACfB4cZAAAAAASkbAoAAAAADv0DmAAAAAA5LnNnAAAAABoyCIIAAAAAFswNDwAAAABBvolNAAAAAKgenOkAAAAARjnssgAAAAA7sp5uAAAAABgYMtIAAAAAxQFCPgAAAAAGRl32AAAAAAdj+BeABJUJAAAAAAAAAIwFaGVsbG+ULg==, value: {b'fvalue:value': b'\\x80\\x04\\x95\\t\\x00\\x00\\x00\\x00\\x00\\x00\\x00\\x8c\\x05hello\\x94.', b'fvalue:name': b'\\x00\\x00\\x00\\x00=\\x81\\x0e~\\x00\\x00\\x00\\x00\\x1b\\x9d\\xcc\\x13\\x00\\x00\\x00\\x00)\\x93=\\xda\\x00\\x00\\x00\\x00\\x1a\\xd0T\\xd9\\x00\\x00\\x00\\x00\\x1c+\\xf1\\xe0\\x00\\x00\\x00\\x00\\x1d~\\xc9\\x86\\x00\\x00\\x00\\x00@\\xc1\\xd4\\xaf\\x00\\x00\\x00\\x00\\xd0\\xdd\\x8f\\xbc\\x00\\x00\\x00\\x00!+[\\x99\\x00\\x00\\x00\\x00\\x0b\\xaf\\xf9S\\x00\\x00\\x00\\x00}\\x12n.\\x00\\x00\\x00\\x00\\x9f\\x07\\x87\\x19\\x00\\x00\\x00\\x00\\x04\\xa4l\\n\\x00\\x00\\x00\\x00\\x0e\\xfd\\x03\\x98\\x00\\x00\\x00\\x009.sg\\x00\\x00\\x00\\x00\\x1a2\\x08\\x82\\x00\\x00\\x00\\x00\\x16\\xcc\\r\\x0f\\x00\\x00\\x00\\x00A\\xbe\\x89M\\x00\\x00\\x00\\x00\\xa8\\x1e\\x9c\\xe9\\x00\\x00\\x00\\x00F9\\xec\\xb2\\x00\\x00\\x00\\x00;\\xb2\\x9en\\x00\\x00\\x00\\x00\\x18\\x182\\xd2\\x00\\x00\\x00\\x00\\xc5\\x01B>\\x00\\x00\\x00\\x00\\x06F]\\xf6\\x00\\x00\\x00\\x00\\x07c\\xf8\\x17'}\n",
      "Inserting key: AAAAABIibNAAAAAAYo7XRgAAAAABhBTHAAAAAGnFXX4AAAAADquJfgAAAABVchNBAAAAAEdqwCMAAAAADxwMSQAAAABNcw2CAAAAAHFa0uwAAAAAGHVMHwAAAABTEzdlAAAAABsDMQAAAAAASkotBQAAAAC3CqosAAAAABqdigoAAAAAJYRYvQAAAAA97GDbAAAAAEXY6OsAAAAACvf4NAAAAAAmaWhkAAAAAAgp2zQAAAAAm5n4aQAAAAABpOUjAAAAACJBbqCABJUJAAAAAAAAAIwFaGVsbG+ULg==, value: {b'fvalue:value': b'\\x80\\x04\\x95\\t\\x00\\x00\\x00\\x00\\x00\\x00\\x00\\x8c\\x05hello\\x94.', b'fvalue:name': b'\\x00\\x00\\x00\\x00\\x12\"l\\xd0\\x00\\x00\\x00\\x00b\\x8e\\xd7F\\x00\\x00\\x00\\x00\\x01\\x84\\x14\\xc7\\x00\\x00\\x00\\x00i\\xc5]~\\x00\\x00\\x00\\x00\\x0e\\xab\\x89~\\x00\\x00\\x00\\x00Ur\\x13A\\x00\\x00\\x00\\x00Gj\\xc0#\\x00\\x00\\x00\\x00\\x0f\\x1c\\x0cI\\x00\\x00\\x00\\x00Ms\\r\\x82\\x00\\x00\\x00\\x00qZ\\xd2\\xec\\x00\\x00\\x00\\x00\\x18uL\\x1f\\x00\\x00\\x00\\x00S\\x137e\\x00\\x00\\x00\\x00\\x1b\\x031\\x00\\x00\\x00\\x00\\x00JJ-\\x05\\x00\\x00\\x00\\x00\\xb7\\n\\xaa,\\x00\\x00\\x00\\x00\\x1a\\x9d\\x8a\\n\\x00\\x00\\x00\\x00%\\x84X\\xbd\\x00\\x00\\x00\\x00=\\xec`\\xdb\\x00\\x00\\x00\\x00E\\xd8\\xe8\\xeb\\x00\\x00\\x00\\x00\\n\\xf7\\xf84\\x00\\x00\\x00\\x00&ihd\\x00\\x00\\x00\\x00\\x08)\\xdb4\\x00\\x00\\x00\\x00\\x9b\\x99\\xf8i\\x00\\x00\\x00\\x00\\x01\\xa4\\xe5#\\x00\\x00\\x00\\x00\"An\\xa0'}\n",
      "Inserting key: AAAAAGijwnMAAAAAg6C/YgAAAAAsTZjfAAAAAKLyQ/4AAAAAGFpK7gAAAABMhyxKAAAAACL7/q4AAAAAE0QaLQAAAAAaudxbAAAAAAIaztcAAAAABo2RUgAAAAAhPEqeAAAAAFQ20lIAAAAAJZSi1AAAAAAm44sgAAAAAIxvpREAAAAADAgtnwAAAAA3p6YTAAAAAEAM2XYAAAAAUMZEfgAAAAAW7c1TAAAAABJPtPYAAAAAMfzZ/AAAAACJa8poAAAAAFQVhzOABJUJAAAAAAAAAIwFaGVsbG+ULg==, value: {b'fvalue:value': b'\\x80\\x04\\x95\\t\\x00\\x00\\x00\\x00\\x00\\x00\\x00\\x8c\\x05hello\\x94.', b'fvalue:name': b'\\x00\\x00\\x00\\x00h\\xa3\\xc2s\\x00\\x00\\x00\\x00\\x83\\xa0\\xbfb\\x00\\x00\\x00\\x00,M\\x98\\xdf\\x00\\x00\\x00\\x00\\xa2\\xf2C\\xfe\\x00\\x00\\x00\\x00\\x18ZJ\\xee\\x00\\x00\\x00\\x00L\\x87,J\\x00\\x00\\x00\\x00\"\\xfb\\xfe\\xae\\x00\\x00\\x00\\x00\\x13D\\x1a-\\x00\\x00\\x00\\x00\\x1a\\xb9\\xdc[\\x00\\x00\\x00\\x00\\x02\\x1a\\xce\\xd7\\x00\\x00\\x00\\x00\\x06\\x8d\\x91R\\x00\\x00\\x00\\x00!<J\\x9e\\x00\\x00\\x00\\x00T6\\xd2R\\x00\\x00\\x00\\x00%\\x94\\xa2\\xd4\\x00\\x00\\x00\\x00&\\xe3\\x8b \\x00\\x00\\x00\\x00\\x8co\\xa5\\x11\\x00\\x00\\x00\\x00\\x0c\\x08-\\x9f\\x00\\x00\\x00\\x007\\xa7\\xa6\\x13\\x00\\x00\\x00\\x00@\\x0c\\xd9v\\x00\\x00\\x00\\x00P\\xc6D~\\x00\\x00\\x00\\x00\\x16\\xed\\xcdS\\x00\\x00\\x00\\x00\\x12O\\xb4\\xf6\\x00\\x00\\x00\\x001\\xfc\\xd9\\xfc\\x00\\x00\\x00\\x00\\x89k\\xcah\\x00\\x00\\x00\\x00T\\x15\\x873'}\n",
      "Inserting key: AAAAAB9CY9gAAAAASja2eAAAAAAPfaKOAAAAAFKv7g8AAAAAHy1bEAAAAABBmrxsAAAAADoLbmsAAAAABE+GYwAAAABV134iAAAAABHY7tQAAAAAHEnZpAAAAAAY+IJFAAAAAH4jl2UAAAAApsI6XgAAAAAOfh0iAAAAABJ1Bf0AAAAAN4LvAAAAAABT/7yBAAAAABA0dGQAAAAAJHBCNwAAAAAXplkuAAAAAAubKuQAAAAAVh5YCQAAAABam96aAAAAADNO7TaABJUJAAAAAAAAAIwFaGVsbG+ULg==, value: {b'fvalue:value': b'\\x80\\x04\\x95\\t\\x00\\x00\\x00\\x00\\x00\\x00\\x00\\x8c\\x05hello\\x94.', b'fvalue:name': b'\\x00\\x00\\x00\\x00\\x1fBc\\xd8\\x00\\x00\\x00\\x00J6\\xb6x\\x00\\x00\\x00\\x00\\x0f}\\xa2\\x8e\\x00\\x00\\x00\\x00R\\xaf\\xee\\x0f\\x00\\x00\\x00\\x00\\x1f-[\\x10\\x00\\x00\\x00\\x00A\\x9a\\xbcl\\x00\\x00\\x00\\x00:\\x0bnk\\x00\\x00\\x00\\x00\\x04O\\x86c\\x00\\x00\\x00\\x00U\\xd7~\"\\x00\\x00\\x00\\x00\\x11\\xd8\\xee\\xd4\\x00\\x00\\x00\\x00\\x1cI\\xd9\\xa4\\x00\\x00\\x00\\x00\\x18\\xf8\\x82E\\x00\\x00\\x00\\x00~#\\x97e\\x00\\x00\\x00\\x00\\xa6\\xc2:^\\x00\\x00\\x00\\x00\\x0e~\\x1d\"\\x00\\x00\\x00\\x00\\x12u\\x05\\xfd\\x00\\x00\\x00\\x007\\x82\\xef\\x00\\x00\\x00\\x00\\x00S\\xff\\xbc\\x81\\x00\\x00\\x00\\x00\\x104td\\x00\\x00\\x00\\x00$pB7\\x00\\x00\\x00\\x00\\x17\\xa6Y.\\x00\\x00\\x00\\x00\\x0b\\x9b*\\xe4\\x00\\x00\\x00\\x00V\\x1eX\\t\\x00\\x00\\x00\\x00Z\\x9b\\xde\\x9a\\x00\\x00\\x00\\x003N\\xed6'}\n"
     ]
    }
   ],
   "source": [
    "test = create_hash(\"hello\")\n",
    "lsh.insert(\"hello\", test)"
   ]
  },
  {
   "cell_type": "code",
   "execution_count": 9,
   "id": "11ccc280-6d88-4285-9f3e-df2e9a328cd2",
   "metadata": {},
   "outputs": [
    {
     "data": {
      "text/plain": [
       "b'aGVsbG8'"
      ]
     },
     "execution_count": 9,
     "metadata": {},
     "output_type": "execute_result"
    }
   ],
   "source": [
    "base64.b64encode(b'hello').decode('utf8').replace('=', '').encode('utf8')"
   ]
  },
  {
   "cell_type": "code",
   "execution_count": 10,
   "id": "5ed83ab8-3465-4c8c-aaf7-006e1823451d",
   "metadata": {},
   "outputs": [
    {
     "name": "stdout",
     "output_type": "stream",
     "text": [
      "True\n"
     ]
    }
   ],
   "source": [
    "with pool.connection() as c:\n",
    "    try:\n",
    "        print(c.is_table_enabled('dGVzdDFfYnVja2V0XwAA'))\n",
    "    except Hbase_thrift.IOError as e:\n",
    "        message = e.message.decode('utf8')\n",
    "        if message.startswith('org.apache.hadoop.hbase.TableNotFoundException'):\n",
    "            print(\"Table not found\")"
   ]
  },
  {
   "cell_type": "code",
   "execution_count": 11,
   "id": "b602f95d-9f02-4f18-bfdb-45d4f59aa2fd",
   "metadata": {},
   "outputs": [
    {
     "data": {
      "text/plain": [
       "'/usr/local/spark/python/pyspark'"
      ]
     },
     "execution_count": 11,
     "metadata": {},
     "output_type": "execute_result"
    }
   ],
   "source": [
    "import findspark\n",
    "findspark.init()\n",
    "findspark.find()"
   ]
  },
  {
   "cell_type": "code",
   "execution_count": 12,
   "id": "48b47a13-2f06-41b2-b8fe-1091ba4d5b42",
   "metadata": {},
   "outputs": [
    {
     "name": "stderr",
     "output_type": "stream",
     "text": [
      "Setting default log level to \"WARN\".\n",
      "To adjust logging level use sc.setLogLevel(newLevel). For SparkR, use setLogLevel(newLevel).\n",
      "2022-04-14 11:44:39,746 WARN util.NativeCodeLoader: Unable to load native-hadoop library for your platform... using builtin-java classes where applicable\n",
      "2022-04-14 11:44:47,215 WARN yarn.Client: Neither spark.yarn.jars nor spark.yarn.archive is set, falling back to uploading libraries under SPARK_HOME.\n"
     ]
    }
   ],
   "source": [
    "from pyspark.sql import SparkSession\n",
    "\n",
    "spark = (SparkSession\n",
    "         .builder\n",
    "         .master(\"yarn\")\n",
    "         .appName(\"python-testing\")\n",
    "         .config(\"spark.executor.instances\", 16)\n",
    "         .config(\"spark.executor.memory\", \"1536m\")\n",
    "         #.config(\"spark.dynamicAllocation.enabled\", \"true\")\n",
    "         #.config(\"spark.executor.cores\", 1)\n",
    "         #.config(\"spark.dynamicAllocation.minExecutors\", 4)\n",
    "         #.config(\"spark.dynamicAllocation.maxExecutors\", 32)\n",
    "         #.config(\"spark.shuffle.service.enabled\", \"true\")\n",
    "         #.config(\"spark.shuffle.service.port\", 7337)\n",
    "         .getOrCreate())\n",
    "sc = spark.sparkContext"
   ]
  },
  {
   "cell_type": "code",
   "execution_count": 13,
   "id": "f9485926-7353-4e7d-91ef-e54f1c186274",
   "metadata": {},
   "outputs": [],
   "source": [
    "sc.environment['PYTHONPATH'] = '/home/ubuntu/.local/lib/python3.8/site-packages'\n",
    "sc.addPyFile('hbase_cv2.py')"
   ]
  },
  {
   "cell_type": "code",
   "execution_count": 14,
   "id": "be3d06e0-de38-4d51-94b2-25a45e5f5877",
   "metadata": {},
   "outputs": [
    {
     "name": "stderr",
     "output_type": "stream",
     "text": [
      "                                                                                \r"
     ]
    },
    {
     "data": {
      "text/plain": [
       "[(30126923,\n",
       "  'CGCATCGTGGCTGGACCTGAGTCCATCTGCCCTGGTGCCTGCATGACTGGCCCTTCTCCTTCACAGACCATGGCCCCAGGCTCCCTTGCTTTCATTTCCCAGCCCGTTATTGGGGCAGGAGAGTAGCAAGCGGGGGAGTTTTGATGAGGCGAGGA')]"
      ]
     },
     "execution_count": 14,
     "metadata": {},
     "output_type": "execute_result"
    }
   ],
   "source": [
    "windows = sc.sequenceFile(\"hdfs:///files/windowed\")\n",
    "windows.take(1)"
   ]
  },
  {
   "cell_type": "code",
   "execution_count": 15,
   "id": "4c48d1eb-2f50-4af0-86d4-564e30c74a50",
   "metadata": {},
   "outputs": [
    {
     "name": "stderr",
     "output_type": "stream",
     "text": [
      "                                                                                \r"
     ]
    },
    {
     "data": {
      "text/plain": [
       "29288"
      ]
     },
     "execution_count": 15,
     "metadata": {},
     "output_type": "execute_result"
    }
   ],
   "source": [
    "sample = windows.sample(fraction=0.0005, withReplacement=False, seed=1).cache()\n",
    "sample.count()"
   ]
  },
  {
   "cell_type": "code",
   "execution_count": 16,
   "id": "3956dd43-6b7c-41e6-90e9-74c1c3f9e900",
   "metadata": {},
   "outputs": [],
   "source": [
    "servers = ['datanode1', 'datanode2', 'datanode3', 'datanode4']"
   ]
  },
  {
   "cell_type": "code",
   "execution_count": 17,
   "id": "0121badc-584e-4d7a-b7d5-b359b845dd28",
   "metadata": {},
   "outputs": [],
   "source": [
    "def testFunction(values):    \n",
    "    import happybase\n",
    "    import datasketch as ds\n",
    "    import hbase_cv2\n",
    "    \n",
    "    def create_hash(string):\n",
    "        mh2 = ds.MinHash()\n",
    "        for d in string:\n",
    "            mh2.update(d.encode('utf8'))\n",
    "        return mh2\n",
    "    \n",
    "    pool = hb.ConnectionPool(10, host='localhost')\n",
    "    lsh = ds.lsh.MinHashLSH(storage_config={'type': 'hbase', 'basename': b'test4', 'hbase_pool': pool})\n",
    "    test = create_hash(\"hello\")\n",
    "    lsh.insert(\"hello\", test)\n",
    "    \n",
    "#sample.foreachPartition(testFunction)"
   ]
  },
  {
   "cell_type": "code",
   "execution_count": 19,
   "id": "126958be-72f9-4228-b5df-89c2edef8223",
   "metadata": {},
   "outputs": [
    {
     "ename": "NameError",
     "evalue": "name 'www' is not defined",
     "output_type": "error",
     "traceback": [
      "\u001b[0;31m---------------------------------------------------------------------------\u001b[0m",
      "\u001b[0;31mNameError\u001b[0m                                 Traceback (most recent call last)",
      "Input \u001b[0;32mIn [19]\u001b[0m, in \u001b[0;36m<module>\u001b[0;34m\u001b[0m\n\u001b[0;32m----> 1\u001b[0m \u001b[38;5;28;01mif\u001b[39;00m \u001b[43mwww\u001b[49m \u001b[38;5;129;01mis\u001b[39;00m \u001b[38;5;28;01mNone\u001b[39;00m:\n\u001b[1;32m      2\u001b[0m     \u001b[38;5;28mprint\u001b[39m(\u001b[38;5;124m\"\u001b[39m\u001b[38;5;124me\u001b[39m\u001b[38;5;124m\"\u001b[39m)\n",
      "\u001b[0;31mNameError\u001b[0m: name 'www' is not defined"
     ]
    }
   ],
   "source": [
    "if www is None:\n",
    "    print(\"e\")"
   ]
  },
  {
   "cell_type": "code",
   "execution_count": null,
   "id": "5cb34a4a-a94a-4ffd-a548-e4c857e016f3",
   "metadata": {},
   "outputs": [],
   "source": []
  }
 ],
 "metadata": {
  "kernelspec": {
   "display_name": "Python 3 (ipykernel)",
   "language": "python",
   "name": "python3"
  },
  "language_info": {
   "codemirror_mode": {
    "name": "ipython",
    "version": 3
   },
   "file_extension": ".py",
   "mimetype": "text/x-python",
   "name": "python",
   "nbconvert_exporter": "python",
   "pygments_lexer": "ipython3",
   "version": "3.8.10"
  }
 },
 "nbformat": 4,
 "nbformat_minor": 5
}
