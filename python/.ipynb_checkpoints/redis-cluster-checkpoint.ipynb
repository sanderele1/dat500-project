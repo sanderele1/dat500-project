{
 "cells": [
  {
   "cell_type": "code",
   "execution_count": 2,
   "id": "4dcd033e-2577-4a4a-b9d8-41f79207ccce",
   "metadata": {},
   "outputs": [],
   "source": [
    "import datasketch as ds\n",
    "import storage\n",
    "import lsh"
   ]
  },
  {
   "cell_type": "code",
   "execution_count": 3,
   "id": "591b76e1-1788-479e-a771-3568a85b6354",
   "metadata": {},
   "outputs": [],
   "source": [
    "#lshobj = lsh.MinHashLSH(threshold=0.5, num_perm=128, storage_config={\n",
    "#        'type': 'redis',\n",
    "#        'redis': {'host': 'datanode1', 'port': 6379},\n",
    "#        'basename': b'spark_01'\n",
    "#    }\n",
    "#)"
   ]
  },
  {
   "cell_type": "code",
   "execution_count": 4,
   "id": "95f0508a-9094-4a4d-8e13-aa69371a6629",
   "metadata": {},
   "outputs": [],
   "source": [
    "from redis.cluster import RedisCluster"
   ]
  },
  {
   "cell_type": "code",
   "execution_count": 5,
   "id": "15181540-b7f6-4ea2-a30d-cd9d5042c3c6",
   "metadata": {},
   "outputs": [
    {
     "data": {
      "text/plain": [
       "<redis.cluster.RedisCluster at 0x7fd26db26ac0>"
      ]
     },
     "execution_count": 5,
     "metadata": {},
     "output_type": "execute_result"
    }
   ],
   "source": [
    "cluster = RedisCluster(host='datanode1', port=6379)\n",
    "cluster"
   ]
  },
  {
   "cell_type": "code",
   "execution_count": 6,
   "id": "db106a8c-af38-4294-aa34-509414bfd81a",
   "metadata": {},
   "outputs": [
    {
     "data": {
      "text/plain": [
       "[[host=10.10.1.150,port=6379,name=10.10.1.150:6379,server_type=primary,redis_connection=Redis<ConnectionPool<Connection<host=10.10.1.150,port=6379,db=0>>>],\n",
       " [host=10.10.1.27,port=6379,name=10.10.1.27:6379,server_type=primary,redis_connection=Redis<ConnectionPool<Connection<host=10.10.1.27,port=6379,db=0>>>],\n",
       " [host=10.10.1.220,port=6379,name=10.10.1.220:6379,server_type=primary,redis_connection=Redis<ConnectionPool<Connection<host=10.10.1.220,port=6379,db=0>>>]]"
      ]
     },
     "execution_count": 6,
     "metadata": {},
     "output_type": "execute_result"
    }
   ],
   "source": [
    "cluster.get_nodes()"
   ]
  },
  {
   "cell_type": "code",
   "execution_count": 8,
   "id": "333e711a-4608-4486-93a9-53b472a72a6d",
   "metadata": {},
   "outputs": [
    {
     "data": {
      "text/plain": [
       "[True, True]"
      ]
     },
     "execution_count": 8,
     "metadata": {},
     "output_type": "execute_result"
    }
   ],
   "source": [
    "cluster.mset_nonatomic({'v1': 0, 'v2': 1})"
   ]
  },
  {
   "cell_type": "code",
   "execution_count": null,
   "id": "c6e12434-7a59-4230-9107-ce1f00fee743",
   "metadata": {},
   "outputs": [],
   "source": []
  }
 ],
 "metadata": {
  "kernelspec": {
   "display_name": "Python 3 (ipykernel)",
   "language": "python",
   "name": "python3"
  },
  "language_info": {
   "codemirror_mode": {
    "name": "ipython",
    "version": 3
   },
   "file_extension": ".py",
   "mimetype": "text/x-python",
   "name": "python",
   "nbconvert_exporter": "python",
   "pygments_lexer": "ipython3",
   "version": "3.8.10"
  }
 },
 "nbformat": 4,
 "nbformat_minor": 5
}
