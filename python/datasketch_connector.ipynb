{
 "cells": [
  {
   "cell_type": "code",
   "execution_count": 1,
   "id": "58251ad0-e9f0-4409-b62a-a2d5e9beae6d",
   "metadata": {},
   "outputs": [],
   "source": [
    "import datasketch as ds"
   ]
  },
  {
   "cell_type": "markdown",
   "id": "fb76477b-4aca-45bf-884b-876664f4c956",
   "metadata": {},
   "source": [
    "https://github.com/ekzhu/datasketch/blob/master/datasketch/storage.py\n",
    "https://raw.githubusercontent.com/ekzhu/datasketch/master/datasketch/storage.py"
   ]
  },
  {
   "cell_type": "code",
   "execution_count": 2,
   "id": "e9dfc33f-fc95-413a-9358-70d31492643b",
   "metadata": {},
   "outputs": [],
   "source": [
    "class DictListStorage(ds.storage.OrderedStorage):\n",
    "    '''This is a wrapper class around ``defaultdict(list)`` enabling\n",
    "    it to support an API consistent with `Storage`\n",
    "    '''\n",
    "    def __init__(self, config):\n",
    "        self._dict = defaultdict(list)\n",
    "\n",
    "    def keys(self):\n",
    "        return self._dict.keys()\n",
    "\n",
    "    def get(self, key):\n",
    "        return self._dict.get(key, [])\n",
    "\n",
    "    def remove(self, *keys):\n",
    "        for key in keys:\n",
    "            del self._dict[key]\n",
    "\n",
    "    def remove_val(self, key, val):\n",
    "        self._dict[key].remove(val)\n",
    "\n",
    "    def insert(self, key, *vals, **kwargs):\n",
    "        self._dict[key].extend(vals)\n",
    "\n",
    "    def size(self):\n",
    "        return len(self._dict)\n",
    "\n",
    "    def itemcounts(self, **kwargs):\n",
    "        '''Returns a dict where the keys are the keys of the container.\n",
    "        The values are the *lengths* of the value sequences stored\n",
    "        in this container.\n",
    "        '''\n",
    "        return {k: len(v) for k, v in self._dict.items()}\n",
    "\n",
    "    def has_key(self, key):\n",
    "        return key in self._dict"
   ]
  },
  {
   "cell_type": "code",
   "execution_count": null,
   "id": "e45936d6-90c7-488a-a68e-8b62d1de920d",
   "metadata": {},
   "outputs": [],
   "source": []
  },
  {
   "cell_type": "code",
   "execution_count": 3,
   "id": "579587a3-3f54-4a7f-9152-f7a75e7f7ec8",
   "metadata": {},
   "outputs": [],
   "source": [
    "class DictSetStorage(ds.storage.UnorderedStorage, DictListStorage):\n",
    "    '''This is a wrapper class around ``defaultdict(set)`` enabling\n",
    "    it to support an API consistent with `Storage`\n",
    "    '''\n",
    "    def __init__(self, config):\n",
    "        self._dict = defaultdict(set)\n",
    "\n",
    "    def get(self, key):\n",
    "        return self._dict.get(key, set())\n",
    "\n",
    "    def insert(self, key, *vals, **kwargs):\n",
    "        self._dict[key].update(vals)"
   ]
  },
  {
   "cell_type": "markdown",
   "id": "be9f0f7f-4633-4a7b-89a0-635055714e75",
   "metadata": {},
   "source": [
    "## Minimum viable product:\n",
    "* [ ] Init - DSS:\n",
    "    Initializes/runs a lot (for each character added?)\n",
    "* [ ] Init - DLS:\n",
    "    Only runs once\n",
    "* [ ] Has_key - DLS:\n",
    "    Runs for each sequence/read\n",
    "* [ ] Insert - DLS:\n",
    "    Runs for each sequence/read\n",
    "* [ ] Insert - DSS:\n",
    "    Runs for each bp (each character)\n",
    "* [ ] Get - DSS:\n",
    "    Runs in query for each hash(ish)"
   ]
  },
  {
   "cell_type": "code",
   "execution_count": 4,
   "id": "129f526e-5caa-4cbd-9a58-aed6a341e5d4",
   "metadata": {},
   "outputs": [],
   "source": [
    "import datasketch as ds\n",
    "import happybase as hb"
   ]
  },
  {
   "cell_type": "code",
   "execution_count": 5,
   "id": "37a0060f-4a10-4b25-9c83-e5e4525cceac",
   "metadata": {},
   "outputs": [],
   "source": [
    "import base64\n",
    "\n",
    "class HBaseDictListStorage(ds.storage.OrderedStorage):\n",
    "    def __init__(self, config, name=None):\n",
    "        self._name = b'' if name == None else name\n",
    "        self._pool = config['hbase_pool']\n",
    "        self._table = base64.b64encode(config['hbase_table'].encode('utf8') + self._name).decode('utf8').replace('=', '')\n",
    "        self._keysize = config['hbase_keysize']\n",
    "        self._recreate_table = config.get('hbase_recreate_table', False)\n",
    "        \n",
    "        with self._pool.connection() as c:\n",
    "            families = {\n",
    "                'fvalue': dict(),\n",
    "            }\n",
    "            \n",
    "            tables = c.tables()\n",
    "            if not self._table.encode('utf8') in tables:\n",
    "                #print(f\"Trying to create table with name: {self._table}, and type: {type(self._table)}\")\n",
    "                c.create_table(self._table, families)\n",
    "            elif self._recreate_table:\n",
    "                #print(f\"Deleting table with name: {self._table}\")\n",
    "                c.delete_table(self._table, disable=True)\n",
    "                #print(f\"Trying to create table with name: {self._table}, and type: {type(self._table)}\")\n",
    "                c.create_table(self._table, families)\n",
    "                \n",
    "\n",
    "    def keys(self):\n",
    "        raise ValueError('Not implemented')\n",
    "\n",
    "    def get(self, key):\n",
    "        raise ValueError('Not implemented')\n",
    "\n",
    "    def remove(self, *keys):\n",
    "        raise ValueError('Not implemented')\n",
    "\n",
    "    def remove_val(self, key, val):\n",
    "        raise ValueError('Not implemented')\n",
    "\n",
    "    def insert(self, key, *vals, **kwargs):\n",
    "        # Needs implementation\n",
    "        \n",
    "        \n",
    "        \n",
    "        #if len(key) != self._keysize:\n",
    "        #    raise ValueError(f'Length of key must be equal to config parameter: \"hbase_keysize\", was {len(key)}, should be: {self._keysize}')\n",
    "        \n",
    "        binary_key = key.encode('utf8') if type(key) is str else key\n",
    "        \n",
    "        #print(f\"Insert: key: {binary_key}, kt: {type(binary_key)}, vals: {vals}, vt: {type(vals[0])}\")\n",
    "        \n",
    "        with self._pool.connection() as c:\n",
    "            table = c.table(self._table)\n",
    "            with table.batch() as batch:\n",
    "                for value in vals:\n",
    "                    value = value.encode('utf8') if type(value) is str else value\n",
    "                    #print(f\"Trying to insert values with key: {binary_key + value}\")\n",
    "                    batch.put(binary_key + value, {b'fvalue:value': value})\n",
    "\n",
    "\n",
    "    def size(self):\n",
    "        raise ValueError('Not implemented')\n",
    "\n",
    "    def itemcounts(self, **kwargs):\n",
    "        raise ValueError('Not implemented')\n",
    "        \n",
    "    def has_key(self, key):\n",
    "        # Needs implementation\n",
    "        with self._pool.connection() as c:\n",
    "            table = c.table(self._table)\n",
    "            row = table.row(key)\n",
    "            #print(f\"Checking whether key: {key} exists: {len(row) != 0}, (row: {row})\")\n",
    "            return len(row) != 0"
   ]
  },
  {
   "cell_type": "code",
   "execution_count": 6,
   "id": "3eca06bb-82a3-40da-b7a9-b9060c453b3b",
   "metadata": {},
   "outputs": [],
   "source": [
    "class HBaseDictSetStorage(ds.storage.UnorderedStorage, HBaseDictListStorage):\n",
    "    '''This is a wrapper class around ``defaultdict(set)`` enabling\n",
    "    it to support an API consistent with `Storage`\n",
    "    '''\n",
    "    def __init__(self, config, name=None):\n",
    "        HBaseDictListStorage.__init__(self, config, name=name)\n",
    "\n",
    "    def get(self, key):\n",
    "        with self._pool.connection() as c:\n",
    "            table = c.table(self._table)\n",
    "            values = [row[1][b'fvalue:value'] for row in table.scan(row_prefix=key)]\n",
    "            return set(values)\n",
    "\n",
    "    def insert(self, key, *vals, **kwargs):\n",
    "        HBaseDictListStorage.insert(self, key, *vals, **kwargs)"
   ]
  },
  {
   "cell_type": "code",
   "execution_count": 7,
   "id": "0c1479d2-1b8b-4c81-af84-4466209f0906",
   "metadata": {},
   "outputs": [],
   "source": [
    "def hbase_ordered_storage(config, name=None):\n",
    "    #print(f\"Overriden ordered storage ran with config: {config}\")\n",
    "    tp = config['type']\n",
    "    if tp == 'hbase':\n",
    "        return HBaseDictListStorage(config, name=name)\n",
    "    else:\n",
    "        return old_ordered_storage_function(config, name=name)\n",
    "\n",
    "if ds.storage.ordered_storage != hbase_ordered_storage:\n",
    "    old_ordered_storage_function = ds.storage.ordered_storage\n",
    "    ds.storage.ordered_storage = hbase_ordered_storage"
   ]
  },
  {
   "cell_type": "code",
   "execution_count": 8,
   "id": "b3773053-2f05-4182-a0c4-da39d0d6d8c3",
   "metadata": {},
   "outputs": [],
   "source": [
    "def hbase_unordered_storage(config, name=None):\n",
    "    #print(f\"Overriden unordered storage ran with config: {config}\")\n",
    "    tp = config['type']\n",
    "    if tp == 'hbase':\n",
    "        return HBaseDictSetStorage(config, name=name)\n",
    "    else:\n",
    "        return old_unordered_storage_function(config, name=name)\n",
    "\n",
    "if ds.storage.unordered_storage != hbase_unordered_storage:\n",
    "    old_unordered_storage_function = ds.storage.unordered_storage    \n",
    "    ds.storage.unordered_storage = hbase_unordered_storage"
   ]
  },
  {
   "cell_type": "code",
   "execution_count": 9,
   "id": "d31e244e-0685-4dd9-a934-f87a6ac472a6",
   "metadata": {},
   "outputs": [],
   "source": [
    "import struct\n",
    "import pickle\n",
    "\n",
    "def override_lsh__init__(self, threshold=0.9, num_perm=128, weights=(0.5, 0.5),\n",
    "                 params=None, storage_config=None, prepickle=None, hashfunc=None):\n",
    "        print(\"Overriden constructor ran\")\n",
    "        storage_config = {'type': 'dict'} if not storage_config else storage_config\n",
    "        self._buffer_size = 50000\n",
    "        if threshold > 1.0 or threshold < 0.0:\n",
    "            raise ValueError(\"threshold must be in [0.0, 1.0]\")\n",
    "        if num_perm < 2:\n",
    "            raise ValueError(\"Too few permutation functions\")\n",
    "        if any(w < 0.0 or w > 1.0 for w in weights):\n",
    "            raise ValueError(\"Weight must be in [0.0, 1.0]\")\n",
    "        if sum(weights) != 1.0:\n",
    "            raise ValueError(\"Weights must sum to 1.0\")\n",
    "        self.h = num_perm\n",
    "        if params is not None:\n",
    "            self.b, self.r = params\n",
    "            if self.b * self.r > num_perm:\n",
    "                raise ValueError(\"The product of b and r in params is \"\n",
    "                        \"{} * {} = {} -- it must be less than num_perm {}. \"\n",
    "                        \"Did you forget to specify num_perm?\".format(\n",
    "                            self.b, self.r, self.b*self.r, num_perm))\n",
    "        else:\n",
    "            false_positive_weight, false_negative_weight = weights\n",
    "            self.b, self.r = ds.lsh._optimal_param(threshold, num_perm,\n",
    "                    false_positive_weight, false_negative_weight)\n",
    "\n",
    "        self.prepickle = storage_config['type'] == 'redis' if prepickle is None else prepickle\n",
    "\n",
    "        self.hashfunc = hashfunc\n",
    "        if hashfunc:\n",
    "            self._H = self._hashed_byteswap\n",
    "        else:\n",
    "            self._H = self._byteswap\n",
    "\n",
    "        basename = storage_config.get('basename', ds.storage._random_name(11))\n",
    "        self.hashtables = [\n",
    "            ds.storage.unordered_storage(storage_config, name=b''.join([basename, b'_bucket_', struct.pack('>H', i)]))\n",
    "            for i in range(self.b)]\n",
    "        self.hashranges = [(i*self.r, (i+1)*self.r) for i in range(self.b)]\n",
    "        self.keys = ds.storage.ordered_storage(storage_config, name=b''.join([basename, b'_keys']))\n",
    "        \n",
    "ds.lsh.MinHashLSH.__init__ = override_lsh__init__"
   ]
  },
  {
   "cell_type": "code",
   "execution_count": 10,
   "id": "5c17106d-defa-4d95-975a-b69fa19069c0",
   "metadata": {
    "tags": []
   },
   "outputs": [
    {
     "name": "stdout",
     "output_type": "stream",
     "text": [
      "Overriden constructor ran\n"
     ]
    }
   ],
   "source": [
    "values = ['hello', 'hewwoadwojaowjdpoawjd', 'nopeq', 'yesir', 'hotadwhawudagdwiuagwdel']\n",
    "hashes = [ds.MinHash() for v in values]\n",
    "\n",
    "for i, value in enumerate(values):\n",
    "    for v in value:\n",
    "        hashes[i].update(v.encode('utf8'))\n",
    "        \n",
    "lsh = ds.MinHashLSH(threshold=0.5)\n",
    "for i, _hash in enumerate(hashes):\n",
    "    lsh.insert(values[i], _hash)"
   ]
  },
  {
   "cell_type": "code",
   "execution_count": 11,
   "id": "cb28035f-86b5-41d1-8941-9adde566c6e4",
   "metadata": {},
   "outputs": [
    {
     "data": {
      "text/plain": [
       "[40, 40, 40, 40, 40]"
      ]
     },
     "execution_count": 11,
     "metadata": {},
     "output_type": "execute_result"
    }
   ],
   "source": [
    "[len(a) for a in list(lsh.hashtables[0]._dict.keys())]"
   ]
  },
  {
   "cell_type": "code",
   "execution_count": 12,
   "id": "e87b8fda-b865-456f-9c8a-c20f167070a3",
   "metadata": {
    "tags": []
   },
   "outputs": [
    {
     "name": "stdout",
     "output_type": "stream",
     "text": [
      "Overriden constructor ran\n"
     ]
    }
   ],
   "source": [
    "pool = hb.ConnectionPool(10, host='namenode')\n",
    "config = {'type': 'hbase', 'hbase_table': 'test_table_2', 'hbase_pool': pool, 'hbase_keysize': 40, 'basename': b'', 'hbase_recreate_table': True}\n",
    "lsh_hbase = ds.MinHashLSH(threshold=0.5, storage_config=config)"
   ]
  },
  {
   "cell_type": "code",
   "execution_count": 13,
   "id": "701bcec2-3ff4-48bb-9455-e6a402400281",
   "metadata": {
    "tags": []
   },
   "outputs": [
    {
     "data": {
      "text/plain": [
       "[b'dGVzdF90YWJsZV8yX2J1Y2tldF8AAA',\n",
       " b'dGVzdF90YWJsZV8yX2J1Y2tldF8AAQ',\n",
       " b'dGVzdF90YWJsZV8yX2J1Y2tldF8AAg',\n",
       " b'dGVzdF90YWJsZV8yX2J1Y2tldF8AAw',\n",
       " b'dGVzdF90YWJsZV8yX2J1Y2tldF8ABA',\n",
       " b'dGVzdF90YWJsZV8yX2J1Y2tldF8ABQ',\n",
       " b'dGVzdF90YWJsZV8yX2J1Y2tldF8ABg',\n",
       " b'dGVzdF90YWJsZV8yX2J1Y2tldF8ABw',\n",
       " b'dGVzdF90YWJsZV8yX2J1Y2tldF8ACA',\n",
       " b'dGVzdF90YWJsZV8yX2J1Y2tldF8ACQ',\n",
       " b'dGVzdF90YWJsZV8yX2J1Y2tldF8ACg',\n",
       " b'dGVzdF90YWJsZV8yX2J1Y2tldF8ACw',\n",
       " b'dGVzdF90YWJsZV8yX2J1Y2tldF8ADA',\n",
       " b'dGVzdF90YWJsZV8yX2J1Y2tldF8ADQ',\n",
       " b'dGVzdF90YWJsZV8yX2J1Y2tldF8ADg',\n",
       " b'dGVzdF90YWJsZV8yX2J1Y2tldF8ADw',\n",
       " b'dGVzdF90YWJsZV8yX2J1Y2tldF8AEA',\n",
       " b'dGVzdF90YWJsZV8yX2J1Y2tldF8AEQ',\n",
       " b'dGVzdF90YWJsZV8yX2J1Y2tldF8AEg',\n",
       " b'dGVzdF90YWJsZV8yX2J1Y2tldF8AEw',\n",
       " b'dGVzdF90YWJsZV8yX2J1Y2tldF8AFA',\n",
       " b'dGVzdF90YWJsZV8yX2J1Y2tldF8AFQ',\n",
       " b'dGVzdF90YWJsZV8yX2J1Y2tldF8AFg',\n",
       " b'dGVzdF90YWJsZV8yX2J1Y2tldF8AFw',\n",
       " b'dGVzdF90YWJsZV8yX2J1Y2tldF8AGA',\n",
       " b'dGVzdF90YWJsZV8yX2tleXM',\n",
       " b'dGVzdF90YWJsZV9oYmFzZWFvaWpkd29pYWpkYWlqb2R3',\n",
       " b'dGVzdF90YWJsZV9oYmFzZWFvaWpkd29pYWpkYWlqb2R3X2J1Y2tldF8AAA',\n",
       " b'dGVzdF90YWJsZV9oYmFzZWFvaWpkd29pYWpkYWlqb2R3X2J1Y2tldF8AAQ',\n",
       " b'dGVzdF90YWJsZV9oYmFzZWFvaWpkd29pYWpkYWlqb2R3X2J1Y2tldF8AAg',\n",
       " b'dGVzdF90YWJsZV9oYmFzZWFvaWpkd29pYWpkYWlqb2R3X2J1Y2tldF8AAw',\n",
       " b'dGVzdF90YWJsZV9oYmFzZWFvaWpkd29pYWpkYWlqb2R3X2J1Y2tldF8ABA',\n",
       " b'dGVzdF90YWJsZV9oYmFzZWFvaWpkd29pYWpkYWlqb2R3X2J1Y2tldF8ABQ',\n",
       " b'dGVzdF90YWJsZV9oYmFzZWFvaWpkd29pYWpkYWlqb2R3X2J1Y2tldF8ABg',\n",
       " b'dGVzdF90YWJsZV9oYmFzZWFvaWpkd29pYWpkYWlqb2R3X2J1Y2tldF8ABw',\n",
       " b'dGVzdF90YWJsZV9oYmFzZWFvaWpkd29pYWpkYWlqb2R3X2J1Y2tldF8ACA',\n",
       " b'dGVzdF90YWJsZV9oYmFzZWFvaWpkd29pYWpkYWlqb2R3X2J1Y2tldF8ACQ',\n",
       " b'dGVzdF90YWJsZV9oYmFzZWFvaWpkd29pYWpkYWlqb2R3X2J1Y2tldF8ACg',\n",
       " b'dGVzdF90YWJsZV9oYmFzZWFvaWpkd29pYWpkYWlqb2R3X2J1Y2tldF8ACw',\n",
       " b'dGVzdF90YWJsZV9oYmFzZWFvaWpkd29pYWpkYWlqb2R3X2J1Y2tldF8ADA',\n",
       " b'dGVzdF90YWJsZV9oYmFzZWFvaWpkd29pYWpkYWlqb2R3X2J1Y2tldF8ADQ',\n",
       " b'dGVzdF90YWJsZV9oYmFzZWFvaWpkd29pYWpkYWlqb2R3X2J1Y2tldF8ADg',\n",
       " b'dGVzdF90YWJsZV9oYmFzZWFvaWpkd29pYWpkYWlqb2R3X2J1Y2tldF8ADw',\n",
       " b'dGVzdF90YWJsZV9oYmFzZWFvaWpkd29pYWpkYWlqb2R3X2J1Y2tldF8AEA',\n",
       " b'dGVzdF90YWJsZV9oYmFzZWFvaWpkd29pYWpkYWlqb2R3X2J1Y2tldF8AEQ',\n",
       " b'dGVzdF90YWJsZV9oYmFzZWFvaWpkd29pYWpkYWlqb2R3X2J1Y2tldF8AEg',\n",
       " b'dGVzdF90YWJsZV9oYmFzZWFvaWpkd29pYWpkYWlqb2R3X2J1Y2tldF8AEw',\n",
       " b'dGVzdF90YWJsZV9oYmFzZWFvaWpkd29pYWpkYWlqb2R3X2J1Y2tldF8AFA',\n",
       " b'dGVzdF90YWJsZV9oYmFzZWFvaWpkd29pYWpkYWlqb2R3X2J1Y2tldF8AFQ',\n",
       " b'dGVzdF90YWJsZV9oYmFzZWFvaWpkd29pYWpkYWlqb2R3X2J1Y2tldF8AFg',\n",
       " b'dGVzdF90YWJsZV9oYmFzZWFvaWpkd29pYWpkYWlqb2R3X2J1Y2tldF8AFw',\n",
       " b'dGVzdF90YWJsZV9oYmFzZWFvaWpkd29pYWpkYWlqb2R3X2J1Y2tldF8AGA',\n",
       " b'dGVzdF90YWJsZV9oYmFzZWFvaWpkd29pYWpkYWlqb2R3X2tleXM',\n",
       " b'test_table_hbase',\n",
       " b'test_table_hbaseaoijdwoiajdaijodw',\n",
       " b'test_table_hbaseaoijdwoiajdaijodw_keys']"
      ]
     },
     "execution_count": 13,
     "metadata": {},
     "output_type": "execute_result"
    }
   ],
   "source": [
    "with pool.connection() as c:\n",
    "    tbs = c.tables()\n",
    "tbs"
   ]
  },
  {
   "cell_type": "code",
   "execution_count": 14,
   "id": "fe3e35e7-5332-4bc7-acbe-ceb8bace0d29",
   "metadata": {},
   "outputs": [
    {
     "data": {
      "text/plain": [
       "True"
      ]
     },
     "execution_count": 14,
     "metadata": {},
     "output_type": "execute_result"
    }
   ],
   "source": [
    "'test_table_hbaseaoijdwoiajdaijodw'.encode('utf8') in tbs"
   ]
  },
  {
   "cell_type": "code",
   "execution_count": 15,
   "id": "74d2e614-d573-45e7-b5c1-79ea805a7d38",
   "metadata": {},
   "outputs": [
    {
     "data": {
      "text/plain": [
       "<__main__.HBaseDictSetStorage at 0x7fe942310880>"
      ]
     },
     "execution_count": 15,
     "metadata": {},
     "output_type": "execute_result"
    }
   ],
   "source": [
    "hbase_unordered_storage(config, name=b'aoijdwoiajdaijodw')"
   ]
  },
  {
   "cell_type": "code",
   "execution_count": 16,
   "id": "64c14367-0a5f-4752-8d1e-10ca647765f0",
   "metadata": {},
   "outputs": [
    {
     "data": {
      "text/plain": [
       "<__main__.HBaseDictListStorage at 0x7fe94227dd60>"
      ]
     },
     "execution_count": 16,
     "metadata": {},
     "output_type": "execute_result"
    }
   ],
   "source": [
    "ds.storage.ordered_storage(config, name=b''.join([config['basename'], b'_keys']))"
   ]
  },
  {
   "cell_type": "code",
   "execution_count": 17,
   "id": "ecb17cca-1a0b-4916-9544-0abe28781f1b",
   "metadata": {
    "tags": []
   },
   "outputs": [],
   "source": [
    "for i, _hash in enumerate(hashes):\n",
    "    lsh_hbase.insert(values[i], _hash)"
   ]
  },
  {
   "cell_type": "code",
   "execution_count": 18,
   "id": "9023cdf3-1bf6-4806-a989-2b771bcb76b0",
   "metadata": {},
   "outputs": [],
   "source": [
    "from datasketch.storage import (\n",
    "    ordered_storage, unordered_storage, _random_name)"
   ]
  },
  {
   "cell_type": "code",
   "execution_count": 19,
   "id": "5609ad0a-9441-4f0a-8fb5-efcc81d01045",
   "metadata": {},
   "outputs": [
    {
     "data": {
      "text/plain": [
       "\u001b[0;31mSignature:\u001b[0m \u001b[0mordered_storage\u001b[0m\u001b[0;34m(\u001b[0m\u001b[0mconfig\u001b[0m\u001b[0;34m,\u001b[0m \u001b[0mname\u001b[0m\u001b[0;34m=\u001b[0m\u001b[0;32mNone\u001b[0m\u001b[0;34m)\u001b[0m\u001b[0;34m\u001b[0m\u001b[0;34m\u001b[0m\u001b[0m\n",
       "\u001b[0;31mDocstring:\u001b[0m <no docstring>\n",
       "\u001b[0;31mSource:\u001b[0m   \n",
       "\u001b[0;32mdef\u001b[0m \u001b[0mhbase_ordered_storage\u001b[0m\u001b[0;34m(\u001b[0m\u001b[0mconfig\u001b[0m\u001b[0;34m,\u001b[0m \u001b[0mname\u001b[0m\u001b[0;34m=\u001b[0m\u001b[0;32mNone\u001b[0m\u001b[0;34m)\u001b[0m\u001b[0;34m:\u001b[0m\u001b[0;34m\u001b[0m\n",
       "\u001b[0;34m\u001b[0m    \u001b[0;31m#print(f\"Overriden ordered storage ran with config: {config}\")\u001b[0m\u001b[0;34m\u001b[0m\n",
       "\u001b[0;34m\u001b[0m    \u001b[0mtp\u001b[0m \u001b[0;34m=\u001b[0m \u001b[0mconfig\u001b[0m\u001b[0;34m[\u001b[0m\u001b[0;34m'type'\u001b[0m\u001b[0;34m]\u001b[0m\u001b[0;34m\u001b[0m\n",
       "\u001b[0;34m\u001b[0m    \u001b[0;32mif\u001b[0m \u001b[0mtp\u001b[0m \u001b[0;34m==\u001b[0m \u001b[0;34m'hbase'\u001b[0m\u001b[0;34m:\u001b[0m\u001b[0;34m\u001b[0m\n",
       "\u001b[0;34m\u001b[0m        \u001b[0;32mreturn\u001b[0m \u001b[0mHBaseDictListStorage\u001b[0m\u001b[0;34m(\u001b[0m\u001b[0mconfig\u001b[0m\u001b[0;34m,\u001b[0m \u001b[0mname\u001b[0m\u001b[0;34m=\u001b[0m\u001b[0mname\u001b[0m\u001b[0;34m)\u001b[0m\u001b[0;34m\u001b[0m\n",
       "\u001b[0;34m\u001b[0m    \u001b[0;32melse\u001b[0m\u001b[0;34m:\u001b[0m\u001b[0;34m\u001b[0m\n",
       "\u001b[0;34m\u001b[0m        \u001b[0;32mreturn\u001b[0m \u001b[0mold_ordered_storage_function\u001b[0m\u001b[0;34m(\u001b[0m\u001b[0mconfig\u001b[0m\u001b[0;34m,\u001b[0m \u001b[0mname\u001b[0m\u001b[0;34m=\u001b[0m\u001b[0mname\u001b[0m\u001b[0;34m)\u001b[0m\u001b[0;34m\u001b[0m\u001b[0;34m\u001b[0m\u001b[0m\n",
       "\u001b[0;31mFile:\u001b[0m      /tmp/ipykernel_295549/1952560481.py\n",
       "\u001b[0;31mType:\u001b[0m      function\n"
      ]
     },
     "metadata": {},
     "output_type": "display_data"
    }
   ],
   "source": [
    "ordered_storage??"
   ]
  },
  {
   "cell_type": "code",
   "execution_count": 20,
   "id": "4ece83f3-8448-4102-9ce8-12b9654b1518",
   "metadata": {},
   "outputs": [
    {
     "data": {
      "text/plain": [
       "'dGVzdF90YWJsZV8yX2tleXM'"
      ]
     },
     "execution_count": 20,
     "metadata": {},
     "output_type": "execute_result"
    }
   ],
   "source": [
    "blerg"
   ]
  },
  {
   "cell_type": "code",
   "execution_count": 21,
   "id": "bdb997a2-e4f9-4dde-87fb-fd8d25c0807b",
   "metadata": {},
   "outputs": [
    {
     "data": {
      "text/plain": [
       "'hello'"
      ]
     },
     "execution_count": 21,
     "metadata": {},
     "output_type": "execute_result"
    }
   ],
   "source": [
    "(b'hello').decode('utf8')"
   ]
  },
  {
   "cell_type": "code",
   "execution_count": 22,
   "id": "5b1014d5-d70c-425a-8781-467f31cfd4ef",
   "metadata": {},
   "outputs": [
    {
     "data": {
      "text/plain": [
       "'aGVsbG8'"
      ]
     },
     "execution_count": 22,
     "metadata": {},
     "output_type": "execute_result"
    }
   ],
   "source": [
    "w = base64.b64encode(b'hello').decode('utf8').replace('=', '')\n",
    "w"
   ]
  },
  {
   "cell_type": "code",
   "execution_count": 23,
   "id": "510b229c-8252-4e37-a7c8-29fdc79756a3",
   "metadata": {},
   "outputs": [
    {
     "data": {
      "text/plain": [
       "b'hello'"
      ]
     },
     "execution_count": 23,
     "metadata": {},
     "output_type": "execute_result"
    }
   ],
   "source": [
    "base64.b64decode(w + '==')"
   ]
  },
  {
   "cell_type": "code",
   "execution_count": 24,
   "id": "db5d5a4c-b942-433e-8a9b-5b67080bba79",
   "metadata": {},
   "outputs": [
    {
     "data": {
      "text/plain": [
       "[b'hello', b'nopeq', b'hewwoadwojaowjdpoawjd']"
      ]
     },
     "execution_count": 24,
     "metadata": {},
     "output_type": "execute_result"
    }
   ],
   "source": [
    "test = ds.MinHash()\n",
    "value = 'opel'\n",
    "for v in value:\n",
    "    test.update(v.encode('utf8'))\n",
    "    \n",
    "lsh_hbase.query(test)"
   ]
  },
  {
   "cell_type": "code",
   "execution_count": 25,
   "id": "1f916b3e-ae11-4baf-8b1c-e833254343fb",
   "metadata": {},
   "outputs": [
    {
     "data": {
      "text/plain": [
       "{'h'}"
      ]
     },
     "execution_count": 25,
     "metadata": {},
     "output_type": "execute_result"
    }
   ],
   "source": [
    "set({'h': True})"
   ]
  },
  {
   "cell_type": "code",
   "execution_count": null,
   "id": "51f52bc0-b0b1-417d-98ab-79f5602195db",
   "metadata": {},
   "outputs": [],
   "source": []
  }
 ],
 "metadata": {
  "kernelspec": {
   "display_name": "Python 3 (ipykernel)",
   "language": "python",
   "name": "python3"
  },
  "language_info": {
   "codemirror_mode": {
    "name": "ipython",
    "version": 3
   },
   "file_extension": ".py",
   "mimetype": "text/x-python",
   "name": "python",
   "nbconvert_exporter": "python",
   "pygments_lexer": "ipython3",
   "version": "3.8.10"
  }
 },
 "nbformat": 4,
 "nbformat_minor": 5
}
