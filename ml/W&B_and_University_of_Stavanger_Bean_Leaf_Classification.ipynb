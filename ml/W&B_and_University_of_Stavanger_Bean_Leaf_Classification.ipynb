{
 "cells": [
  {
   "cell_type": "markdown",
   "metadata": {
    "id": "bn2AsN_8OF9C"
   },
   "source": [
    "<img src=\"https://wandb.me/logo-im-png\" width=\"400\" alt=\"Weights & Biases\" />\n",
    "<!--- @wandbcode{beans-University-of-Stavanger} -->\n",
    "\n",
    "Use Weights & Biases for machine learning experiment tracking, dataset versioning, and project collaboration.\n",
    "\n",
    "\n",
    "<img src=\"https://wandb.me/mini-diagram\" width=\"650\" alt=\"Weights & Biases\" />\n",
    "\n",
    "\n",
    "## What this notebook covers with Weights and Biases:\n",
    "* Metrics logging \n",
    "* Exploratory Data Analysis (EDA)\n",
    "* W&B plots such as Confusion Matrices, ROC curves & PR curves\n",
    "* HyperParameter search with W&B Sweeps\n",
    "\n"
   ]
  },
  {
   "cell_type": "markdown",
   "metadata": {
    "id": "mNu4MLLEWoGm"
   },
   "source": [
    "# ✅ Sign Up\n",
    "\n",
    "Sign up to a free [Weights & Biases account here](https://wandb.ai/signup)"
   ]
  },
  {
   "cell_type": "markdown",
   "metadata": {
    "id": "R_vAHpRh9hi2"
   },
   "source": [
    "# Kaggle Competition Page\n",
    "\n",
    "[Submit to the Competition here](http://www.kaggle.com/c/university-of-stavanger-beans-classification)"
   ]
  },
  {
   "cell_type": "markdown",
   "metadata": {
    "id": "GFmx5yiSHodB"
   },
   "source": [
    "# 🚀 Installing and importing"
   ]
  },
  {
   "cell_type": "code",
   "execution_count": 1,
   "metadata": {
    "id": "32x5NdqZE2e1"
   },
   "outputs": [
    {
     "name": "stdout",
     "output_type": "stream",
     "text": [
      "Collecting pandas\n",
      "  Downloading pandas-1.4.1-cp38-cp38-manylinux_2_17_x86_64.manylinux2014_x86_64.whl (11.7 MB)\n",
      "\u001b[K     |████████████████████████████████| 11.7 MB 3.4 MB/s eta 0:00:01    |██████▏                         | 2.2 MB 3.4 MB/s eta 0:00:03     |█████████▋                      | 3.5 MB 3.4 MB/s eta 0:00:03     |████████████                    | 4.4 MB 3.4 MB/s eta 0:00:03     |██████████████████▊             | 6.8 MB 3.4 MB/s eta 0:00:02\n",
      "\u001b[?25hRequirement already satisfied: python-dateutil>=2.8.1 in /home/ubuntu/.local/lib/python3.8/site-packages (from pandas) (2.8.2)\n",
      "Requirement already satisfied: pytz>=2020.1 in /home/ubuntu/.local/lib/python3.8/site-packages (from pandas) (2021.3)\n",
      "Requirement already satisfied: numpy>=1.18.5; platform_machine != \"aarch64\" and platform_machine != \"arm64\" and python_version < \"3.10\" in /home/ubuntu/.local/lib/python3.8/site-packages (from pandas) (1.22.2)\n",
      "Requirement already satisfied: six>=1.5 in /usr/lib/python3/dist-packages (from python-dateutil>=2.8.1->pandas) (1.14.0)\n",
      "Installing collected packages: pandas\n",
      "Successfully installed pandas-1.4.1\n"
     ]
    }
   ],
   "source": [
    "!pip install -q --upgrade wandb\n",
    "!pip install -q scikit-learn==1.0.1\n",
    "!pip install pandas"
   ]
  },
  {
   "cell_type": "code",
   "execution_count": 2,
   "metadata": {
    "id": "PQV_RY7nauWI"
   },
   "outputs": [],
   "source": [
    "import os\n",
    "import wandb\n",
    "import pandas as pd\n",
    "import numpy as np\n",
    "from sklearn import preprocessing\n",
    "from sklearn.ensemble import RandomForestClassifier\n",
    "from sklearn.metrics import accuracy_score, precision_score, recall_score, f1_score"
   ]
  },
  {
   "cell_type": "markdown",
   "metadata": {
    "id": "19z3oXf7t6Ng"
   },
   "source": [
    "A useful logging function to log multiple metrics to W&B at once"
   ]
  },
  {
   "cell_type": "code",
   "execution_count": 3,
   "metadata": {
    "id": "kwReo5oqkqbh"
   },
   "outputs": [],
   "source": [
    "def log_metrics(labels, preds, is_val=True):\n",
    "  if is_val: pref = 'validation'\n",
    "  else: pref = 'train'\n",
    "  \n",
    "  metrics = {}\n",
    "  metrics[f\"{pref}/accuracy_score\"] = accuracy_score(y_val, y_pred)\n",
    "  metrics[f\"{pref}/precision\"] = precision_score(y_val, y_pred, average=\"weighted\")\n",
    "  metrics[f\"{pref}/recall\"] = recall_score(y_val, y_pred, average=\"weighted\")\n",
    "  metrics[f\"{pref}/f1_score\"] = f1_score(y_val, y_pred, average=\"weighted\")\n",
    "\n",
    "  for k in metrics.keys():\n",
    "    print(f'{k} : {metrics[k]}')\n",
    "    wandb.summary[f\"{k}\"] = metrics[k]\n",
    "\n",
    "  #wandb.log(metrics)"
   ]
  },
  {
   "cell_type": "markdown",
   "metadata": {
    "id": "UK-8urUht2VY"
   },
   "source": [
    "Set some constants "
   ]
  },
  {
   "cell_type": "code",
   "execution_count": 4,
   "metadata": {
    "id": "ECCOZJy_Lx5O"
   },
   "outputs": [],
   "source": [
    "PROJECT = 'beans-tabular-University-of-Stavanger'\n",
    "DATA_DIR = 'data'\n",
    "ARTIFACT_PATH = 'wandb_fc/beans-tabular-pydata-tunisia/beans_competition_dataset:latest'"
   ]
  },
  {
   "cell_type": "markdown",
   "metadata": {
    "id": "iHlJ_rz_Izr7"
   },
   "source": [
    "# 💾 Data\n",
    "#### Download and Load the Data\n",
    "`train.csv` and `val.csv` data will be downloaded to `DATA_DIR`\n"
   ]
  },
  {
   "cell_type": "code",
   "execution_count": 5,
   "metadata": {
    "id": "kxu2Zl3wHpcU"
   },
   "outputs": [
    {
     "name": "stderr",
     "output_type": "stream",
     "text": [
      "\u001b[34m\u001b[1mwandb\u001b[0m: You can find your API key in your browser here: https://wandb.ai/authorize\n"
     ]
    },
    {
     "name": "stdin",
     "output_type": "stream",
     "text": [
      "\u001b[34m\u001b[1mwandb\u001b[0m: Paste an API key from your profile and hit enter, or press ctrl+c to quit:  ········································\n"
     ]
    },
    {
     "name": "stderr",
     "output_type": "stream",
     "text": [
      "\u001b[34m\u001b[1mwandb\u001b[0m: Appending key for api.wandb.ai to your netrc file: /home/ubuntu/.netrc\n"
     ]
    },
    {
     "data": {
      "text/html": [
       "Tracking run with wandb version 0.12.11"
      ],
      "text/plain": [
       "<IPython.core.display.HTML object>"
      ]
     },
     "metadata": {},
     "output_type": "display_data"
    },
    {
     "data": {
      "text/html": [
       "Run data is saved locally in <code>/home/ubuntu/project/ml/wandb/run-20220330_113758-yg7m5tay</code>"
      ],
      "text/plain": [
       "<IPython.core.display.HTML object>"
      ]
     },
     "metadata": {},
     "output_type": "display_data"
    },
    {
     "data": {
      "text/html": [
       "Syncing run <strong><a href=\"https://wandb.ai/sanderele1/beans-tabular-University-of-Stavanger/runs/yg7m5tay\" target=\"_blank\">golden-vortex-1</a></strong> to <a href=\"https://wandb.ai/sanderele1/beans-tabular-University-of-Stavanger\" target=\"_blank\">Weights & Biases</a> (<a href=\"https://wandb.me/run\" target=\"_blank\">docs</a>)<br/>"
      ],
      "text/plain": [
       "<IPython.core.display.HTML object>"
      ]
     },
     "metadata": {},
     "output_type": "display_data"
    },
    {
     "name": "stdout",
     "output_type": "stream",
     "text": [
      "\n"
     ]
    },
    {
     "data": {
      "text/html": [
       "Waiting for W&B process to finish... <strong style=\"color:green\">(success).</strong>"
      ],
      "text/plain": [
       "<IPython.core.display.HTML object>"
      ]
     },
     "metadata": {},
     "output_type": "display_data"
    },
    {
     "data": {
      "text/html": [
       "Synced <strong style=\"color:#cdcd00\">golden-vortex-1</strong>: <a href=\"https://wandb.ai/sanderele1/beans-tabular-University-of-Stavanger/runs/yg7m5tay\" target=\"_blank\">https://wandb.ai/sanderele1/beans-tabular-University-of-Stavanger/runs/yg7m5tay</a><br/>Synced 4 W&B file(s), 0 media file(s), 0 artifact file(s) and 0 other file(s)"
      ],
      "text/plain": [
       "<IPython.core.display.HTML object>"
      ]
     },
     "metadata": {},
     "output_type": "display_data"
    },
    {
     "data": {
      "text/html": [
       "Find logs at: <code>./wandb/run-20220330_113758-yg7m5tay/logs</code>"
      ],
      "text/plain": [
       "<IPython.core.display.HTML object>"
      ]
     },
     "metadata": {},
     "output_type": "display_data"
    }
   ],
   "source": [
    "wandb.init(project=PROJECT, job_type='download_dataset')\n",
    "artifact = wandb.use_artifact(ARTIFACT_PATH, type='dataset')\n",
    "artifact_dir = artifact.download(DATA_DIR)\n",
    "wandb.finish()"
   ]
  },
  {
   "cell_type": "code",
   "execution_count": 6,
   "metadata": {
    "id": "baxhbeeeJOM1"
   },
   "outputs": [
    {
     "data": {
      "text/html": [
       "<div>\n",
       "<style scoped>\n",
       "    .dataframe tbody tr th:only-of-type {\n",
       "        vertical-align: middle;\n",
       "    }\n",
       "\n",
       "    .dataframe tbody tr th {\n",
       "        vertical-align: top;\n",
       "    }\n",
       "\n",
       "    .dataframe thead th {\n",
       "        text-align: right;\n",
       "    }\n",
       "</style>\n",
       "<table border=\"1\" class=\"dataframe\">\n",
       "  <thead>\n",
       "    <tr style=\"text-align: right;\">\n",
       "      <th></th>\n",
       "      <th>Area</th>\n",
       "      <th>Perimeter</th>\n",
       "      <th>MajorAxisLength</th>\n",
       "      <th>MinorAxisLength</th>\n",
       "      <th>AspectRation</th>\n",
       "      <th>Eccentricity</th>\n",
       "      <th>ConvexArea</th>\n",
       "      <th>EquivDiameter</th>\n",
       "      <th>Extent</th>\n",
       "      <th>Solidity</th>\n",
       "      <th>roundness</th>\n",
       "      <th>Compactness</th>\n",
       "      <th>ShapeFactor1</th>\n",
       "      <th>ShapeFactor2</th>\n",
       "      <th>ShapeFactor3</th>\n",
       "      <th>ShapeFactor4</th>\n",
       "      <th>Class</th>\n",
       "      <th>id</th>\n",
       "    </tr>\n",
       "  </thead>\n",
       "  <tbody>\n",
       "    <tr>\n",
       "      <th>0</th>\n",
       "      <td>34942</td>\n",
       "      <td>701.872</td>\n",
       "      <td>250.916336</td>\n",
       "      <td>178.058144</td>\n",
       "      <td>1.409182</td>\n",
       "      <td>0.704573</td>\n",
       "      <td>35396</td>\n",
       "      <td>210.925428</td>\n",
       "      <td>0.786504</td>\n",
       "      <td>0.987174</td>\n",
       "      <td>0.891337</td>\n",
       "      <td>0.840621</td>\n",
       "      <td>0.007181</td>\n",
       "      <td>0.002212</td>\n",
       "      <td>0.706643</td>\n",
       "      <td>0.995788</td>\n",
       "      <td>SIRA</td>\n",
       "      <td>7493</td>\n",
       "    </tr>\n",
       "    <tr>\n",
       "      <th>1</th>\n",
       "      <td>27427</td>\n",
       "      <td>625.835</td>\n",
       "      <td>229.816161</td>\n",
       "      <td>152.537045</td>\n",
       "      <td>1.506625</td>\n",
       "      <td>0.747968</td>\n",
       "      <td>27869</td>\n",
       "      <td>186.871991</td>\n",
       "      <td>0.797297</td>\n",
       "      <td>0.984140</td>\n",
       "      <td>0.879971</td>\n",
       "      <td>0.813137</td>\n",
       "      <td>0.008379</td>\n",
       "      <td>0.002260</td>\n",
       "      <td>0.661192</td>\n",
       "      <td>0.996168</td>\n",
       "      <td>DERMASON</td>\n",
       "      <td>6580</td>\n",
       "    </tr>\n",
       "    <tr>\n",
       "      <th>2</th>\n",
       "      <td>-73178</td>\n",
       "      <td>1033.997</td>\n",
       "      <td>398.300147</td>\n",
       "      <td>235.982898</td>\n",
       "      <td>1.687835</td>\n",
       "      <td>0.805589</td>\n",
       "      <td>73969</td>\n",
       "      <td>305.242729</td>\n",
       "      <td>0.735162</td>\n",
       "      <td>0.989306</td>\n",
       "      <td>0.860106</td>\n",
       "      <td>0.766364</td>\n",
       "      <td>0.005443</td>\n",
       "      <td>0.001158</td>\n",
       "      <td>0.587313</td>\n",
       "      <td>0.991288</td>\n",
       "      <td>CALI</td>\n",
       "      <td>3428</td>\n",
       "    </tr>\n",
       "    <tr>\n",
       "      <th>3</th>\n",
       "      <td>52423</td>\n",
       "      <td>914.234</td>\n",
       "      <td>382.903400</td>\n",
       "      <td>175.428808</td>\n",
       "      <td>2.182671</td>\n",
       "      <td>0.888873</td>\n",
       "      <td>53020</td>\n",
       "      <td>258.354479</td>\n",
       "      <td>0.732308</td>\n",
       "      <td>0.988740</td>\n",
       "      <td>0.788165</td>\n",
       "      <td>0.674725</td>\n",
       "      <td>0.007304</td>\n",
       "      <td>0.000934</td>\n",
       "      <td>0.455254</td>\n",
       "      <td>0.993669</td>\n",
       "      <td>HOROZ</td>\n",
       "      <td>3464</td>\n",
       "    </tr>\n",
       "    <tr>\n",
       "      <th>4</th>\n",
       "      <td>49493</td>\n",
       "      <td>833.519</td>\n",
       "      <td>309.598164</td>\n",
       "      <td>204.067900</td>\n",
       "      <td>1.517133</td>\n",
       "      <td>0.752022</td>\n",
       "      <td>50044</td>\n",
       "      <td>251.030765</td>\n",
       "      <td>0.714432</td>\n",
       "      <td>0.988990</td>\n",
       "      <td>0.895205</td>\n",
       "      <td>0.810828</td>\n",
       "      <td>0.006255</td>\n",
       "      <td>0.001668</td>\n",
       "      <td>0.657442</td>\n",
       "      <td>0.997426</td>\n",
       "      <td>SIRA</td>\n",
       "      <td>3031</td>\n",
       "    </tr>\n",
       "  </tbody>\n",
       "</table>\n",
       "</div>"
      ],
      "text/plain": [
       "    Area  Perimeter  MajorAxisLength  MinorAxisLength  AspectRation  \\\n",
       "0  34942    701.872       250.916336       178.058144      1.409182   \n",
       "1  27427    625.835       229.816161       152.537045      1.506625   \n",
       "2 -73178   1033.997       398.300147       235.982898      1.687835   \n",
       "3  52423    914.234       382.903400       175.428808      2.182671   \n",
       "4  49493    833.519       309.598164       204.067900      1.517133   \n",
       "\n",
       "   Eccentricity  ConvexArea  EquivDiameter    Extent  Solidity  roundness  \\\n",
       "0      0.704573       35396     210.925428  0.786504  0.987174   0.891337   \n",
       "1      0.747968       27869     186.871991  0.797297  0.984140   0.879971   \n",
       "2      0.805589       73969     305.242729  0.735162  0.989306   0.860106   \n",
       "3      0.888873       53020     258.354479  0.732308  0.988740   0.788165   \n",
       "4      0.752022       50044     251.030765  0.714432  0.988990   0.895205   \n",
       "\n",
       "   Compactness  ShapeFactor1  ShapeFactor2  ShapeFactor3  ShapeFactor4  \\\n",
       "0     0.840621      0.007181      0.002212      0.706643      0.995788   \n",
       "1     0.813137      0.008379      0.002260      0.661192      0.996168   \n",
       "2     0.766364      0.005443      0.001158      0.587313      0.991288   \n",
       "3     0.674725      0.007304      0.000934      0.455254      0.993669   \n",
       "4     0.810828      0.006255      0.001668      0.657442      0.997426   \n",
       "\n",
       "      Class    id  \n",
       "0      SIRA  7493  \n",
       "1  DERMASON  6580  \n",
       "2      CALI  3428  \n",
       "3     HOROZ  3464  \n",
       "4      SIRA  3031  "
      ]
     },
     "execution_count": 6,
     "metadata": {},
     "output_type": "execute_result"
    }
   ],
   "source": [
    "# Read csvs to DataFrame\n",
    "train_df = pd.read_csv(f'{DATA_DIR}/train_c.csv')\n",
    "train_df = train_df.sample(frac=1)  # shuffle the train data\n",
    "train_df.reset_index(inplace=True, drop=True)\n",
    "\n",
    "val_df = pd.read_csv(f'{DATA_DIR}/val.csv')\n",
    "test_df = pd.read_csv(f'{DATA_DIR}/test_no_label.csv')\n",
    "\n",
    "train_df.head()"
   ]
  },
  {
   "cell_type": "code",
   "execution_count": 7,
   "metadata": {
    "id": "5RrvVCnw53JU"
   },
   "outputs": [
    {
     "data": {
      "text/html": [
       "<div>\n",
       "<style scoped>\n",
       "    .dataframe tbody tr th:only-of-type {\n",
       "        vertical-align: middle;\n",
       "    }\n",
       "\n",
       "    .dataframe tbody tr th {\n",
       "        vertical-align: top;\n",
       "    }\n",
       "\n",
       "    .dataframe thead th {\n",
       "        text-align: right;\n",
       "    }\n",
       "</style>\n",
       "<table border=\"1\" class=\"dataframe\">\n",
       "  <thead>\n",
       "    <tr style=\"text-align: right;\">\n",
       "      <th></th>\n",
       "      <th>Area</th>\n",
       "      <th>Perimeter</th>\n",
       "      <th>MajorAxisLength</th>\n",
       "      <th>MinorAxisLength</th>\n",
       "      <th>AspectRation</th>\n",
       "      <th>Eccentricity</th>\n",
       "      <th>ConvexArea</th>\n",
       "      <th>EquivDiameter</th>\n",
       "      <th>Extent</th>\n",
       "      <th>Solidity</th>\n",
       "      <th>roundness</th>\n",
       "      <th>Compactness</th>\n",
       "      <th>ShapeFactor1</th>\n",
       "      <th>ShapeFactor2</th>\n",
       "      <th>ShapeFactor3</th>\n",
       "      <th>ShapeFactor4</th>\n",
       "      <th>id</th>\n",
       "    </tr>\n",
       "  </thead>\n",
       "  <tbody>\n",
       "    <tr>\n",
       "      <th>0</th>\n",
       "      <td>68008</td>\n",
       "      <td>996.629</td>\n",
       "      <td>371.705881</td>\n",
       "      <td>234.441758</td>\n",
       "      <td>1.585493</td>\n",
       "      <td>0.776012</td>\n",
       "      <td>69070</td>\n",
       "      <td>294.262595</td>\n",
       "      <td>0.725465</td>\n",
       "      <td>0.984624</td>\n",
       "      <td>0.860405</td>\n",
       "      <td>0.791654</td>\n",
       "      <td>0.005466</td>\n",
       "      <td>0.001324</td>\n",
       "      <td>0.626717</td>\n",
       "      <td>0.993655</td>\n",
       "      <td>0</td>\n",
       "    </tr>\n",
       "    <tr>\n",
       "      <th>1</th>\n",
       "      <td>33169</td>\n",
       "      <td>676.789</td>\n",
       "      <td>242.434085</td>\n",
       "      <td>174.652218</td>\n",
       "      <td>1.388096</td>\n",
       "      <td>0.693547</td>\n",
       "      <td>33629</td>\n",
       "      <td>205.504458</td>\n",
       "      <td>0.766701</td>\n",
       "      <td>0.986321</td>\n",
       "      <td>0.909988</td>\n",
       "      <td>0.847671</td>\n",
       "      <td>0.007309</td>\n",
       "      <td>0.002328</td>\n",
       "      <td>0.718547</td>\n",
       "      <td>0.997412</td>\n",
       "      <td>1</td>\n",
       "    </tr>\n",
       "    <tr>\n",
       "      <th>2</th>\n",
       "      <td>32279</td>\n",
       "      <td>670.977</td>\n",
       "      <td>250.820564</td>\n",
       "      <td>164.181397</td>\n",
       "      <td>1.527704</td>\n",
       "      <td>0.755995</td>\n",
       "      <td>32662</td>\n",
       "      <td>202.728635</td>\n",
       "      <td>0.757190</td>\n",
       "      <td>0.988274</td>\n",
       "      <td>0.900979</td>\n",
       "      <td>0.808262</td>\n",
       "      <td>0.007770</td>\n",
       "      <td>0.002046</td>\n",
       "      <td>0.653287</td>\n",
       "      <td>0.998029</td>\n",
       "      <td>2</td>\n",
       "    </tr>\n",
       "    <tr>\n",
       "      <th>3</th>\n",
       "      <td>47480</td>\n",
       "      <td>809.477</td>\n",
       "      <td>308.172912</td>\n",
       "      <td>197.172445</td>\n",
       "      <td>1.562961</td>\n",
       "      <td>0.768532</td>\n",
       "      <td>47977</td>\n",
       "      <td>245.872759</td>\n",
       "      <td>0.811915</td>\n",
       "      <td>0.989641</td>\n",
       "      <td>0.910566</td>\n",
       "      <td>0.797840</td>\n",
       "      <td>0.006491</td>\n",
       "      <td>0.001622</td>\n",
       "      <td>0.636549</td>\n",
       "      <td>0.994902</td>\n",
       "      <td>3</td>\n",
       "    </tr>\n",
       "    <tr>\n",
       "      <th>4</th>\n",
       "      <td>35615</td>\n",
       "      <td>692.536</td>\n",
       "      <td>233.003591</td>\n",
       "      <td>195.224650</td>\n",
       "      <td>1.193515</td>\n",
       "      <td>0.545883</td>\n",
       "      <td>36004</td>\n",
       "      <td>212.947004</td>\n",
       "      <td>0.743342</td>\n",
       "      <td>0.989196</td>\n",
       "      <td>0.933164</td>\n",
       "      <td>0.913922</td>\n",
       "      <td>0.006542</td>\n",
       "      <td>0.002815</td>\n",
       "      <td>0.835253</td>\n",
       "      <td>0.996887</td>\n",
       "      <td>4</td>\n",
       "    </tr>\n",
       "    <tr>\n",
       "      <th>...</th>\n",
       "      <td>...</td>\n",
       "      <td>...</td>\n",
       "      <td>...</td>\n",
       "      <td>...</td>\n",
       "      <td>...</td>\n",
       "      <td>...</td>\n",
       "      <td>...</td>\n",
       "      <td>...</td>\n",
       "      <td>...</td>\n",
       "      <td>...</td>\n",
       "      <td>...</td>\n",
       "      <td>...</td>\n",
       "      <td>...</td>\n",
       "      <td>...</td>\n",
       "      <td>...</td>\n",
       "      <td>...</td>\n",
       "      <td>...</td>\n",
       "    </tr>\n",
       "    <tr>\n",
       "      <th>3398</th>\n",
       "      <td>38491</td>\n",
       "      <td>745.466</td>\n",
       "      <td>278.802822</td>\n",
       "      <td>176.662392</td>\n",
       "      <td>1.578167</td>\n",
       "      <td>0.773623</td>\n",
       "      <td>39247</td>\n",
       "      <td>221.378100</td>\n",
       "      <td>0.726341</td>\n",
       "      <td>0.980737</td>\n",
       "      <td>0.870389</td>\n",
       "      <td>0.794031</td>\n",
       "      <td>0.007243</td>\n",
       "      <td>0.001776</td>\n",
       "      <td>0.630485</td>\n",
       "      <td>0.995011</td>\n",
       "      <td>3398</td>\n",
       "    </tr>\n",
       "    <tr>\n",
       "      <th>3399</th>\n",
       "      <td>43489</td>\n",
       "      <td>769.887</td>\n",
       "      <td>285.884484</td>\n",
       "      <td>194.201811</td>\n",
       "      <td>1.472100</td>\n",
       "      <td>0.733859</td>\n",
       "      <td>43893</td>\n",
       "      <td>235.312377</td>\n",
       "      <td>0.807415</td>\n",
       "      <td>0.990796</td>\n",
       "      <td>0.922009</td>\n",
       "      <td>0.823103</td>\n",
       "      <td>0.006574</td>\n",
       "      <td>0.001861</td>\n",
       "      <td>0.677499</td>\n",
       "      <td>0.997346</td>\n",
       "      <td>3399</td>\n",
       "    </tr>\n",
       "    <tr>\n",
       "      <th>3400</th>\n",
       "      <td>50400</td>\n",
       "      <td>857.430</td>\n",
       "      <td>327.844472</td>\n",
       "      <td>198.024117</td>\n",
       "      <td>1.655579</td>\n",
       "      <td>0.796970</td>\n",
       "      <td>51001</td>\n",
       "      <td>253.320495</td>\n",
       "      <td>0.686695</td>\n",
       "      <td>0.988216</td>\n",
       "      <td>0.861476</td>\n",
       "      <td>0.772685</td>\n",
       "      <td>0.006505</td>\n",
       "      <td>0.001430</td>\n",
       "      <td>0.597042</td>\n",
       "      <td>0.988450</td>\n",
       "      <td>3400</td>\n",
       "    </tr>\n",
       "    <tr>\n",
       "      <th>3401</th>\n",
       "      <td>43378</td>\n",
       "      <td>787.214</td>\n",
       "      <td>304.180475</td>\n",
       "      <td>182.437741</td>\n",
       "      <td>1.667311</td>\n",
       "      <td>0.800174</td>\n",
       "      <td>43943</td>\n",
       "      <td>235.011883</td>\n",
       "      <td>0.774801</td>\n",
       "      <td>0.987142</td>\n",
       "      <td>0.879617</td>\n",
       "      <td>0.772607</td>\n",
       "      <td>0.007012</td>\n",
       "      <td>0.001541</td>\n",
       "      <td>0.596921</td>\n",
       "      <td>0.995253</td>\n",
       "      <td>3401</td>\n",
       "    </tr>\n",
       "    <tr>\n",
       "      <th>3402</th>\n",
       "      <td>24192</td>\n",
       "      <td>577.564</td>\n",
       "      <td>212.468124</td>\n",
       "      <td>145.446570</td>\n",
       "      <td>1.460798</td>\n",
       "      <td>0.728959</td>\n",
       "      <td>24463</td>\n",
       "      <td>175.505587</td>\n",
       "      <td>0.776280</td>\n",
       "      <td>0.988922</td>\n",
       "      <td>0.911342</td>\n",
       "      <td>0.826033</td>\n",
       "      <td>0.008783</td>\n",
       "      <td>0.002522</td>\n",
       "      <td>0.682330</td>\n",
       "      <td>0.996746</td>\n",
       "      <td>3402</td>\n",
       "    </tr>\n",
       "  </tbody>\n",
       "</table>\n",
       "<p>3403 rows × 17 columns</p>\n",
       "</div>"
      ],
      "text/plain": [
       "       Area  Perimeter  MajorAxisLength  MinorAxisLength  AspectRation  \\\n",
       "0     68008    996.629       371.705881       234.441758      1.585493   \n",
       "1     33169    676.789       242.434085       174.652218      1.388096   \n",
       "2     32279    670.977       250.820564       164.181397      1.527704   \n",
       "3     47480    809.477       308.172912       197.172445      1.562961   \n",
       "4     35615    692.536       233.003591       195.224650      1.193515   \n",
       "...     ...        ...              ...              ...           ...   \n",
       "3398  38491    745.466       278.802822       176.662392      1.578167   \n",
       "3399  43489    769.887       285.884484       194.201811      1.472100   \n",
       "3400  50400    857.430       327.844472       198.024117      1.655579   \n",
       "3401  43378    787.214       304.180475       182.437741      1.667311   \n",
       "3402  24192    577.564       212.468124       145.446570      1.460798   \n",
       "\n",
       "      Eccentricity  ConvexArea  EquivDiameter    Extent  Solidity  roundness  \\\n",
       "0         0.776012       69070     294.262595  0.725465  0.984624   0.860405   \n",
       "1         0.693547       33629     205.504458  0.766701  0.986321   0.909988   \n",
       "2         0.755995       32662     202.728635  0.757190  0.988274   0.900979   \n",
       "3         0.768532       47977     245.872759  0.811915  0.989641   0.910566   \n",
       "4         0.545883       36004     212.947004  0.743342  0.989196   0.933164   \n",
       "...            ...         ...            ...       ...       ...        ...   \n",
       "3398      0.773623       39247     221.378100  0.726341  0.980737   0.870389   \n",
       "3399      0.733859       43893     235.312377  0.807415  0.990796   0.922009   \n",
       "3400      0.796970       51001     253.320495  0.686695  0.988216   0.861476   \n",
       "3401      0.800174       43943     235.011883  0.774801  0.987142   0.879617   \n",
       "3402      0.728959       24463     175.505587  0.776280  0.988922   0.911342   \n",
       "\n",
       "      Compactness  ShapeFactor1  ShapeFactor2  ShapeFactor3  ShapeFactor4  \\\n",
       "0        0.791654      0.005466      0.001324      0.626717      0.993655   \n",
       "1        0.847671      0.007309      0.002328      0.718547      0.997412   \n",
       "2        0.808262      0.007770      0.002046      0.653287      0.998029   \n",
       "3        0.797840      0.006491      0.001622      0.636549      0.994902   \n",
       "4        0.913922      0.006542      0.002815      0.835253      0.996887   \n",
       "...           ...           ...           ...           ...           ...   \n",
       "3398     0.794031      0.007243      0.001776      0.630485      0.995011   \n",
       "3399     0.823103      0.006574      0.001861      0.677499      0.997346   \n",
       "3400     0.772685      0.006505      0.001430      0.597042      0.988450   \n",
       "3401     0.772607      0.007012      0.001541      0.596921      0.995253   \n",
       "3402     0.826033      0.008783      0.002522      0.682330      0.996746   \n",
       "\n",
       "        id  \n",
       "0        0  \n",
       "1        1  \n",
       "2        2  \n",
       "3        3  \n",
       "4        4  \n",
       "...    ...  \n",
       "3398  3398  \n",
       "3399  3399  \n",
       "3400  3400  \n",
       "3401  3401  \n",
       "3402  3402  \n",
       "\n",
       "[3403 rows x 17 columns]"
      ]
     },
     "execution_count": 7,
     "metadata": {},
     "output_type": "execute_result"
    }
   ],
   "source": [
    "test_df"
   ]
  },
  {
   "cell_type": "markdown",
   "metadata": {
    "id": "QatMlpq6VUCD"
   },
   "source": [
    "#### Prep Data\n",
    "Extract the X,y values and encode the classes into integer values"
   ]
  },
  {
   "cell_type": "code",
   "execution_count": 8,
   "metadata": {
    "id": "Wg-B02o5VzBG"
   },
   "outputs": [
    {
     "data": {
      "text/plain": [
       "['CALI', 'CALI', 'BOMBAY']"
      ]
     },
     "execution_count": 8,
     "metadata": {},
     "output_type": "execute_result"
    }
   ],
   "source": [
    "le = preprocessing.LabelEncoder()\n",
    "\n",
    "y_train_txt = train_df['Class'].values.tolist()\n",
    "le.fit(y_train_txt)\n",
    "labels = le.classes_\n",
    "\n",
    "X_train = train_df.iloc[:,:-2].values.tolist()\n",
    "y_train = le.transform(y_train_txt)\n",
    "\n",
    "X_val = val_df.iloc[:,:-2].values.tolist()\n",
    "y_val_txt = val_df['Class'].values.tolist()\n",
    "y_val = le.transform(y_val_txt)\n",
    "\n",
    "X_test = test_df.iloc[:,:-1].values.tolist()\n",
    "\n",
    "labels = train_df['Class'].unique()\n",
    "\n",
    "list(le.inverse_transform([2, 2, 1]))"
   ]
  },
  {
   "cell_type": "markdown",
   "metadata": {
    "id": "GZfOpabjL4kf"
   },
   "source": [
    "# 🖼️ EDA with W&B Tables\n",
    "Log the train and validation datasets to W&B Tables for EDA"
   ]
  },
  {
   "cell_type": "code",
   "execution_count": 9,
   "metadata": {
    "id": "dD_7X40vHpQ0"
   },
   "outputs": [
    {
     "name": "stderr",
     "output_type": "stream",
     "text": [
      "\u001b[34m\u001b[1mwandb\u001b[0m: Currently logged in as: \u001b[33msanderele1\u001b[0m (use `wandb login --relogin` to force relogin)\n"
     ]
    },
    {
     "data": {
      "text/html": [
       "Tracking run with wandb version 0.12.11"
      ],
      "text/plain": [
       "<IPython.core.display.HTML object>"
      ]
     },
     "metadata": {},
     "output_type": "display_data"
    },
    {
     "data": {
      "text/html": [
       "Run data is saved locally in <code>/home/ubuntu/project/ml/wandb/run-20220330_113811-2zxjvh67</code>"
      ],
      "text/plain": [
       "<IPython.core.display.HTML object>"
      ]
     },
     "metadata": {},
     "output_type": "display_data"
    },
    {
     "data": {
      "text/html": [
       "Syncing run <strong><a href=\"https://wandb.ai/sanderele1/beans-tabular-University-of-Stavanger/runs/2zxjvh67\" target=\"_blank\">tough-fog-2</a></strong> to <a href=\"https://wandb.ai/sanderele1/beans-tabular-University-of-Stavanger\" target=\"_blank\">Weights & Biases</a> (<a href=\"https://wandb.me/run\" target=\"_blank\">docs</a>)<br/>"
      ],
      "text/plain": [
       "<IPython.core.display.HTML object>"
      ]
     },
     "metadata": {},
     "output_type": "display_data"
    },
    {
     "name": "stderr",
     "output_type": "stream",
     "text": [
      "\u001b[34m\u001b[1mwandb\u001b[0m: Network error (ConnectionError), entering retry loop.\n",
      "wandb: Network error (ConnectionError), entering retry loop.\n"
     ]
    },
    {
     "name": "stdout",
     "output_type": "stream",
     "text": [
      "\n"
     ]
    },
    {
     "data": {
      "text/html": [
       "Waiting for W&B process to finish... <strong style=\"color:green\">(success).</strong>"
      ],
      "text/plain": [
       "<IPython.core.display.HTML object>"
      ]
     },
     "metadata": {},
     "output_type": "display_data"
    },
    {
     "data": {
      "text/html": [
       "Synced <strong style=\"color:#cdcd00\">tough-fog-2</strong>: <a href=\"https://wandb.ai/sanderele1/beans-tabular-University-of-Stavanger/runs/2zxjvh67\" target=\"_blank\">https://wandb.ai/sanderele1/beans-tabular-University-of-Stavanger/runs/2zxjvh67</a><br/>Synced 5 W&B file(s), 2 media file(s), 2 artifact file(s) and 0 other file(s)"
      ],
      "text/plain": [
       "<IPython.core.display.HTML object>"
      ]
     },
     "metadata": {},
     "output_type": "display_data"
    },
    {
     "data": {
      "text/html": [
       "Find logs at: <code>./wandb/run-20220330_113811-2zxjvh67/logs</code>"
      ],
      "text/plain": [
       "<IPython.core.display.HTML object>"
      ]
     },
     "metadata": {},
     "output_type": "display_data"
    }
   ],
   "source": [
    "wandb.init(project=PROJECT, job_type='log_dataset')\n",
    "wandb.log({'Datasets/train_ds':train_df})\n",
    "wandb.log({'Datasets/val_ds':val_df})\n",
    "wandb.finish()"
   ]
  },
  {
   "cell_type": "markdown",
   "metadata": {
    "id": "L5ni9t9sfArq"
   },
   "source": [
    "#👟 Train\n",
    "Train a [`RandomForestClassifier`](https://scikit-learn.org/stable/modules/generated/sklearn.ensemble.RandomForestClassifier.html#sklearn.ensemble.RandomForestClassifier) from sci-kit learn"
   ]
  },
  {
   "cell_type": "code",
   "execution_count": 10,
   "metadata": {
    "id": "K2OZsuwfkVMv"
   },
   "outputs": [
    {
     "data": {
      "text/html": [
       "Tracking run with wandb version 0.12.11"
      ],
      "text/plain": [
       "<IPython.core.display.HTML object>"
      ]
     },
     "metadata": {},
     "output_type": "display_data"
    },
    {
     "data": {
      "text/html": [
       "Run data is saved locally in <code>/home/ubuntu/project/ml/wandb/run-20220330_113957-2qkhoecv</code>"
      ],
      "text/plain": [
       "<IPython.core.display.HTML object>"
      ]
     },
     "metadata": {},
     "output_type": "display_data"
    },
    {
     "data": {
      "text/html": [
       "Syncing run <strong><a href=\"https://wandb.ai/sanderele1/beans-tabular-University-of-Stavanger/runs/2qkhoecv\" target=\"_blank\">apricot-jazz-3</a></strong> to <a href=\"https://wandb.ai/sanderele1/beans-tabular-University-of-Stavanger\" target=\"_blank\">Weights & Biases</a> (<a href=\"https://wandb.me/run\" target=\"_blank\">docs</a>)<br/>"
      ],
      "text/plain": [
       "<IPython.core.display.HTML object>"
      ]
     },
     "metadata": {},
     "output_type": "display_data"
    }
   ],
   "source": [
    "wandb.init(project=PROJECT)\n",
    "\n",
    "model = RandomForestClassifier()\n",
    "\n",
    "# ✍️ Log your Models parameter config to W&B\n",
    "wandb.config.update(model.get_params())\n",
    "\n",
    "model.fit(X_train, y_train)\n",
    "\n",
    "y_pred_train = model.predict(X_train)\n",
    "y_pred = model.predict(X_val)\n",
    "y_probas = model.predict_proba(X_val)\n",
    "\n",
    "importances = model.feature_importances_\n",
    "indices = np.argsort(importances)[::-1]"
   ]
  },
  {
   "cell_type": "markdown",
   "metadata": {
    "id": "ckURDaqhrhui"
   },
   "source": [
    "✍️ Log your model's Metrics to W&B"
   ]
  },
  {
   "cell_type": "code",
   "execution_count": 11,
   "metadata": {
    "id": "9b7099kdmHmp"
   },
   "outputs": [
    {
     "name": "stdout",
     "output_type": "stream",
     "text": [
      "validation/accuracy_score : 0.931843891402715\n",
      "validation/precision : 0.931686336138724\n",
      "validation/recall : 0.931843891402715\n",
      "validation/f1_score : 0.9317082546430002\n"
     ]
    }
   ],
   "source": [
    "log_metrics(y_val, y_pred)"
   ]
  },
  {
   "cell_type": "markdown",
   "metadata": {
    "id": "j9FEchN-sXsn"
   },
   "source": [
    "#🤩 Visualize Model Performance in W&B\n",
    "Weights & Biases have charting functions for popular model evaluation charts including confusion matrices, ROC curves, PR curves and more.\n",
    "[Check out wandb charts documentation here $\\rightarrow$](https://docs.wandb.ai/guides/track/log/plots#model-evaluation-charts)"
   ]
  },
  {
   "cell_type": "markdown",
   "metadata": {
    "id": "a7wQwS8voSB3"
   },
   "source": [
    "**Confusion Matrix**\n"
   ]
  },
  {
   "cell_type": "code",
   "execution_count": 12,
   "metadata": {
    "id": "-0T95FIJmQXM"
   },
   "outputs": [],
   "source": [
    "wandb.log({\"confusion Matrix\" : wandb.plot.confusion_matrix(y_probas, y_val, class_names=labels)})"
   ]
  },
  {
   "cell_type": "markdown",
   "metadata": {
    "id": "ATGYTRKnnQBD"
   },
   "source": [
    "**ROC Curve**\n"
   ]
  },
  {
   "cell_type": "code",
   "execution_count": 13,
   "metadata": {
    "id": "OO8_V_AanPq9"
   },
   "outputs": [],
   "source": [
    "wandb.log({\"ROC Curve\": wandb.plot.roc_curve(y_val, y_probas, labels=labels, title='ROC Curve')})"
   ]
  },
  {
   "cell_type": "markdown",
   "metadata": {
    "id": "hZq5a6RpoapA"
   },
   "source": [
    "**Precision Recall Curve**"
   ]
  },
  {
   "cell_type": "code",
   "execution_count": 14,
   "metadata": {
    "id": "31ZEnsbRocJl"
   },
   "outputs": [],
   "source": [
    "wandb.log({\"Precision-Recall\": wandb.plot.pr_curve(y_val, y_probas, labels=labels, title='Precision-Recall')})"
   ]
  },
  {
   "cell_type": "markdown",
   "metadata": {
    "id": "pV66Jrrdolhz"
   },
   "source": [
    "**Feature Importances**\n",
    "\n",
    "Evaluates and plots the importance of each feature for the classification task. Only works with classifiers that have a `feature_importances_` attribute, like trees."
   ]
  },
  {
   "cell_type": "code",
   "execution_count": 15,
   "metadata": {
    "id": "Wv-ED9j_qCZA"
   },
   "outputs": [],
   "source": [
    "feat_names = train_df.columns.values\n",
    "imps = []\n",
    "feats = []\n",
    "for i in indices:\n",
    "  imps.append(importances[i])\n",
    "  feats.append(feat_names[i])\n",
    "\n",
    "fi_data = pd.DataFrame({\"Feature\":feats, \"Importance\":imps})"
   ]
  },
  {
   "cell_type": "code",
   "execution_count": 16,
   "metadata": {
    "id": "AEdaNt9tpqTO"
   },
   "outputs": [],
   "source": [
    "table = wandb.Table(data=fi_data, columns = [\"Feature\", \"Importance\"])\n",
    "wandb.log({\"Feature Importance\" : wandb.plot.bar(table, \"Feature\",\n",
    "                               \"Importance\", title=\"Feature Importance\")})"
   ]
  },
  {
   "cell_type": "markdown",
   "metadata": {
    "id": "YqO3vXwAuXUT"
   },
   "source": [
    "#### 🏁 Finish W&B Run\n",
    "When you're finished with your logging for a run make sure to call `wandb.finish()` to avoid logging metrics from your next experiment to the wrong run"
   ]
  },
  {
   "cell_type": "code",
   "execution_count": 17,
   "metadata": {
    "id": "TIHtZ-QEuVV8"
   },
   "outputs": [
    {
     "name": "stdout",
     "output_type": "stream",
     "text": [
      "\n"
     ]
    },
    {
     "data": {
      "text/html": [
       "Waiting for W&B process to finish... <strong style=\"color:green\">(success).</strong>"
      ],
      "text/plain": [
       "<IPython.core.display.HTML object>"
      ]
     },
     "metadata": {},
     "output_type": "display_data"
    },
    {
     "data": {
      "text/html": [
       "<style>\n",
       "    table.wandb td:nth-child(1) { padding: 0 10px; text-align: right }\n",
       "    .wandb-row { display: flex; flex-direction: row; flex-wrap: wrap; width: 100% }\n",
       "    .wandb-col { display: flex; flex-direction: column; flex-basis: 100%; flex: 1; padding: 10px; }\n",
       "    </style>\n",
       "<div class=\"wandb-row\"><div class=\"wandb-col\"><h3>Run summary:</h3><br/><table class=\"wandb\"><tr><td>validation/accuracy_score</td><td>0.93184</td></tr><tr><td>validation/f1_score</td><td>0.93171</td></tr><tr><td>validation/precision</td><td>0.93169</td></tr><tr><td>validation/recall</td><td>0.93184</td></tr></table><br/></div></div>"
      ],
      "text/plain": [
       "<IPython.core.display.HTML object>"
      ]
     },
     "metadata": {},
     "output_type": "display_data"
    },
    {
     "data": {
      "text/html": [
       "Synced <strong style=\"color:#cdcd00\">apricot-jazz-3</strong>: <a href=\"https://wandb.ai/sanderele1/beans-tabular-University-of-Stavanger/runs/2qkhoecv\" target=\"_blank\">https://wandb.ai/sanderele1/beans-tabular-University-of-Stavanger/runs/2qkhoecv</a><br/>Synced 5 W&B file(s), 4 media file(s), 4 artifact file(s) and 0 other file(s)"
      ],
      "text/plain": [
       "<IPython.core.display.HTML object>"
      ]
     },
     "metadata": {},
     "output_type": "display_data"
    },
    {
     "data": {
      "text/html": [
       "Find logs at: <code>./wandb/run-20220330_113957-2qkhoecv/logs</code>"
      ],
      "text/plain": [
       "<IPython.core.display.HTML object>"
      ]
     },
     "metadata": {},
     "output_type": "display_data"
    }
   ],
   "source": [
    "wandb.finish()"
   ]
  },
  {
   "cell_type": "markdown",
   "metadata": {
    "id": "_DesBwID32HJ"
   },
   "source": [
    "# Submission"
   ]
  },
  {
   "cell_type": "code",
   "execution_count": 18,
   "metadata": {
    "id": "FZq_oR8f30yY"
   },
   "outputs": [],
   "source": [
    "y_pred_test = model.predict(X_test)\n",
    "y_pred_test = list(le.inverse_transform(y_pred_test))\n",
    "ids = test_df.id.values\n",
    "\n",
    "submission_df = pd.DataFrame({'Id':ids, 'Predicted':y_pred_test})\n",
    "submission_df.to_csv('submission.csv', index=False)"
   ]
  },
  {
   "cell_type": "markdown",
   "metadata": {
    "id": "OvVBjQTbpFhV"
   },
   "source": [
    "# 🧪 HyperParameter Sweep\n",
    "\n",
    "Weights and Biases also enables you to do hyperparameter sweeps, either with our own [Sweeps functionality](https://docs.wandb.ai/guides/sweeps/python-api)."
   ]
  },
  {
   "cell_type": "markdown",
   "metadata": {
    "id": "-ixD36XLozvk"
   },
   "source": [
    "#### Sweep Train Function\n",
    "A W&B Sweep needs to passed in a config and a training function to run."
   ]
  },
  {
   "cell_type": "code",
   "execution_count": 19,
   "metadata": {
    "id": "V6TwD4gSsrwo"
   },
   "outputs": [],
   "source": [
    "def train():     \n",
    "    with wandb.init() as _:\n",
    "      \n",
    "      model = RandomForestClassifier(\n",
    "          \n",
    "          n_estimators=wandb.config['n_estimators'],   # n_estimators parameter will now be set by W&B\n",
    "          max_depth=wandb.config['max_depth']     # max_depth parameter will now be set by W&B\n",
    "          \n",
    "          # [Optional] add additional model parameters here\n",
    "          \n",
    "          )\n",
    "      \n",
    "      # ✍️ Log your Models parameter config to W&B\n",
    "      wandb.config['model_type'] = 'random_forest'\n",
    "      wandb.config.update(model.get_params())\n",
    "\n",
    "      model.fit(X_train, y_train)\n",
    "\n",
    "      y_pred_train = model.predict(X_train)\n",
    "      y_pred = model.predict(X_val)\n",
    "      y_probas = model.predict_proba(X_val)\n",
    "        \n",
    "      # Log validation summary metrics to W&B\n",
    "      wandb.summary[\"validation/accuracy\"] = accuracy_score(y_val, y_pred)\n",
    "      wandb.summary[\"validation/precision\"] = precision_score(y_val, y_pred, average=\"weighted\")\n",
    "      wandb.summary[\"validation/recall\"] = recall_score(y_val, y_pred, average=\"weighted\")\n",
    "      wandb.summary[\"validation/f1_score\"] = f1_score(y_val, y_pred, average=\"weighted\")\n",
    "    \n",
    "      # Make test set predictions and save as csv  \n",
    "      y_pred_test = model.predict(X_test)\n",
    "      y_pred_test = list(le.inverse_transform(y_pred_test))\n",
    "\n",
    "      submission_df = pd.DataFrame({'Id':test_df.id.values, 'Predicted':y_pred_test})\n",
    "      submission_df.to_csv('submission.csv', index=False)\n",
    "        \n",
    "      wandb.log_artifact('submission.csv', name=f'{wandb.run.id}_submission', type='submission')"
   ]
  },
  {
   "cell_type": "markdown",
   "metadata": {
    "id": "DHaoTUwkqxNl",
    "tags": []
   },
   "source": [
    "💡 **Tip**\n",
    "\n",
    "The `train` function above uses Sci-Kit Learn's [`RandomForestClassifier`](https://scikit-learn.org/stable/modules/generated/sklearn.ensemble.RandomForestClassifier.html#sklearn.ensemble.RandomForestClassifier) but you can also modify the code to user other models such as `DecisionTreeClassifier` or `AdaBoostClassifier` or other boosting models such as [`XGBoost`](https://xgboost.readthedocs.io/en/latest/get_started.html). \n",
    "\n",
    "Note that you'll likely have to chanage the argument names in the `sweep_config` when using these models in a sweep.\n",
    "\n",
    "\n",
    "```\n",
    "from sklearn.tree import DecisionTreeClassifier\n",
    "from sklearn.ensemble import AdaBoostClassifier\n",
    "\n",
    "model = DecisionTreeClassifier()\n",
    "model = AdaBoostClassifier()\n",
    "```\n",
    "\n",
    "\n",
    "\n",
    "#### Sweep Config\n",
    "Define the name of your sweep, how you'd like to sweep and what parameters to sweep over. See the [Sweep Configuration Docs](https://docs.wandb.ai/guides/sweeps/configuration) here for more advanced functionality"
   ]
  },
  {
   "cell_type": "code",
   "execution_count": 20,
   "metadata": {
    "id": "gmPoRCjOsrzQ"
   },
   "outputs": [
    {
     "name": "stdout",
     "output_type": "stream",
     "text": [
      "Create sweep with ID: k0ph9jy4\n",
      "Sweep URL: https://wandb.ai/sanderele1/beans-tabular-University-of-Stavanger/sweeps/k0ph9jy4\n"
     ]
    }
   ],
   "source": [
    "sweep_config = {\n",
    "  \"name\" : \"beans_sweep\",\n",
    "  \"method\" : \"random\",\n",
    "  \"parameters\" : {\n",
    "    \"n_estimators\" :{\n",
    "      \"min\": 10,\n",
    "      \"max\": 400\n",
    "    },\n",
    "    \"max_depth\" :{\n",
    "      \"min\": 2,\n",
    "      \"max\": 100\n",
    "    },\n",
    "\n",
    "    # [Optional] add additional parameters here\n",
    "\n",
    "  }\n",
    "}\n",
    "\n",
    "sweep_id = wandb.sweep(sweep_config, project=PROJECT)"
   ]
  },
  {
   "cell_type": "markdown",
   "metadata": {
    "id": "jlWEExyQosPw"
   },
   "source": [
    "💡 **Tip**\n",
    "\n",
    "The above `sweeps_config` is very simple, consider sweeping over additional parameters - don't forget to modify your `train` function to pass these additional parameters to your model\n",
    "\n",
    "#### Run Sweep\n",
    "Now we define the number of experiments we'd like to run using `N_RUNS`, pass the sweep_id and the training function and then start the sweep\n"
   ]
  },
  {
   "cell_type": "code",
   "execution_count": null,
   "metadata": {
    "id": "ZvEEKlALsrsN"
   },
   "outputs": [
    {
     "name": "stderr",
     "output_type": "stream",
     "text": [
      "\u001b[34m\u001b[1mwandb\u001b[0m: Agent Starting Run: qxi3q8ym with config:\n",
      "\u001b[34m\u001b[1mwandb\u001b[0m: \tmax_depth: 13\n",
      "\u001b[34m\u001b[1mwandb\u001b[0m: \tn_estimators: 43\n"
     ]
    },
    {
     "data": {
      "text/html": [
       "Tracking run with wandb version 0.12.11"
      ],
      "text/plain": [
       "<IPython.core.display.HTML object>"
      ]
     },
     "metadata": {},
     "output_type": "display_data"
    },
    {
     "data": {
      "text/html": [
       "Run data is saved locally in <code>/home/ubuntu/project/ml/wandb/run-20220330_114127-qxi3q8ym</code>"
      ],
      "text/plain": [
       "<IPython.core.display.HTML object>"
      ]
     },
     "metadata": {},
     "output_type": "display_data"
    },
    {
     "data": {
      "text/html": [
       "Syncing run <strong><a href=\"https://wandb.ai/sanderele1/beans-tabular-University-of-Stavanger/runs/qxi3q8ym\" target=\"_blank\">daily-sweep-1</a></strong> to <a href=\"https://wandb.ai/sanderele1/beans-tabular-University-of-Stavanger\" target=\"_blank\">Weights & Biases</a> (<a href=\"https://wandb.me/run\" target=\"_blank\">docs</a>)<br/>Sweep page:  <a href=\"https://wandb.ai/sanderele1/beans-tabular-University-of-Stavanger/sweeps/k0ph9jy4\" target=\"_blank\">https://wandb.ai/sanderele1/beans-tabular-University-of-Stavanger/sweeps/k0ph9jy4</a>"
      ],
      "text/plain": [
       "<IPython.core.display.HTML object>"
      ]
     },
     "metadata": {},
     "output_type": "display_data"
    },
    {
     "name": "stderr",
     "output_type": "stream",
     "text": [
      "\u001b[34m\u001b[1mwandb\u001b[0m: \u001b[33mWARNING\u001b[0m Config item 'max_depth' was locked by 'sweep' (ignored update).\n",
      "\u001b[34m\u001b[1mwandb\u001b[0m: \u001b[33mWARNING\u001b[0m Config item 'n_estimators' was locked by 'sweep' (ignored update).\n"
     ]
    },
    {
     "name": "stdout",
     "output_type": "stream",
     "text": [
      "\n"
     ]
    },
    {
     "data": {
      "text/html": [
       "Waiting for W&B process to finish... <strong style=\"color:green\">(success).</strong>"
      ],
      "text/plain": [
       "<IPython.core.display.HTML object>"
      ]
     },
     "metadata": {},
     "output_type": "display_data"
    },
    {
     "data": {
      "text/html": [
       "<style>\n",
       "    table.wandb td:nth-child(1) { padding: 0 10px; text-align: right }\n",
       "    .wandb-row { display: flex; flex-direction: row; flex-wrap: wrap; width: 100% }\n",
       "    .wandb-col { display: flex; flex-direction: column; flex-basis: 100%; flex: 1; padding: 10px; }\n",
       "    </style>\n",
       "<div class=\"wandb-row\"><div class=\"wandb-col\"><h3>Run summary:</h3><br/><table class=\"wandb\"><tr><td>validation/accuracy</td><td>0.9293</td></tr><tr><td>validation/f1_score</td><td>0.92919</td></tr><tr><td>validation/precision</td><td>0.92916</td></tr><tr><td>validation/recall</td><td>0.9293</td></tr></table><br/></div></div>"
      ],
      "text/plain": [
       "<IPython.core.display.HTML object>"
      ]
     },
     "metadata": {},
     "output_type": "display_data"
    },
    {
     "data": {
      "text/html": [
       "Synced <strong style=\"color:#cdcd00\">daily-sweep-1</strong>: <a href=\"https://wandb.ai/sanderele1/beans-tabular-University-of-Stavanger/runs/qxi3q8ym\" target=\"_blank\">https://wandb.ai/sanderele1/beans-tabular-University-of-Stavanger/runs/qxi3q8ym</a><br/>Synced 5 W&B file(s), 0 media file(s), 1 artifact file(s) and 0 other file(s)"
      ],
      "text/plain": [
       "<IPython.core.display.HTML object>"
      ]
     },
     "metadata": {},
     "output_type": "display_data"
    },
    {
     "data": {
      "text/html": [
       "Find logs at: <code>./wandb/run-20220330_114127-qxi3q8ym/logs</code>"
      ],
      "text/plain": [
       "<IPython.core.display.HTML object>"
      ]
     },
     "metadata": {},
     "output_type": "display_data"
    },
    {
     "name": "stderr",
     "output_type": "stream",
     "text": [
      "\u001b[34m\u001b[1mwandb\u001b[0m: Agent Starting Run: x3x0u6jv with config:\n",
      "\u001b[34m\u001b[1mwandb\u001b[0m: \tmax_depth: 15\n",
      "\u001b[34m\u001b[1mwandb\u001b[0m: \tn_estimators: 40\n"
     ]
    },
    {
     "data": {
      "text/html": [
       "Tracking run with wandb version 0.12.11"
      ],
      "text/plain": [
       "<IPython.core.display.HTML object>"
      ]
     },
     "metadata": {},
     "output_type": "display_data"
    },
    {
     "data": {
      "text/html": [
       "Run data is saved locally in <code>/home/ubuntu/project/ml/wandb/run-20220330_114143-x3x0u6jv</code>"
      ],
      "text/plain": [
       "<IPython.core.display.HTML object>"
      ]
     },
     "metadata": {},
     "output_type": "display_data"
    },
    {
     "data": {
      "text/html": [
       "Syncing run <strong><a href=\"https://wandb.ai/sanderele1/beans-tabular-University-of-Stavanger/runs/x3x0u6jv\" target=\"_blank\">sweet-sweep-2</a></strong> to <a href=\"https://wandb.ai/sanderele1/beans-tabular-University-of-Stavanger\" target=\"_blank\">Weights & Biases</a> (<a href=\"https://wandb.me/run\" target=\"_blank\">docs</a>)<br/>Sweep page:  <a href=\"https://wandb.ai/sanderele1/beans-tabular-University-of-Stavanger/sweeps/k0ph9jy4\" target=\"_blank\">https://wandb.ai/sanderele1/beans-tabular-University-of-Stavanger/sweeps/k0ph9jy4</a>"
      ],
      "text/plain": [
       "<IPython.core.display.HTML object>"
      ]
     },
     "metadata": {},
     "output_type": "display_data"
    },
    {
     "name": "stderr",
     "output_type": "stream",
     "text": [
      "\u001b[34m\u001b[1mwandb\u001b[0m: \u001b[33mWARNING\u001b[0m Config item 'max_depth' was locked by 'sweep' (ignored update).\n",
      "\u001b[34m\u001b[1mwandb\u001b[0m: \u001b[33mWARNING\u001b[0m Config item 'n_estimators' was locked by 'sweep' (ignored update).\n"
     ]
    },
    {
     "name": "stdout",
     "output_type": "stream",
     "text": [
      "\n"
     ]
    },
    {
     "data": {
      "text/html": [
       "Waiting for W&B process to finish... <strong style=\"color:green\">(success).</strong>"
      ],
      "text/plain": [
       "<IPython.core.display.HTML object>"
      ]
     },
     "metadata": {},
     "output_type": "display_data"
    },
    {
     "data": {
      "text/html": [
       "<style>\n",
       "    table.wandb td:nth-child(1) { padding: 0 10px; text-align: right }\n",
       "    .wandb-row { display: flex; flex-direction: row; flex-wrap: wrap; width: 100% }\n",
       "    .wandb-col { display: flex; flex-direction: column; flex-basis: 100%; flex: 1; padding: 10px; }\n",
       "    </style>\n",
       "<div class=\"wandb-row\"><div class=\"wandb-col\"><h3>Run summary:</h3><br/><table class=\"wandb\"><tr><td>validation/accuracy</td><td>0.92619</td></tr><tr><td>validation/f1_score</td><td>0.92617</td></tr><tr><td>validation/precision</td><td>0.92621</td></tr><tr><td>validation/recall</td><td>0.92619</td></tr></table><br/></div></div>"
      ],
      "text/plain": [
       "<IPython.core.display.HTML object>"
      ]
     },
     "metadata": {},
     "output_type": "display_data"
    },
    {
     "data": {
      "text/html": [
       "Synced <strong style=\"color:#cdcd00\">sweet-sweep-2</strong>: <a href=\"https://wandb.ai/sanderele1/beans-tabular-University-of-Stavanger/runs/x3x0u6jv\" target=\"_blank\">https://wandb.ai/sanderele1/beans-tabular-University-of-Stavanger/runs/x3x0u6jv</a><br/>Synced 5 W&B file(s), 0 media file(s), 1 artifact file(s) and 0 other file(s)"
      ],
      "text/plain": [
       "<IPython.core.display.HTML object>"
      ]
     },
     "metadata": {},
     "output_type": "display_data"
    },
    {
     "data": {
      "text/html": [
       "Find logs at: <code>./wandb/run-20220330_114143-x3x0u6jv/logs</code>"
      ],
      "text/plain": [
       "<IPython.core.display.HTML object>"
      ]
     },
     "metadata": {},
     "output_type": "display_data"
    },
    {
     "name": "stderr",
     "output_type": "stream",
     "text": [
      "\u001b[34m\u001b[1mwandb\u001b[0m: Agent Starting Run: 326amfsi with config:\n",
      "\u001b[34m\u001b[1mwandb\u001b[0m: \tmax_depth: 11\n",
      "\u001b[34m\u001b[1mwandb\u001b[0m: \tn_estimators: 327\n"
     ]
    },
    {
     "data": {
      "text/html": [
       "Tracking run with wandb version 0.12.11"
      ],
      "text/plain": [
       "<IPython.core.display.HTML object>"
      ]
     },
     "metadata": {},
     "output_type": "display_data"
    },
    {
     "data": {
      "text/html": [
       "Run data is saved locally in <code>/home/ubuntu/project/ml/wandb/run-20220330_114153-326amfsi</code>"
      ],
      "text/plain": [
       "<IPython.core.display.HTML object>"
      ]
     },
     "metadata": {},
     "output_type": "display_data"
    },
    {
     "data": {
      "text/html": [
       "Syncing run <strong><a href=\"https://wandb.ai/sanderele1/beans-tabular-University-of-Stavanger/runs/326amfsi\" target=\"_blank\">wobbly-sweep-3</a></strong> to <a href=\"https://wandb.ai/sanderele1/beans-tabular-University-of-Stavanger\" target=\"_blank\">Weights & Biases</a> (<a href=\"https://wandb.me/run\" target=\"_blank\">docs</a>)<br/>Sweep page:  <a href=\"https://wandb.ai/sanderele1/beans-tabular-University-of-Stavanger/sweeps/k0ph9jy4\" target=\"_blank\">https://wandb.ai/sanderele1/beans-tabular-University-of-Stavanger/sweeps/k0ph9jy4</a>"
      ],
      "text/plain": [
       "<IPython.core.display.HTML object>"
      ]
     },
     "metadata": {},
     "output_type": "display_data"
    },
    {
     "name": "stderr",
     "output_type": "stream",
     "text": [
      "\u001b[34m\u001b[1mwandb\u001b[0m: \u001b[33mWARNING\u001b[0m Config item 'max_depth' was locked by 'sweep' (ignored update).\n",
      "\u001b[34m\u001b[1mwandb\u001b[0m: \u001b[33mWARNING\u001b[0m Config item 'n_estimators' was locked by 'sweep' (ignored update).\n"
     ]
    },
    {
     "name": "stdout",
     "output_type": "stream",
     "text": [
      "\n"
     ]
    },
    {
     "data": {
      "text/html": [
       "Waiting for W&B process to finish... <strong style=\"color:green\">(success).</strong>"
      ],
      "text/plain": [
       "<IPython.core.display.HTML object>"
      ]
     },
     "metadata": {},
     "output_type": "display_data"
    },
    {
     "data": {
      "text/html": [
       "<style>\n",
       "    table.wandb td:nth-child(1) { padding: 0 10px; text-align: right }\n",
       "    .wandb-row { display: flex; flex-direction: row; flex-wrap: wrap; width: 100% }\n",
       "    .wandb-col { display: flex; flex-direction: column; flex-basis: 100%; flex: 1; padding: 10px; }\n",
       "    </style>\n",
       "<div class=\"wandb-row\"><div class=\"wandb-col\"><h3>Run summary:</h3><br/><table class=\"wandb\"><tr><td>validation/accuracy</td><td>0.93439</td></tr><tr><td>validation/f1_score</td><td>0.93429</td></tr><tr><td>validation/precision</td><td>0.93425</td></tr><tr><td>validation/recall</td><td>0.93439</td></tr></table><br/></div></div>"
      ],
      "text/plain": [
       "<IPython.core.display.HTML object>"
      ]
     },
     "metadata": {},
     "output_type": "display_data"
    },
    {
     "data": {
      "text/html": [
       "Synced <strong style=\"color:#cdcd00\">wobbly-sweep-3</strong>: <a href=\"https://wandb.ai/sanderele1/beans-tabular-University-of-Stavanger/runs/326amfsi\" target=\"_blank\">https://wandb.ai/sanderele1/beans-tabular-University-of-Stavanger/runs/326amfsi</a><br/>Synced 5 W&B file(s), 0 media file(s), 1 artifact file(s) and 0 other file(s)"
      ],
      "text/plain": [
       "<IPython.core.display.HTML object>"
      ]
     },
     "metadata": {},
     "output_type": "display_data"
    },
    {
     "data": {
      "text/html": [
       "Find logs at: <code>./wandb/run-20220330_114153-326amfsi/logs</code>"
      ],
      "text/plain": [
       "<IPython.core.display.HTML object>"
      ]
     },
     "metadata": {},
     "output_type": "display_data"
    },
    {
     "name": "stderr",
     "output_type": "stream",
     "text": [
      "\u001b[34m\u001b[1mwandb\u001b[0m: Agent Starting Run: kvqm8vpu with config:\n",
      "\u001b[34m\u001b[1mwandb\u001b[0m: \tmax_depth: 23\n",
      "\u001b[34m\u001b[1mwandb\u001b[0m: \tn_estimators: 312\n"
     ]
    },
    {
     "data": {
      "text/html": [
       "Tracking run with wandb version 0.12.11"
      ],
      "text/plain": [
       "<IPython.core.display.HTML object>"
      ]
     },
     "metadata": {},
     "output_type": "display_data"
    },
    {
     "data": {
      "text/html": [
       "Run data is saved locally in <code>/home/ubuntu/project/ml/wandb/run-20220330_114215-kvqm8vpu</code>"
      ],
      "text/plain": [
       "<IPython.core.display.HTML object>"
      ]
     },
     "metadata": {},
     "output_type": "display_data"
    },
    {
     "data": {
      "text/html": [
       "Syncing run <strong><a href=\"https://wandb.ai/sanderele1/beans-tabular-University-of-Stavanger/runs/kvqm8vpu\" target=\"_blank\">sweet-sweep-4</a></strong> to <a href=\"https://wandb.ai/sanderele1/beans-tabular-University-of-Stavanger\" target=\"_blank\">Weights & Biases</a> (<a href=\"https://wandb.me/run\" target=\"_blank\">docs</a>)<br/>Sweep page:  <a href=\"https://wandb.ai/sanderele1/beans-tabular-University-of-Stavanger/sweeps/k0ph9jy4\" target=\"_blank\">https://wandb.ai/sanderele1/beans-tabular-University-of-Stavanger/sweeps/k0ph9jy4</a>"
      ],
      "text/plain": [
       "<IPython.core.display.HTML object>"
      ]
     },
     "metadata": {},
     "output_type": "display_data"
    },
    {
     "name": "stderr",
     "output_type": "stream",
     "text": [
      "\u001b[34m\u001b[1mwandb\u001b[0m: \u001b[33mWARNING\u001b[0m Config item 'max_depth' was locked by 'sweep' (ignored update).\n",
      "\u001b[34m\u001b[1mwandb\u001b[0m: \u001b[33mWARNING\u001b[0m Config item 'n_estimators' was locked by 'sweep' (ignored update).\n"
     ]
    },
    {
     "name": "stdout",
     "output_type": "stream",
     "text": [
      "\n"
     ]
    },
    {
     "data": {
      "text/html": [
       "Waiting for W&B process to finish... <strong style=\"color:green\">(success).</strong>"
      ],
      "text/plain": [
       "<IPython.core.display.HTML object>"
      ]
     },
     "metadata": {},
     "output_type": "display_data"
    },
    {
     "data": {
      "text/html": [
       "<style>\n",
       "    table.wandb td:nth-child(1) { padding: 0 10px; text-align: right }\n",
       "    .wandb-row { display: flex; flex-direction: row; flex-wrap: wrap; width: 100% }\n",
       "    .wandb-col { display: flex; flex-direction: column; flex-basis: 100%; flex: 1; padding: 10px; }\n",
       "    </style>\n",
       "<div class=\"wandb-row\"><div class=\"wandb-col\"><h3>Run summary:</h3><br/><table class=\"wandb\"><tr><td>validation/accuracy</td><td>0.93071</td></tr><tr><td>validation/f1_score</td><td>0.93062</td></tr><tr><td>validation/precision</td><td>0.93062</td></tr><tr><td>validation/recall</td><td>0.93071</td></tr></table><br/></div></div>"
      ],
      "text/plain": [
       "<IPython.core.display.HTML object>"
      ]
     },
     "metadata": {},
     "output_type": "display_data"
    },
    {
     "data": {
      "text/html": [
       "Synced <strong style=\"color:#cdcd00\">sweet-sweep-4</strong>: <a href=\"https://wandb.ai/sanderele1/beans-tabular-University-of-Stavanger/runs/kvqm8vpu\" target=\"_blank\">https://wandb.ai/sanderele1/beans-tabular-University-of-Stavanger/runs/kvqm8vpu</a><br/>Synced 5 W&B file(s), 0 media file(s), 1 artifact file(s) and 0 other file(s)"
      ],
      "text/plain": [
       "<IPython.core.display.HTML object>"
      ]
     },
     "metadata": {},
     "output_type": "display_data"
    },
    {
     "data": {
      "text/html": [
       "Find logs at: <code>./wandb/run-20220330_114215-kvqm8vpu/logs</code>"
      ],
      "text/plain": [
       "<IPython.core.display.HTML object>"
      ]
     },
     "metadata": {},
     "output_type": "display_data"
    },
    {
     "name": "stderr",
     "output_type": "stream",
     "text": [
      "\u001b[34m\u001b[1mwandb\u001b[0m: Agent Starting Run: rn56nvvz with config:\n",
      "\u001b[34m\u001b[1mwandb\u001b[0m: \tmax_depth: 3\n",
      "\u001b[34m\u001b[1mwandb\u001b[0m: \tn_estimators: 265\n"
     ]
    },
    {
     "data": {
      "text/html": [
       "Tracking run with wandb version 0.12.11"
      ],
      "text/plain": [
       "<IPython.core.display.HTML object>"
      ]
     },
     "metadata": {},
     "output_type": "display_data"
    },
    {
     "data": {
      "text/html": [
       "Run data is saved locally in <code>/home/ubuntu/project/ml/wandb/run-20220330_114239-rn56nvvz</code>"
      ],
      "text/plain": [
       "<IPython.core.display.HTML object>"
      ]
     },
     "metadata": {},
     "output_type": "display_data"
    },
    {
     "data": {
      "text/html": [
       "Syncing run <strong><a href=\"https://wandb.ai/sanderele1/beans-tabular-University-of-Stavanger/runs/rn56nvvz\" target=\"_blank\">fine-sweep-5</a></strong> to <a href=\"https://wandb.ai/sanderele1/beans-tabular-University-of-Stavanger\" target=\"_blank\">Weights & Biases</a> (<a href=\"https://wandb.me/run\" target=\"_blank\">docs</a>)<br/>Sweep page:  <a href=\"https://wandb.ai/sanderele1/beans-tabular-University-of-Stavanger/sweeps/k0ph9jy4\" target=\"_blank\">https://wandb.ai/sanderele1/beans-tabular-University-of-Stavanger/sweeps/k0ph9jy4</a>"
      ],
      "text/plain": [
       "<IPython.core.display.HTML object>"
      ]
     },
     "metadata": {},
     "output_type": "display_data"
    },
    {
     "name": "stderr",
     "output_type": "stream",
     "text": [
      "\u001b[34m\u001b[1mwandb\u001b[0m: \u001b[33mWARNING\u001b[0m Config item 'max_depth' was locked by 'sweep' (ignored update).\n",
      "\u001b[34m\u001b[1mwandb\u001b[0m: \u001b[33mWARNING\u001b[0m Config item 'n_estimators' was locked by 'sweep' (ignored update).\n",
      "/home/ubuntu/.local/lib/python3.8/site-packages/sklearn/metrics/_classification.py:1308: UndefinedMetricWarning: Precision is ill-defined and being set to 0.0 in labels with no predicted samples. Use `zero_division` parameter to control this behavior.\n",
      "  _warn_prf(average, modifier, msg_start, len(result))\n"
     ]
    },
    {
     "name": "stdout",
     "output_type": "stream",
     "text": [
      "\n"
     ]
    },
    {
     "data": {
      "text/html": [
       "Waiting for W&B process to finish... <strong style=\"color:green\">(success).</strong>"
      ],
      "text/plain": [
       "<IPython.core.display.HTML object>"
      ]
     },
     "metadata": {},
     "output_type": "display_data"
    },
    {
     "data": {
      "text/html": [
       "<style>\n",
       "    table.wandb td:nth-child(1) { padding: 0 10px; text-align: right }\n",
       "    .wandb-row { display: flex; flex-direction: row; flex-wrap: wrap; width: 100% }\n",
       "    .wandb-col { display: flex; flex-direction: column; flex-basis: 100%; flex: 1; padding: 10px; }\n",
       "    </style>\n",
       "<div class=\"wandb-row\"><div class=\"wandb-col\"><h3>Run summary:</h3><br/><table class=\"wandb\"><tr><td>validation/accuracy</td><td>0.79808</td></tr><tr><td>validation/f1_score</td><td>0.76257</td></tr><tr><td>validation/precision</td><td>0.82161</td></tr><tr><td>validation/recall</td><td>0.79808</td></tr></table><br/></div></div>"
      ],
      "text/plain": [
       "<IPython.core.display.HTML object>"
      ]
     },
     "metadata": {},
     "output_type": "display_data"
    },
    {
     "data": {
      "text/html": [
       "Synced <strong style=\"color:#cdcd00\">fine-sweep-5</strong>: <a href=\"https://wandb.ai/sanderele1/beans-tabular-University-of-Stavanger/runs/rn56nvvz\" target=\"_blank\">https://wandb.ai/sanderele1/beans-tabular-University-of-Stavanger/runs/rn56nvvz</a><br/>Synced 5 W&B file(s), 0 media file(s), 1 artifact file(s) and 0 other file(s)"
      ],
      "text/plain": [
       "<IPython.core.display.HTML object>"
      ]
     },
     "metadata": {},
     "output_type": "display_data"
    },
    {
     "data": {
      "text/html": [
       "Find logs at: <code>./wandb/run-20220330_114239-rn56nvvz/logs</code>"
      ],
      "text/plain": [
       "<IPython.core.display.HTML object>"
      ]
     },
     "metadata": {},
     "output_type": "display_data"
    },
    {
     "name": "stderr",
     "output_type": "stream",
     "text": [
      "\u001b[34m\u001b[1mwandb\u001b[0m: Agent Starting Run: gd5z42sq with config:\n",
      "\u001b[34m\u001b[1mwandb\u001b[0m: \tmax_depth: 39\n",
      "\u001b[34m\u001b[1mwandb\u001b[0m: \tn_estimators: 132\n"
     ]
    },
    {
     "data": {
      "text/html": [
       "Tracking run with wandb version 0.12.11"
      ],
      "text/plain": [
       "<IPython.core.display.HTML object>"
      ]
     },
     "metadata": {},
     "output_type": "display_data"
    },
    {
     "data": {
      "text/html": [
       "Run data is saved locally in <code>/home/ubuntu/project/ml/wandb/run-20220330_114300-gd5z42sq</code>"
      ],
      "text/plain": [
       "<IPython.core.display.HTML object>"
      ]
     },
     "metadata": {},
     "output_type": "display_data"
    },
    {
     "data": {
      "text/html": [
       "Syncing run <strong><a href=\"https://wandb.ai/sanderele1/beans-tabular-University-of-Stavanger/runs/gd5z42sq\" target=\"_blank\">sweet-sweep-6</a></strong> to <a href=\"https://wandb.ai/sanderele1/beans-tabular-University-of-Stavanger\" target=\"_blank\">Weights & Biases</a> (<a href=\"https://wandb.me/run\" target=\"_blank\">docs</a>)<br/>Sweep page:  <a href=\"https://wandb.ai/sanderele1/beans-tabular-University-of-Stavanger/sweeps/k0ph9jy4\" target=\"_blank\">https://wandb.ai/sanderele1/beans-tabular-University-of-Stavanger/sweeps/k0ph9jy4</a>"
      ],
      "text/plain": [
       "<IPython.core.display.HTML object>"
      ]
     },
     "metadata": {},
     "output_type": "display_data"
    },
    {
     "name": "stderr",
     "output_type": "stream",
     "text": [
      "\u001b[34m\u001b[1mwandb\u001b[0m: \u001b[33mWARNING\u001b[0m Config item 'max_depth' was locked by 'sweep' (ignored update).\n",
      "\u001b[34m\u001b[1mwandb\u001b[0m: \u001b[33mWARNING\u001b[0m Config item 'n_estimators' was locked by 'sweep' (ignored update).\n"
     ]
    },
    {
     "name": "stdout",
     "output_type": "stream",
     "text": [
      "\n"
     ]
    },
    {
     "data": {
      "text/html": [
       "Waiting for W&B process to finish... <strong style=\"color:green\">(success).</strong>"
      ],
      "text/plain": [
       "<IPython.core.display.HTML object>"
      ]
     },
     "metadata": {},
     "output_type": "display_data"
    },
    {
     "data": {
      "text/html": [
       "<style>\n",
       "    table.wandb td:nth-child(1) { padding: 0 10px; text-align: right }\n",
       "    .wandb-row { display: flex; flex-direction: row; flex-wrap: wrap; width: 100% }\n",
       "    .wandb-col { display: flex; flex-direction: column; flex-basis: 100%; flex: 1; padding: 10px; }\n",
       "    </style>\n",
       "<div class=\"wandb-row\"><div class=\"wandb-col\"><h3>Run summary:</h3><br/><table class=\"wandb\"><tr><td>validation/accuracy</td><td>0.93213</td></tr><tr><td>validation/f1_score</td><td>0.93204</td></tr><tr><td>validation/precision</td><td>0.932</td></tr><tr><td>validation/recall</td><td>0.93213</td></tr></table><br/></div></div>"
      ],
      "text/plain": [
       "<IPython.core.display.HTML object>"
      ]
     },
     "metadata": {},
     "output_type": "display_data"
    },
    {
     "data": {
      "text/html": [
       "Synced <strong style=\"color:#cdcd00\">sweet-sweep-6</strong>: <a href=\"https://wandb.ai/sanderele1/beans-tabular-University-of-Stavanger/runs/gd5z42sq\" target=\"_blank\">https://wandb.ai/sanderele1/beans-tabular-University-of-Stavanger/runs/gd5z42sq</a><br/>Synced 5 W&B file(s), 0 media file(s), 1 artifact file(s) and 0 other file(s)"
      ],
      "text/plain": [
       "<IPython.core.display.HTML object>"
      ]
     },
     "metadata": {},
     "output_type": "display_data"
    },
    {
     "data": {
      "text/html": [
       "Find logs at: <code>./wandb/run-20220330_114300-gd5z42sq/logs</code>"
      ],
      "text/plain": [
       "<IPython.core.display.HTML object>"
      ]
     },
     "metadata": {},
     "output_type": "display_data"
    },
    {
     "name": "stderr",
     "output_type": "stream",
     "text": [
      "\u001b[34m\u001b[1mwandb\u001b[0m: Agent Starting Run: 24qof6aw with config:\n",
      "\u001b[34m\u001b[1mwandb\u001b[0m: \tmax_depth: 87\n",
      "\u001b[34m\u001b[1mwandb\u001b[0m: \tn_estimators: 347\n"
     ]
    },
    {
     "data": {
      "text/html": [
       "Tracking run with wandb version 0.12.11"
      ],
      "text/plain": [
       "<IPython.core.display.HTML object>"
      ]
     },
     "metadata": {},
     "output_type": "display_data"
    },
    {
     "data": {
      "text/html": [
       "Run data is saved locally in <code>/home/ubuntu/project/ml/wandb/run-20220330_114322-24qof6aw</code>"
      ],
      "text/plain": [
       "<IPython.core.display.HTML object>"
      ]
     },
     "metadata": {},
     "output_type": "display_data"
    },
    {
     "data": {
      "text/html": [
       "Syncing run <strong><a href=\"https://wandb.ai/sanderele1/beans-tabular-University-of-Stavanger/runs/24qof6aw\" target=\"_blank\">peach-sweep-7</a></strong> to <a href=\"https://wandb.ai/sanderele1/beans-tabular-University-of-Stavanger\" target=\"_blank\">Weights & Biases</a> (<a href=\"https://wandb.me/run\" target=\"_blank\">docs</a>)<br/>Sweep page:  <a href=\"https://wandb.ai/sanderele1/beans-tabular-University-of-Stavanger/sweeps/k0ph9jy4\" target=\"_blank\">https://wandb.ai/sanderele1/beans-tabular-University-of-Stavanger/sweeps/k0ph9jy4</a>"
      ],
      "text/plain": [
       "<IPython.core.display.HTML object>"
      ]
     },
     "metadata": {},
     "output_type": "display_data"
    },
    {
     "name": "stderr",
     "output_type": "stream",
     "text": [
      "\u001b[34m\u001b[1mwandb\u001b[0m: \u001b[33mWARNING\u001b[0m Config item 'max_depth' was locked by 'sweep' (ignored update).\n",
      "\u001b[34m\u001b[1mwandb\u001b[0m: \u001b[33mWARNING\u001b[0m Config item 'n_estimators' was locked by 'sweep' (ignored update).\n"
     ]
    }
   ],
   "source": [
    "N_RUNS = 50 # number of runs to execute\n",
    "wandb.agent(sweep_id, project=PROJECT, function=train, count=N_RUNS)"
   ]
  },
  {
   "cell_type": "markdown",
   "metadata": {
    "id": "nf_hHZrhDe7D"
   },
   "source": [
    "# Get Submission Files From a Sweeps Run\n",
    "\n",
    "You can download the test set predictions from each Sweeps run via Artifacts. Or you can find which parameters resulted in the best trained model, and replicate that training using the training and prediction code in the first part of this notebook."
   ]
  },
  {
   "cell_type": "code",
   "execution_count": null,
   "metadata": {
    "id": "J0vTCNSsDe7E"
   },
   "outputs": [],
   "source": [
    "# Find the run_id of the best performing Sweeps run, it can be found in the URL in the W&B UI\n",
    "RUN_ID = 'abc123'"
   ]
  },
  {
   "cell_type": "code",
   "execution_count": null,
   "metadata": {
    "id": "5tb4sV3ZDe7E"
   },
   "outputs": [],
   "source": [
    "# Download the submission file from artifacts\n",
    "wandb.init(project=PROJECT, job_type='download_submission')\n",
    "artifact = wandb.use_artifact(f'{wandb.run.entity}/{PROJECT}/{RUN_ID}_submission:latest', type='submission')\n",
    "artifact_dir = artifact.download('my_submissions')\n",
    "wandb.finish()"
   ]
  },
  {
   "cell_type": "markdown",
   "metadata": {
    "id": "2A4CVu1L1zN0"
   },
   "source": [
    "# 🪄 More from W&B\n",
    "#### 🎨 Example Gallery\n",
    "\n",
    "See examples of projects tracked and visualized with W&B in our gallery, [Fully Connected→](https://app.wandb.ai/gallery)\n",
    "\n",
    "#### 🏙️ Community\n",
    "\n",
    "Join a community of ML practitioners in our\n",
    "[Discourse forum→](http://wandb.me/and-you)\n",
    "\n",
    "#### 📏 Best Practices\n",
    "\n",
    "1. **Projects**: Log multiple runs to a project to compare them. `wandb.init(project=\"project-name\")`\n",
    "2. **Groups**: For multiple processes or cross validation folds, log each process as a run and group them together. `wandb.init(group='experiment-1')`\n",
    "3. **Tags**: Add tags to track your current baseline or production model.\n",
    "4. **Notes**: Type notes in the table to track the changes between runs.\n",
    "5. **Reports**: Take quick notes on progress to share with colleagues and make dashboards and snapshots of your ML projects.\n",
    "\n",
    "#### 🤓 Advanced Setup\n",
    "\n",
    "1. [Environment variables](https://docs.wandb.com/library/environment-variables): Set API keys in environment variables so you can run training on a managed cluster.\n",
    "2. [Offline mode](https://docs.wandb.com/library/technical-faq#can-i-run-wandb-offline): Use `dryrun` mode to train offline and sync results later.\n",
    "3. [On-prem](https://docs.wandb.com/self-hosted): Install W&B in a private cloud or air-gapped servers in your own infrastructure. We have local installations for everyone from academics to enterprise teams.\n",
    "4. [Sweeps](http://wandb.me/sweeps-colab): Set up hyperparameter search quickly with our lightweight tool for tuning.\n",
    "5. [Artifacts](http://wandb.me/artifacts-colab): Track and version models and datasets in a streamlined way that automatically picks up your pipeline steps as you train models.\n",
    "6. [Tables](http://wandb.me/dsviz-nature-colab): Log, query, and analyze tabular data. Understand your datasets, visualize model predictions, and share insights in a central dashboard."
   ]
  },
  {
   "cell_type": "code",
   "execution_count": null,
   "metadata": {
    "id": "PYOijKVbDe7F"
   },
   "outputs": [],
   "source": []
  }
 ],
 "metadata": {
  "colab": {
   "collapsed_sections": [],
   "name": "W&B_and_University of Stavanger_Bean_Leaf_Classification.ipynb",
   "private_outputs": true,
   "provenance": []
  },
  "kernelspec": {
   "display_name": "Python 3 (ipykernel)",
   "language": "python",
   "name": "python3"
  },
  "language_info": {
   "codemirror_mode": {
    "name": "ipython",
    "version": 3
   },
   "file_extension": ".py",
   "mimetype": "text/x-python",
   "name": "python",
   "nbconvert_exporter": "python",
   "pygments_lexer": "ipython3",
   "version": "3.8.10"
  }
 },
 "nbformat": 4,
 "nbformat_minor": 4
}
